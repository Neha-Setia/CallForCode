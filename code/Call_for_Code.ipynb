{
 "cells": [
  {
   "cell_type": "code",
   "execution_count": 1,
   "metadata": {},
   "outputs": [],
   "source": [
    "import re\n",
    "import json\n",
    "import pandas as pd\n",
    "import numpy as np\n",
    "import matplotlib.pyplot as plt\n",
    "import codecs\n",
    "\n",
    "import websocket\n",
    "import thread\n",
    "import threading\n",
    "import time\n",
    "\n",
    "from difflib import SequenceMatcher\n",
    "import networkx as nx\n",
    "import nltk\n",
    "from nltk import word_tokenize,sent_tokenize,ne_chunk\n",
    "from nltk.corpus import stopwords\n",
    "\n",
    "from watson_developer_cloud import NaturalLanguageUnderstandingV1\n",
    "from watson_developer_cloud.natural_language_understanding_v1 \\\n",
    "  import Features, EntitiesOptions, SemanticRolesOptions, RelationsOptions, KeywordsOptions"
   ]
  },
  {
   "cell_type": "code",
   "execution_count": 2,
   "metadata": {},
   "outputs": [],
   "source": [
    "#!pip install websocket-client"
   ]
  },
  {
   "cell_type": "code",
   "execution_count": 3,
   "metadata": {},
   "outputs": [
    {
     "name": "stdout",
     "output_type": "stream",
     "text": [
      "<type 'dict'>\n"
     ]
    }
   ],
   "source": [
    "# load the configuration file.\n",
    "\n",
    "input_file  = file(\"../configuration/config_classification.txt\", \"r\")\n",
    "config_classification_json = json.loads(input_file.read().decode(\"utf-8-sig\"))\n",
    "print(type(config_classification_json))\n",
    "\n"
   ]
  },
  {
   "cell_type": "code",
   "execution_count": 4,
   "metadata": {},
   "outputs": [],
   "source": [
    "# upload NLU credentials   \n",
    "\n",
    "natural_language_understanding = NaturalLanguageUnderstandingV1(\n",
    "  username= '',\n",
    "  password='',\n",
    "  version='2017-02-27')\n",
    "\n"
   ]
  },
  {
   "cell_type": "code",
   "execution_count": 5,
   "metadata": {},
   "outputs": [],
   "source": [
    "category ={'blood', 'medicine', 'medical help', 'napkin', 'clothes','food', 'mobile recharge', 'donation', 'water'}\n",
    "seekers = [r'around.*now.*\\?', r'now.*around.*\\?',r'now.*around',r'need.*', r'need.*help',r'help.*need[ed]?',r'need.*help.*to.*contact', r'needed', r'volunteers?', r'volunteer?', r'pregnant.*lady.*stuck', r'need[s]?.*help', r'need.*without.*if',r'How.*is' ,r'any.*information,any.*info',r'Does.*anyone.*-.*.*need',r'can.*someone.*',r'someone.*can,available\\?']\n",
    "helpers = [r'if.*you.*need', r'Ready.*to.*help', r'available\\s+',r'available.*contact',r'available.*call',r'\\bif\\b.*need',r'if.*call,if.*contact',r'if.*needed',r'food.*pockets+.*call',r'volunteers.*\\?',r'volunteers.*\\?',r'needed\\?',r'need.*\\?',r'available',r'give', r'want to donate', r'ready to help', r'in need of']\n"
   ]
  },
  {
   "cell_type": "code",
   "execution_count": 6,
   "metadata": {},
   "outputs": [],
   "source": [
    "def analyze_using_NLU(text_content):\n",
    "    '''\n",
    "    Call Watson Natural Language Understanding service to obtain analysis results.\n",
    "    '''\n",
    "    response = natural_language_understanding.analyze(\n",
    "        text= text_content,\n",
    "        features=Features(\n",
    "        entities=EntitiesOptions(),\n",
    "#         relations=RelationsOptions(),\n",
    "#         keywords= KeywordsOptions())\n",
    "    ))\n",
    "    return response"
   ]
  },
  {
   "cell_type": "code",
   "execution_count": 7,
   "metadata": {},
   "outputs": [],
   "source": [
    "def split_sentences(text):\n",
    "    \"\"\" Split text into sentences.\n",
    "    \"\"\"\n",
    "    sentence_delimiters = re.compile(u'[\\\\[\\\\]\\n.!?]')\n",
    "    sentences = sentence_delimiters.split(text)\n",
    "    return sentences\n",
    "\n",
    "def split_into_tokens(text):\n",
    "    \"\"\" Split text into tokens.\n",
    "    \"\"\"\n",
    "    tokens = nltk.word_tokenize(text)\n",
    "    return tokens\n",
    "    \n",
    "def POS_tagging(text):\n",
    "    \"\"\" Generate Part of speech tagging of the text.\n",
    "    \"\"\"\n",
    "    POSofText = nltk.tag.pos_tag(text)\n",
    "    return POSofText\n",
    "\n",
    "def keyword_tagging(tag,tagtext,text):\n",
    "    \"\"\" Tag the text matching keywords.\n",
    "    \"\"\"\n",
    "    if (text.lower().find(tagtext.lower()) != -1):\n",
    "        return text[text.lower().find(tagtext.lower()):text.lower().find(tagtext.lower())+len(tagtext)]\n",
    "    else:\n",
    "        return 'UNKNOWN'\n",
    "    \n",
    "def regex_tagging(tag,regex,text):\n",
    "    \"\"\" Tag the text matching REGEX.\n",
    "    \"\"\"    \n",
    "    p = re.compile(regex, re.IGNORECASE)\n",
    "    matchtext = p.findall(text)\n",
    "    regex_list=[]    \n",
    "    if (len(matchtext)>0):\n",
    "        for regword in matchtext:\n",
    "            regex_list.append(regword)\n",
    "    return regex_list\n",
    "\n",
    "def chunk_tagging(tag,chunk,text):\n",
    "    \"\"\" Tag the text using chunking.\n",
    "    \"\"\"\n",
    "    parsed_cp = nltk.RegexpParser(chunk)\n",
    "    pos_cp = parsed_cp.parse(text)\n",
    "    chunk_list=[]\n",
    "    for root in pos_cp:\n",
    "        if isinstance(root, nltk.tree.Tree):               \n",
    "            if root.label() == tag:\n",
    "                chunk_word = ''\n",
    "                for child_root in root:\n",
    "                    chunk_word = chunk_word +' '+ child_root[0]\n",
    "                chunk_list.append(chunk_word)\n",
    "    return chunk_list\n",
    "    \n",
    "def augument_NLUResponse(responsejson,updateType,text,tag):\n",
    "    \"\"\" Update the NLU response JSON with augumented classifications.\n",
    "    \"\"\"\n",
    "    if(updateType == 'keyword'):\n",
    "        if not any(d.get('text', None) == text for d in responsejson['keywords']):\n",
    "            responsejson['keywords'].append({\"text\":text,\"relevance\":0.5})\n",
    "    else:\n",
    "        if not any(d['text'].replace('#', \" \") in text if '#' in d['text'] else d['text'] in text  for d in responsejson['entities']):\n",
    "            responsejson['entities'].append({\"type\":tag,\"text\":text,\"relevance\":0.5,\"count\":1})        \n",
    "    \n",
    "\n",
    "def classify_text(text, config):\n",
    "    \"\"\" Perform augumented classification of the text.\n",
    "    \"\"\"\n",
    "    \n",
    "    response = analyze_using_NLU(text)\n",
    "    responsejson = response\n",
    "    \n",
    "    sentenceList = split_sentences(text)\n",
    "    \n",
    "    tokens = split_into_tokens(text)\n",
    "    \n",
    "    postags = POS_tagging(tokens)\n",
    "    \n",
    "    configjson = config\n",
    "    \n",
    "    for stages in configjson['configuration']['classification']['stages']:\n",
    "        for steps in stages['steps']:\n",
    "            if (steps['type'] == 'keywords'):\n",
    "                for keyword in steps['keywords']:\n",
    "                    for word in sentenceList:\n",
    "                        wordtag = keyword_tagging(keyword['tag'],keyword['text'],word)\n",
    "                        if(wordtag != 'UNKNOWN'):\n",
    "                            augument_NLUResponse(responsejson,'entities',wordtag,keyword['tag'])\n",
    "            elif(steps['type'] == 'd_regex'):\n",
    "                for regex in steps['d_regex']:\n",
    "                    for word in sentenceList:\n",
    "                        regextags = regex_tagging(regex['tag'],regex['pattern'],word)\n",
    "                        if (len(regextags)>0):\n",
    "                            for words in regextags:\n",
    "                                augument_NLUResponse(responsejson,'entities',words,regex['tag'])\n",
    "            elif(steps['type'] == 'chunking'):\n",
    "                for chunk in steps['chunk']:\n",
    "                    chunktags = chunk_tagging(chunk['tag'],chunk['pattern'],postags)\n",
    "                    if (len(chunktags)>0):\n",
    "                        for words in chunktags:\n",
    "                            augument_NLUResponse(responsejson,'entities',words,chunk['tag'])\n",
    "            else:\n",
    "                print('UNKNOWN STEP')\n",
    "    \n",
    "    return responsejson\n",
    "\n",
    "def replace_unicode_strings(response):\n",
    "    \"\"\" Convert dict with unicode strings to strings.\n",
    "    \"\"\"\n",
    "    if isinstance(response, dict):\n",
    "        return {replace_unicode_strings(key): replace_unicode_strings(value) for key, value in response.iteritems()}\n",
    "    elif isinstance(response, list):\n",
    "        return [replace_unicode_strings(element) for element in response]\n",
    "    elif isinstance(response, unicode):\n",
    "        return response.encode('utf-8')\n",
    "    else:\n",
    "        return response"
   ]
  },
  {
   "cell_type": "code",
   "execution_count": 8,
   "metadata": {},
   "outputs": [],
   "source": [
    "tweet_1 = \"If you Need medical help in Royapuram, call Dr. Raghul 09944611395,can assist over phone also #ChennaiVolunteer #ChennaiRainsHelp\"\n",
    "tweet_2 = \"Anybody in need of mobile recharge, contact Sahil on 919962335383. #ChennaiRainsHelp Please RT!\"\n",
    "tweet_3 = \"Medicines available at Apollo Pharmacy - Free home delivery, Call 18605000101 #ChennaiVolunteer #ChennaiRainsHelp\"\n",
    "tweet_4 = \"+919884788862 Ramnath. He and 3 others want to donate blood. #ChennaiVolunteer #ChennaiRains\"\n",
    "tweet_5 = \"Nandambakkam cantonment marraige hall has 700 people who need food ph: 9944422220 #chennairescue\"\n",
    "tweet_6 = \"Anybody in need of food contact Vijay on 9646118841 #chennairescue\"\n",
    "tweets = [tweet_1,tweet_2, tweet_3, tweet_4, tweet_5, tweet_6 ]"
   ]
  },
  {
   "cell_type": "code",
   "execution_count": 9,
   "metadata": {},
   "outputs": [
    {
     "data": {
      "text/plain": [
       "['If you Need medical help in Royapuram, call Dr. Raghul 09944611395,can assist over phone also #ChennaiVolunteer #ChennaiRainsHelp',\n",
       " 'Anybody in need of mobile recharge, contact Sahil on 919962335383. #ChennaiRainsHelp Please RT!',\n",
       " 'Medicines available at Apollo Pharmacy - Free home delivery, Call 18605000101 #ChennaiVolunteer #ChennaiRainsHelp',\n",
       " '+919884788862 Ramnath. He and 3 others want to donate blood. #ChennaiVolunteer #ChennaiRains',\n",
       " 'Nandambakkam cantonment marraige hall has 700 people who need food ph: 9944422220 #chennairescue',\n",
       " 'Anybody in need of food contact Vijay on 9646118841 #chennairescue']"
      ]
     },
     "execution_count": 9,
     "metadata": {},
     "output_type": "execute_result"
    }
   ],
   "source": [
    "tweets"
   ]
  },
  {
   "cell_type": "code",
   "execution_count": null,
   "metadata": {},
   "outputs": [],
   "source": []
  },
  {
   "cell_type": "code",
   "execution_count": 10,
   "metadata": {},
   "outputs": [
    {
     "name": "stdout",
     "output_type": "stream",
     "text": [
      "Need medical help in Royapuram, call Dr. Raghul 09944611395,can assist over phone also #ChennaiVolunteer #ChennaiRainsHelp\n",
      "Need medical help in Royapuram, call Dr. Raghul 09944611395,can assist over phone also #ChennaiVolunteer #ChennaiRainsHelp\n",
      "Volunteer\n",
      "Volunteer\n",
      "Need medical help in Royapuram, call Dr. Raghul 09944611395,can assist over phone also #ChennaiVolunteer #ChennaiRainsHelp\n",
      "If you Need\n",
      "If you Need\n",
      "medical help\n",
      "#######\n",
      "Dr. Raghul\n",
      "#######\n",
      "0994461139\n",
      "#######\n",
      "need of mobile recharge, contact Sahil on 919962335383. #ChennaiRainsHelp Please RT!\n",
      "need of mobile recharge, contact Sahil on 919962335383. #ChennaiRainsHelp\n",
      "need of mobile recharge, contact Sahil on 919962335383. #ChennaiRainsHelp\n",
      "in need of\n",
      "mobile recharge\n",
      "#######\n",
      "Sahil\n",
      "#######\n",
      "9199623353\n",
      "#######\n",
      "Volunteer\n",
      "Volunteer\n",
      "available \n",
      "available at Apollo Pharmacy - Free home delivery, Call\n",
      "available\n",
      "medicine\n",
      "#######\n",
      "Apollo Pharmacy\n",
      "#######\n",
      "1860500010\n",
      "#######\n",
      "Volunteer\n",
      "Volunteer\n",
      "want to donate\n",
      "blood\n",
      "#######\n",
      "9198847888\n",
      "#######\n",
      " Ramnath\n",
      "#######\n",
      "need food ph: 9944422220 #chennairescue\n",
      "food\n",
      "#######\n",
      "9944422220\n",
      "#######\n",
      " Nandambakkam\n",
      "#######\n",
      "need of food contact Vijay on 9646118841 #chennairescue\n",
      "in need of\n",
      "food\n",
      "#######\n",
      "Vijay\n",
      "#######\n",
      "9646118841\n",
      "#######\n"
     ]
    }
   ],
   "source": [
    "list_of_people=[]\n",
    "for tweet in tweets:\n",
    "    json = classify_text(tweet,config_classification_json)\n",
    "    dict_of_people ={} \n",
    "\n",
    "    max_ratio_item={}\n",
    "    \n",
    "    \n",
    "    for i in seekers:\n",
    "        if(re.search(i, tweet, re.IGNORECASE)):\n",
    "            dict_of_people['classification'] = \"seeker\"\n",
    "            print(re.search(i, tweet, re.IGNORECASE).group())\n",
    "\n",
    "\n",
    "    for i in helpers:\n",
    "        if(re.search(i, tweet, re.IGNORECASE)):\n",
    "            dict_of_people['classification'] = \"helper\"\n",
    "            print(re.search(i, tweet, re.IGNORECASE).group())\n",
    "\n",
    "\n",
    "\n",
    "\n",
    "    for item in category:\n",
    "        s = SequenceMatcher(None,item, tweet)\n",
    "        max_ratio_item[s.ratio()] = item\n",
    "\n",
    "\n",
    "    import collections\n",
    "    od = collections.OrderedDict(sorted(max_ratio_item.items()))\n",
    "    for ratio, item in od.iteritems():\n",
    "        if(item.lower() in tweet.lower()):\n",
    "            print(item)\n",
    "            dict_of_people['category'] = item\n",
    "            print(\"#######\") \n",
    "\n",
    "    for entity in range(len(json['entities'])):\n",
    "        if(json['entities'][entity]['type'] == 'Person' or  json['entities'][entity]['type'] == 'NAME' or json['entities'][entity]['type'] == 'Company'):\n",
    "            print(json['entities'][entity]['text'])\n",
    "            dict_of_people['name'] = json['entities'][entity]['text']\n",
    "            print(\"#######\")\n",
    "        if(json['entities'][entity]['type'] == 'PhoneNumber'):\n",
    "            print(json['entities'][entity]['text'])\n",
    "            dict_of_people['PhoneNumber'] = json['entities'][entity]['text']\n",
    "            print(\"#######\")\n",
    "            \n",
    "    list_of_people.append(dict_of_people)\n",
    "\n",
    "\n",
    "\n",
    "\n"
   ]
  },
  {
   "cell_type": "code",
   "execution_count": 11,
   "metadata": {},
   "outputs": [
    {
     "data": {
      "text/plain": [
       "[{'PhoneNumber': '0994461139',\n",
       "  'category': 'medical help',\n",
       "  'classification': 'helper',\n",
       "  'name': u'Dr. Raghul'},\n",
       " {'PhoneNumber': '9199623353',\n",
       "  'category': 'mobile recharge',\n",
       "  'classification': 'helper',\n",
       "  'name': u'Sahil'},\n",
       " {'PhoneNumber': '1860500010',\n",
       "  'category': 'medicine',\n",
       "  'classification': 'helper',\n",
       "  'name': u'Apollo Pharmacy'},\n",
       " {'PhoneNumber': '9198847888',\n",
       "  'category': 'blood',\n",
       "  'classification': 'helper',\n",
       "  'name': ' Ramnath'},\n",
       " {'PhoneNumber': '9944422220',\n",
       "  'category': 'food',\n",
       "  'classification': 'seeker',\n",
       "  'name': ' Nandambakkam'},\n",
       " {'PhoneNumber': '9646118841',\n",
       "  'category': 'food',\n",
       "  'classification': 'helper',\n",
       "  'name': u'Vijay'}]"
      ]
     },
     "execution_count": 11,
     "metadata": {},
     "output_type": "execute_result"
    }
   ],
   "source": [
    "list_of_people"
   ]
  },
  {
   "cell_type": "code",
   "execution_count": 12,
   "metadata": {},
   "outputs": [],
   "source": [
    "list_of_people_dataframe = pd.DataFrame(list_of_people)"
   ]
  },
  {
   "cell_type": "code",
   "execution_count": 13,
   "metadata": {},
   "outputs": [
    {
     "data": {
      "text/html": [
       "<div>\n",
       "<style>\n",
       "    .dataframe thead tr:only-child th {\n",
       "        text-align: right;\n",
       "    }\n",
       "\n",
       "    .dataframe thead th {\n",
       "        text-align: left;\n",
       "    }\n",
       "\n",
       "    .dataframe tbody tr th {\n",
       "        vertical-align: top;\n",
       "    }\n",
       "</style>\n",
       "<table border=\"1\" class=\"dataframe\">\n",
       "  <thead>\n",
       "    <tr style=\"text-align: right;\">\n",
       "      <th></th>\n",
       "      <th>PhoneNumber</th>\n",
       "      <th>category</th>\n",
       "      <th>classification</th>\n",
       "      <th>name</th>\n",
       "    </tr>\n",
       "  </thead>\n",
       "  <tbody>\n",
       "    <tr>\n",
       "      <th>0</th>\n",
       "      <td>0994461139</td>\n",
       "      <td>medical help</td>\n",
       "      <td>helper</td>\n",
       "      <td>Dr. Raghul</td>\n",
       "    </tr>\n",
       "    <tr>\n",
       "      <th>1</th>\n",
       "      <td>9199623353</td>\n",
       "      <td>mobile recharge</td>\n",
       "      <td>helper</td>\n",
       "      <td>Sahil</td>\n",
       "    </tr>\n",
       "    <tr>\n",
       "      <th>2</th>\n",
       "      <td>1860500010</td>\n",
       "      <td>medicine</td>\n",
       "      <td>helper</td>\n",
       "      <td>Apollo Pharmacy</td>\n",
       "    </tr>\n",
       "    <tr>\n",
       "      <th>3</th>\n",
       "      <td>9198847888</td>\n",
       "      <td>blood</td>\n",
       "      <td>helper</td>\n",
       "      <td>Ramnath</td>\n",
       "    </tr>\n",
       "    <tr>\n",
       "      <th>4</th>\n",
       "      <td>9944422220</td>\n",
       "      <td>food</td>\n",
       "      <td>seeker</td>\n",
       "      <td>Nandambakkam</td>\n",
       "    </tr>\n",
       "    <tr>\n",
       "      <th>5</th>\n",
       "      <td>9646118841</td>\n",
       "      <td>food</td>\n",
       "      <td>helper</td>\n",
       "      <td>Vijay</td>\n",
       "    </tr>\n",
       "  </tbody>\n",
       "</table>\n",
       "</div>"
      ],
      "text/plain": [
       "  PhoneNumber         category classification             name\n",
       "0  0994461139     medical help         helper       Dr. Raghul\n",
       "1  9199623353  mobile recharge         helper            Sahil\n",
       "2  1860500010         medicine         helper  Apollo Pharmacy\n",
       "3  9198847888            blood         helper          Ramnath\n",
       "4  9944422220             food         seeker     Nandambakkam\n",
       "5  9646118841             food         helper            Vijay"
      ]
     },
     "execution_count": 13,
     "metadata": {},
     "output_type": "execute_result"
    }
   ],
   "source": [
    "list_of_people_dataframe"
   ]
  },
  {
   "cell_type": "code",
   "execution_count": 14,
   "metadata": {},
   "outputs": [],
   "source": [
    "list_of_people_dataframe['relationship'] = np.where(list_of_people_dataframe['classification'] == 'helper', 'provides', 'seeking')"
   ]
  },
  {
   "cell_type": "code",
   "execution_count": 15,
   "metadata": {},
   "outputs": [
    {
     "name": "stdout",
     "output_type": "stream",
     "text": [
      "(u'Dr. Raghul', 'provides', 'medical help')\n",
      "(u'Sahil', 'provides', 'mobile recharge')\n",
      "(u'Apollo Pharmacy', 'provides', 'medicine')\n",
      "(' Ramnath', 'provides', 'blood')\n",
      "(' Nandambakkam', 'seeking', 'food')\n",
      "(u'Vijay', 'provides', 'food')\n"
     ]
    }
   ],
   "source": [
    "graph= []\n",
    "for index, row in list_of_people_dataframe.iterrows():\n",
    "    tuplerel=[]\n",
    "    tuplerel.append(row['name'])\n",
    "    tuplerel.append(row['relationship'])\n",
    "    tuplerel.append(row['category'])\n",
    "    print(tuple(tuplerel))\n",
    "    graph.append(tuple(tuplerel))"
   ]
  },
  {
   "cell_type": "code",
   "execution_count": 16,
   "metadata": {},
   "outputs": [
    {
     "data": {
      "text/plain": [
       "[(u'Dr. Raghul', 'provides', 'medical help'),\n",
       " (u'Sahil', 'provides', 'mobile recharge'),\n",
       " (u'Apollo Pharmacy', 'provides', 'medicine'),\n",
       " (' Ramnath', 'provides', 'blood'),\n",
       " (' Nandambakkam', 'seeking', 'food'),\n",
       " (u'Vijay', 'provides', 'food')]"
      ]
     },
     "execution_count": 16,
     "metadata": {},
     "output_type": "execute_result"
    }
   ],
   "source": [
    "graph"
   ]
  },
  {
   "cell_type": "code",
   "execution_count": 17,
   "metadata": {},
   "outputs": [],
   "source": [
    "def draw_simple_graph(graph):\n",
    "\n",
    "    nodes = []\n",
    "    labels = []\n",
    "    edges = []\n",
    "    # extract nodes from graph\n",
    "    for tuples in graph:\n",
    "        nodes.append(tuples[0])\n",
    "        nodes.append(tuples[2])\n",
    "        \n",
    "    # extract edges from graph\n",
    "    for edgepairs in graph:\n",
    "        edges.append((edgepairs[0],edgepairs[2]))        \n",
    "    # extract edge labels from graph\n",
    "    for edgetuples in graph:\n",
    "        labels.append(edgetuples[1])\n",
    "    # create networkx graph\n",
    "    G=nx.Graph()\n",
    "    # add nodes\n",
    "    for node in nodes:\n",
    "        G.add_node(node)\n",
    "    # add edges\n",
    "    for edgetuples in graph:\n",
    "        G.add_edge(edgetuples[0], edgetuples[2], relation=edgetuples[1])\n",
    "\n",
    "    # draw graph\n",
    "    pos = nx.circular_layout(G,dim=2)\n",
    "    print(pos)\n",
    "    d = nx.degree(G)\n",
    "    nx.draw(G, pos,with_labels = True, font_size=10)\n",
    "    edge_labels = dict(zip(edges, labels))\n",
    "    nx.draw_networkx_edge_labels(G, pos, edge_labels = edge_labels , font_size=8)\n",
    "\n",
    "    # show graph\n",
    "    plt.show()\n",
    "    \n",
    "    return G, pos, edge_labels \n",
    "\n",
    "\n",
    "# d = nx.degree(g)\n",
    "\n",
    "# nx.draw(g, nodelist=d.keys(), node_size=[v * 100 for v in d.values()])\n",
    "# plt.show()"
   ]
  },
  {
   "cell_type": "code",
   "execution_count": 18,
   "metadata": {},
   "outputs": [
    {
     "name": "stdout",
     "output_type": "stream",
     "text": [
      "{'food': array([ 0.98982149,  0.5       ], dtype=float32), 'medical help': array([ 0.15388249,  0.8817606 ], dtype=float32), 'mobile recharge': array([ 0.69452327,  0.95949298], dtype=float32), u'Dr. Raghul': array([ 0.41279078,  1.        ], dtype=float32), u'Sahil': array([ 0.90963203,  0.7731002 ], dtype=float32), 'blood': array([  3.01087866e-08,   6.42314851e-01], dtype=float32), ' Ramnath': array([ 0.        ,  0.35768527], dtype=float32), 'medicine': array([ 0.15388237,  0.11823949], dtype=float32), u'Apollo Pharmacy': array([ 0.41279063,  0.        ], dtype=float32), u'Vijay': array([ 0.6945231 ,  0.04050695], dtype=float32), ' Nandambakkam': array([ 0.90963197,  0.22689979], dtype=float32)}\n"
     ]
    },
    {
     "data": {
      "image/png": "[encoded data removed]",
      "text/plain": [
       "<matplotlib.figure.Figure at 0x1161aea50>"
      ]
     },
     "metadata": {},
     "output_type": "display_data"
    }
   ],
   "source": [
    "# create networkx graph\n",
    "G=nx.Graph()\n",
    "\n",
    "G, pos, edge_labels=  draw_simple_graph(graph)"
   ]
  },
  {
   "cell_type": "code",
   "execution_count": 19,
   "metadata": {},
   "outputs": [
    {
     "data": {
      "text/plain": [
       "[('food', u'Vijay', {'relation': 'provides'}),\n",
       " ('food', ' Nandambakkam', {'relation': 'seeking'}),\n",
       " (u'Sahil', 'mobile recharge', {'relation': 'provides'}),\n",
       " (u'Dr. Raghul', 'medical help', {'relation': 'provides'}),\n",
       " ('blood', ' Ramnath', {'relation': 'provides'}),\n",
       " ('medicine', u'Apollo Pharmacy', {'relation': 'provides'})]"
      ]
     },
     "execution_count": 19,
     "metadata": {},
     "output_type": "execute_result"
    }
   ],
   "source": [
    "edgeDict = G.edges(data=True)\n",
    "edgeDict\n"
   ]
  },
  {
   "cell_type": "code",
   "execution_count": 20,
   "metadata": {},
   "outputs": [],
   "source": [
    "def creategraphDataframe():\n",
    "    f = lambda x,index:tuple( i[index] for i in x)\n",
    "\n",
    "    tup1 = f(edgeDict,0)\n",
    "    tup2 = f(edgeDict,1)\n",
    "    tup3 = f(edgeDict,2)\n",
    "    tup4 =[]\n",
    "#     print tup1\n",
    "#     print tup2\n",
    "#     print tup3[0].values()\n",
    "\n",
    "    for i in range(len(tup3)):\n",
    "        tup4.append(tup3[i]['relation'])\n",
    "\n",
    "#     print tup4\n",
    "\n",
    "    graph_dataframe = pd.DataFrame(list(zip(tup1, tup2, tup4)), columns=['node_1','node_2', 'relation'])\n",
    "    return graph_dataframe"
   ]
  },
  {
   "cell_type": "code",
   "execution_count": 21,
   "metadata": {},
   "outputs": [
    {
     "data": {
      "text/html": [
       "<div>\n",
       "<style>\n",
       "    .dataframe thead tr:only-child th {\n",
       "        text-align: right;\n",
       "    }\n",
       "\n",
       "    .dataframe thead th {\n",
       "        text-align: left;\n",
       "    }\n",
       "\n",
       "    .dataframe tbody tr th {\n",
       "        vertical-align: top;\n",
       "    }\n",
       "</style>\n",
       "<table border=\"1\" class=\"dataframe\">\n",
       "  <thead>\n",
       "    <tr style=\"text-align: right;\">\n",
       "      <th></th>\n",
       "      <th>node_1</th>\n",
       "      <th>node_2</th>\n",
       "      <th>relation</th>\n",
       "    </tr>\n",
       "  </thead>\n",
       "  <tbody>\n",
       "    <tr>\n",
       "      <th>0</th>\n",
       "      <td>food</td>\n",
       "      <td>Vijay</td>\n",
       "      <td>provides</td>\n",
       "    </tr>\n",
       "    <tr>\n",
       "      <th>1</th>\n",
       "      <td>food</td>\n",
       "      <td>Nandambakkam</td>\n",
       "      <td>seeking</td>\n",
       "    </tr>\n",
       "    <tr>\n",
       "      <th>2</th>\n",
       "      <td>Sahil</td>\n",
       "      <td>mobile recharge</td>\n",
       "      <td>provides</td>\n",
       "    </tr>\n",
       "    <tr>\n",
       "      <th>3</th>\n",
       "      <td>Dr. Raghul</td>\n",
       "      <td>medical help</td>\n",
       "      <td>provides</td>\n",
       "    </tr>\n",
       "    <tr>\n",
       "      <th>4</th>\n",
       "      <td>blood</td>\n",
       "      <td>Ramnath</td>\n",
       "      <td>provides</td>\n",
       "    </tr>\n",
       "    <tr>\n",
       "      <th>5</th>\n",
       "      <td>medicine</td>\n",
       "      <td>Apollo Pharmacy</td>\n",
       "      <td>provides</td>\n",
       "    </tr>\n",
       "  </tbody>\n",
       "</table>\n",
       "</div>"
      ],
      "text/plain": [
       "       node_1           node_2  relation\n",
       "0        food            Vijay  provides\n",
       "1        food     Nandambakkam   seeking\n",
       "2       Sahil  mobile recharge  provides\n",
       "3  Dr. Raghul     medical help  provides\n",
       "4       blood          Ramnath  provides\n",
       "5    medicine  Apollo Pharmacy  provides"
      ]
     },
     "execution_count": 21,
     "metadata": {},
     "output_type": "execute_result"
    }
   ],
   "source": [
    "graph_dataframe = creategraphDataframe()\n",
    "graph_dataframe"
   ]
  },
  {
   "cell_type": "code",
   "execution_count": 22,
   "metadata": {},
   "outputs": [],
   "source": [
    "def get_mapping_d3_network():\n",
    "    \"\"\" Create an mapping json for display by d3js network widget\n",
    "    \"\"\"\n",
    "    nodes =[]\n",
    "    links =[] \n",
    "    nodes_array = []\n",
    "    result = {}\n",
    "    for index, row in graph_dataframe.iterrows():\n",
    "        node1 = row['node_1']\n",
    "        node2 = row['node_2']\n",
    "        \n",
    "        relation = row['relation']\n",
    "        node = {}\n",
    "        node['id'] = node1\n",
    "        if node not in nodes:\n",
    "            nodes.append(node)\n",
    "        \n",
    "        node = {}\n",
    "        node['id'] = node2\n",
    "        if node not in nodes:\n",
    "            nodes.append(node)\n",
    "            \n",
    "        link = {}\n",
    "        link['source'] = node1\n",
    "        link['target'] = node2\n",
    "        link['value'] = relation\n",
    "        links.append(link)\n",
    "    i = 1\n",
    "    for node in nodes:\n",
    "        node['group'] = i\n",
    "        i = i+1\n",
    "        \n",
    "    result[\"nodes\"] = nodes\n",
    "    result[\"links\"] = links\n",
    "    return result"
   ]
  },
  {
   "cell_type": "code",
   "execution_count": 23,
   "metadata": {},
   "outputs": [],
   "source": [
    "def get_mapping_filter_d3_network(src,tgt):\n",
    "    \"\"\" Create an mapping json for display by d3js network widget\n",
    "    \"\"\"\n",
    "    nodes =[]\n",
    "    links =[] \n",
    "    nodes_array = []\n",
    "    result = {}\n",
    "    for index, row in graph_dataframe.iterrows():\n",
    "        node1 = row['node_1']\n",
    "        node2 = row['node_2']\n",
    "        \n",
    "        relation = row['relation']\n",
    "        node = {}\n",
    "        node['id'] = node1\n",
    "        if node1 == tgt:\n",
    "            node['filter'] = 1\n",
    "        elif node1 == src:\n",
    "            node['filter'] = 1\n",
    "        else:  \n",
    "            node['filter'] = 0\n",
    "        if node not in nodes:\n",
    "            nodes.append(node)\n",
    "        \n",
    "        node = {}\n",
    "        node['id'] = node2\n",
    "        if node2 == tgt:\n",
    "            node['filter'] = 1\n",
    "        elif node2 == src:\n",
    "            node['filter'] = 1\n",
    "        else:  \n",
    "            node['filter'] = 0\n",
    "        if node not in nodes:\n",
    "            nodes.append(node)\n",
    "            \n",
    "        link = {}\n",
    "        \n",
    "       \n",
    "        link['source'] = node1\n",
    "        link['target'] = node2\n",
    "        link['value'] = relation\n",
    "        link['filter'] = 0\n",
    "        if ((node1==src) and (node2==tgt) or (node2==src) and (node1==tgt)):\n",
    "            link['filter'] = 1\n",
    "           \n",
    "        links.append(link)\n",
    "    i = 1\n",
    "    for node in nodes:\n",
    "        node['group'] = i\n",
    "        i = i+1\n",
    "        \n",
    "    result[\"nodes\"] = nodes\n",
    "    result[\"links\"] = links\n",
    "    return result"
   ]
  },
  {
   "cell_type": "code",
   "execution_count": 24,
   "metadata": {},
   "outputs": [
    {
     "data": {
      "text/plain": [
       "{'links': [{'source': 'food', 'target': u'Vijay', 'value': 'provides'},\n",
       "  {'source': 'food', 'target': ' Nandambakkam', 'value': 'seeking'},\n",
       "  {'source': u'Sahil', 'target': 'mobile recharge', 'value': 'provides'},\n",
       "  {'source': u'Dr. Raghul', 'target': 'medical help', 'value': 'provides'},\n",
       "  {'source': 'blood', 'target': ' Ramnath', 'value': 'provides'},\n",
       "  {'source': 'medicine', 'target': u'Apollo Pharmacy', 'value': 'provides'}],\n",
       " 'nodes': [{'group': 1, 'id': 'food'},\n",
       "  {'group': 2, 'id': u'Vijay'},\n",
       "  {'group': 3, 'id': ' Nandambakkam'},\n",
       "  {'group': 4, 'id': u'Sahil'},\n",
       "  {'group': 5, 'id': 'mobile recharge'},\n",
       "  {'group': 6, 'id': u'Dr. Raghul'},\n",
       "  {'group': 7, 'id': 'medical help'},\n",
       "  {'group': 8, 'id': 'blood'},\n",
       "  {'group': 9, 'id': ' Ramnath'},\n",
       "  {'group': 10, 'id': 'medicine'},\n",
       "  {'group': 11, 'id': u'Apollo Pharmacy'}]}"
      ]
     },
     "execution_count": 24,
     "metadata": {},
     "output_type": "execute_result"
    }
   ],
   "source": [
    "get_mapping_d3_network()"
   ]
  },
  {
   "cell_type": "code",
   "execution_count": 25,
   "metadata": {},
   "outputs": [],
   "source": [
    "questions_strings = [\"who provides food?\", \" who provides mobile recharge?\", \" Who provides medicine?\", \"who is seeking food?\"]"
   ]
  },
  {
   "cell_type": "code",
   "execution_count": 26,
   "metadata": {},
   "outputs": [],
   "source": [
    "''' for string matching import these libraries'''\n",
    "from fuzzywuzzy import fuzz\n",
    "from fuzzywuzzy import process\n",
    "    "
   ]
  },
  {
   "cell_type": "code",
   "execution_count": 27,
   "metadata": {},
   "outputs": [],
   "source": [
    "''' algortihm pick nouns and verbs in the question look for the combination in the graph and get the answer'''\n",
    "def getAnswerNodeFromGraph(graph_dataframe, nnList, vbzList):\n",
    "    max_score_nn=0\n",
    "    relation=''\n",
    "    max_score_nnp=0\n",
    "    matched_node =''\n",
    "    answer_node =''\n",
    "    total_score_node1=0 \n",
    "    total_score_node2=0\n",
    "    n = 0\n",
    "    score=0\n",
    "    for index, row in graph_dataframe.iterrows():\n",
    "        total_score_node1 = 0\n",
    "        total_score_node2 = 0\n",
    "\n",
    "        for i in vbzList:\n",
    "            score = fuzz.token_sort_ratio(row['relation'], i)\n",
    "            if(score > max_score_nn):\n",
    "                max_score_nn = score\n",
    "                relation = row['relation']\n",
    "\n",
    "        for i in nnList:\n",
    "            total_score_node1 += fuzz.partial_ratio(row['node_1'], i)\n",
    "            average_score_node1 = total_score_node1/len(nnList)\n",
    "            total_score_node2 += fuzz.partial_ratio(row['node_2'], i)\n",
    "            average_score_node2 = total_score_node2/len(nnList)\n",
    "#         print average_score_node1, average_score_node2, score\n",
    "\n",
    "        if((average_score_node1 > average_score_node2) & (score > 70)):\n",
    "            if((average_score_node1 > max_score_nnp) ):\n",
    "                max_score_nnp = average_score_node1\n",
    "                matched_node = row['node_1']\n",
    "                n = 1\n",
    "        elif((average_score_node1 < average_score_node2) & (score > 70)):\n",
    "            if(average_score_node2 > max_score_nnp ):\n",
    "                max_score_nnp = average_score_node2\n",
    "                matched_node = row['node_2']\n",
    "                n =2 \n",
    "\n",
    "    # Create variable with TRUE if relation found\n",
    "    relation_match = graph_dataframe['relation'] == relation\n",
    "\n",
    "    # Create variable with TRUE if matched_node found in node_1 column\n",
    "    node1_match = graph_dataframe['node_1'] == matched_node \n",
    "\n",
    "    # Create variable with TRUE if matched_node found in node_1 column\n",
    "    node2_match = graph_dataframe['node_2'] == matched_node\n",
    "\n",
    "    # Select all casess where nationality is USA and age is greater than 50\n",
    "    ans = \"\"\n",
    "    if(n==1):\n",
    "        ans = graph_dataframe[relation_match & (node1_match | node2_match)]['node_2'].values\n",
    "    else:\n",
    "        ans = graph_dataframe[relation_match & (node1_match | node2_match)]['node_1'].values  \n",
    "    \n",
    "    response = {}\n",
    "    response['src'] = matched_node\n",
    "    print('source node is ' + response['src'])\n",
    "    response['tgt'] = ans[0]    \n",
    "    print('answer is '+ response['tgt'])\n",
    "    return response   "
   ]
  },
  {
   "cell_type": "code",
   "execution_count": 28,
   "metadata": {},
   "outputs": [],
   "source": [
    "def getAnswerForQuery(question):\n",
    "    tags_list =[]\n",
    "    text=nltk.word_tokenize(question)\n",
    "    tags = nltk.pos_tag(text)\n",
    "    tags_list.append(tags)\n",
    "    nnList=[]\n",
    "    \n",
    "    vbzList=[]\n",
    "    \n",
    "    \n",
    "    revDct = dict((key, val ) for (key, val) in tags_list[0])\n",
    "    print('rev dictionary...')\n",
    "    print(revDct)\n",
    "    for key,value in revDct.items():\n",
    "        if(value == 'NN' or value=='NNS'):\n",
    "            nnList.append(key)\n",
    "        if(value == 'VBZ' or value == 'VBN' or value =='VBG'):\n",
    "            vbzList.append(key)\n",
    "    print('the nn list')\n",
    "    print(nnList)\n",
    "    print('the nnp list')\n",
    "    print(vbzList)\n",
    "    \n",
    "    answer = getAnswerNodeFromGraph(graph_dataframe, nnList, vbzList)['tgt']\n",
    "    \n",
    "    return answer   "
   ]
  },
  {
   "cell_type": "code",
   "execution_count": 29,
   "metadata": {},
   "outputs": [],
   "source": [
    "def getAnswerForUIQuery(question):\n",
    "    '''This method takes in a question from user interface returns an answer'''\n",
    "    tags_list =[]\n",
    "    text=nltk.word_tokenize(question)\n",
    "    tags = nltk.pos_tag(text)\n",
    "    tags_list.append(tags)\n",
    "    nnList=[]\n",
    "    nnpList=[]\n",
    "    revDct = dict((key, val ) for (key, val) in tags_list[0])\n",
    "    for key,value in revDct.items():\n",
    "        if(value == 'NN'or value=='NNS'):\n",
    "            nnList.append(key)\n",
    "        if(value == 'VBZ' or value == 'VBN' or value =='VBG'):\n",
    "            nnpList.append(key)\n",
    "    answer = getAnswerNodeFromGraph(graph_dataframe, nnList, nnpList)\n",
    "    print (answer)\n",
    "    response = get_mapping_filter_d3_network(answer['src'],answer['tgt'])\n",
    "    return response\n"
   ]
  },
  {
   "cell_type": "code",
   "execution_count": 30,
   "metadata": {},
   "outputs": [
    {
     "name": "stdout",
     "output_type": "stream",
     "text": [
      "rev dictionary...\n",
      "{'medicines': 'NNS', 'Who': 'WP', '?': '.', 'provides': 'VBZ'}\n",
      "the nn list\n",
      "['medicines']\n",
      "the nnp list\n",
      "['provides']\n",
      "source node is medicine\n",
      "answer is Apollo Pharmacy\n",
      "******************Apollo Pharmacy\n"
     ]
    }
   ],
   "source": [
    "# who provides food?\", \" who provides mobile recharge?\", \" Who provides medicine?\", \"who is seeking food?\n",
    "\n",
    "print(\"******************\"+getAnswerForQuery(\"Who provides medicines? \"))\n"
   ]
  },
  {
   "cell_type": "code",
   "execution_count": 31,
   "metadata": {},
   "outputs": [
    {
     "name": "stdout",
     "output_type": "stream",
     "text": [
      "rev dictionary...\n",
      "{'mobile': 'JJ', 'who': 'WP', '?': '.', 'provides': 'VBZ', 'recharge': 'NN'}\n",
      "the nn list\n",
      "['recharge']\n",
      "the nnp list\n",
      "['provides']\n",
      "source node is mobile recharge\n",
      "answer is Sahil\n",
      "******************Sahil\n"
     ]
    }
   ],
   "source": [
    "print(\"******************\"+getAnswerForQuery(\" who provides mobile recharge?\"))\n"
   ]
  },
  {
   "cell_type": "code",
   "execution_count": 32,
   "metadata": {},
   "outputs": [
    {
     "name": "stdout",
     "output_type": "stream",
     "text": [
      "rev dictionary...\n",
      "{'food': 'NN', 'is': 'VBZ', 'who': 'WP', '?': '.', 'seeking': 'VBG'}\n",
      "the nn list\n",
      "['food']\n",
      "the nnp list\n",
      "['is', 'seeking']\n",
      "source node is food\n",
      "answer is  Nandambakkam\n",
      "****************** Nandambakkam\n"
     ]
    }
   ],
   "source": [
    "print(\"******************\"+getAnswerForQuery(\"who is seeking food?\"))"
   ]
  },
  {
   "cell_type": "code",
   "execution_count": 33,
   "metadata": {},
   "outputs": [
    {
     "name": "stdout",
     "output_type": "stream",
     "text": [
      "rev dictionary...\n",
      "{'food': 'NN', 'Who': 'WP', '?': '.', 'provides': 'VBZ'}\n",
      "the nn list\n",
      "['food']\n",
      "the nnp list\n",
      "['provides']\n",
      "source node is food\n",
      "answer is Vijay\n",
      "******************Vijay\n"
     ]
    }
   ],
   "source": [
    "\n",
    "print(\"******************\"+getAnswerForQuery(\"Who provides food? \"))"
   ]
  },
  {
   "cell_type": "code",
   "execution_count": null,
   "metadata": {},
   "outputs": [],
   "source": []
  },
  {
   "cell_type": "code",
   "execution_count": 46,
   "metadata": {},
   "outputs": [],
   "source": [
    "def on_message(ws, message):\n",
    "    print(message)\n",
    "    string = message.encode('ascii','ignore')\n",
    "    print(string)\n",
    "    print(type(string))\n",
    "    \n",
    "\n",
    "    msg = json.loads(string)\n",
    "    print(msg)\n",
    "    cmd = msg['cmd']\n",
    "    print(cmd)\n",
    "\n",
    "    if cmd == 'query':\n",
    "        print(\"query hi\")\n",
    "        question = msg['question']\n",
    "        answer = getAnswerForQuery(question)\n",
    "        wsresponse = {}\n",
    "        wsresponse[\"forcmd\"] = 'query' \n",
    "        wsresponse[\"response\"] = answer\n",
    "        ws.send(json.dumps(wsresponse))\n",
    "    if cmd == 'uiquery':\n",
    "        print(\"uiquery hi\")\n",
    "        question = msg['question']\n",
    "        answer = getAnswerForUIQuery(question)\n",
    "        print ('ans',answer)\n",
    "        wsresponse = {}\n",
    "        wsresponse[\"forcmd\"] = 'uiquery' \n",
    "        wsresponse[\"response\"] = answer\n",
    "        ws.send(json.dumps(wsresponse))    \n",
    "    elif cmd == 'graph':\n",
    "        wsresponse = {}\n",
    "        wsresponse[\"forcmd\"] = 'graph'\n",
    "        wsresponse[\"response\"]= get_mapping_d3_network()\n",
    "        ws.send(json.dumps(wsresponse))\n",
    "    \n",
    "def on_error(ws, error):\n",
    "    print(error)\n",
    "\n",
    "def on_close(ws):\n",
    "    ws.send(\"DSX Listen End\")\n",
    "\n",
    "def on_open(ws):\n",
    "    def run(*args):\n",
    "        for i in range(10000):\n",
    "            hbeat = '{\"cmd\":\"Olympics DSX HeartBeat\"}'\n",
    "            ws.send(hbeat)\n",
    "            time.sleep(100)\n",
    "            \n",
    "    thread.start_new_thread(run, ())\n",
    "\n",
    "\n",
    "def start_websocket_listener():\n",
    "    websocket.enableTrace(True)\n",
    "    ws = websocket.WebSocketApp(\"ws://tracy.eu-gb.mybluemix.net/ws/orchestrate\",\n",
    "                              on_message = on_message,\n",
    "                              on_error = on_error,\n",
    "                              on_close = on_close)\n",
    "    ws.on_open = on_open\n",
    "    ws.run_forever()"
   ]
  },
  {
   "cell_type": "code",
   "execution_count": null,
   "metadata": {},
   "outputs": [],
   "source": []
  },
  {
   "cell_type": "code",
   "execution_count": 47,
   "metadata": {},
   "outputs": [
    {
     "name": "stderr",
     "output_type": "stream",
     "text": [
      "--- request header ---\n",
      "GET /ws/orchestrate HTTP/1.1\n",
      "Upgrade: websocket\n",
      "Connection: Upgrade\n",
      "Host: tracy.eu-gb.mybluemix.net\n",
      "Origin: http://tracy.eu-gb.mybluemix.net\n",
      "Sec-WebSocket-Key: BOVobuhwupChoHRkL7P5WA==\n",
      "Sec-WebSocket-Version: 13\n",
      "\n",
      "\n",
      "-----------------------\n",
      "--- response header ---\n",
      "HTTP/1.1 101 Switching Protocols\n",
      "Connection: Upgrade\n",
      "Sec-WebSocket-Accept: dz8ZlcqlgRMm/Ic1vVsPJF58dCM=\n",
      "Date: Wed, 22 Aug 2018 10:18:54 GMT\n",
      "X-Global-Transaction-ID: 1675357663\n",
      "Upgrade: websocket\n",
      "-----------------------\n",
      "send: '\\x81\\xa0e\\xfb\\xae\\xab\\x1e\\xd9\\xcd\\xc6\\x01\\xd9\\x94\\x89*\\x97\\xd7\\xc6\\x15\\x92\\xcd\\xd8E\\xbf\\xfd\\xf3E\\xb3\\xcb\\xca\\x17\\x8f\\xec\\xce\\x04\\x8f\\x8c\\xd6'\n"
     ]
    },
    {
     "name": "stdout",
     "output_type": "stream",
     "text": [
      "{\"cmd\":\"Olympics DSX HeartBeat\"}\n",
      "{\"cmd\":\"Olympics DSX HeartBeat\"}\n",
      "<type 'str'>\n",
      "{u'cmd': u'Olympics DSX HeartBeat'}\n",
      "Olympics DSX HeartBeat\n"
     ]
    },
    {
     "name": "stderr",
     "output_type": "stream",
     "text": [
      "send: '\\x81\\xfe\\x03>\\xac\\xde\\xe2\\xba\\xd7\\xfc\\x84\\xd5\\xde\\xbd\\x8f\\xde\\x8e\\xe4\\xc2\\x98\\xcb\\xac\\x83\\xca\\xc4\\xfc\\xce\\x9a\\x8e\\xac\\x87\\xc9\\xdc\\xb1\\x8c\\xc9\\xc9\\xfc\\xd8\\x9a\\xd7\\xfc\\x8c\\xd5\\xc8\\xbb\\x91\\x98\\x96\\xfe\\xb9\\xc1\\x8e\\xb9\\x90\\xd5\\xd9\\xae\\xc0\\x80\\x8c\\xef\\xce\\x9a\\x8e\\xb7\\x86\\x98\\x96\\xfe\\xc0\\xdc\\xc3\\xb1\\x86\\x98\\xd1\\xf2\\xc2\\xc1\\x8e\\xb9\\x90\\xd5\\xd9\\xae\\xc0\\x80\\x8c\\xec\\xce\\x9a\\x8e\\xb7\\x86\\x98\\x96\\xfe\\xc0\\xec\\xc5\\xb4\\x83\\xc3\\x8e\\xa3\\xce\\x9a\\xd7\\xfc\\x85\\xc8\\xc3\\xab\\x92\\x98\\x96\\xfe\\xd1\\x96\\x8c\\xfc\\x8b\\xde\\x8e\\xe4\\xc2\\x98\\x8c\\x90\\x83\\xd4\\xc8\\xbf\\x8f\\xd8\\xcd\\xb5\\x89\\xdb\\xc1\\xfc\\x9f\\x96\\x8c\\xa5\\xc0\\xdd\\xde\\xb1\\x97\\xca\\x8e\\xe4\\xc2\\x8e\\x80\\xfe\\xc0\\xd3\\xc8\\xfc\\xd8\\x9a\\x8e\\x8d\\x83\\xd2\\xc5\\xb2\\xc0\\xc7\\x80\\xfe\\x99\\x98\\xcb\\xac\\x8d\\xcf\\xdc\\xfc\\xd8\\x9a\\x99\\xf2\\xc2\\x98\\xc5\\xba\\xc0\\x80\\x8c\\xfc\\x8f\\xd5\\xce\\xb7\\x8e\\xdf\\x8c\\xac\\x87\\xd9\\xc4\\xbf\\x90\\xdd\\xc9\\xfc\\x9f\\x96\\x8c\\xa5\\xc0\\xdd\\xde\\xb1\\x97\\xca\\x8e\\xe4\\xc2\\x8c\\x80\\xfe\\xc0\\xd3\\xc8\\xfc\\xd8\\x9a\\x8e\\x9a\\x90\\x94\\x8c\\x8c\\x83\\xdd\\xc4\\xab\\x8e\\x98\\xd1\\xf2\\xc2\\xc1\\x8e\\xb9\\x90\\xd5\\xd9\\xae\\xc0\\x80\\x8c\\xe9\\xce\\x9a\\x8e\\xb7\\x86\\x98\\x96\\xfe\\xc0\\xd7\\xc9\\xba\\x8b\\xd9\\xcd\\xb2\\xc2\\xd2\\xc9\\xb2\\x92\\x98\\xd1\\xf2\\xc2\\xc1\\x8e\\xb9\\x90\\xd5\\xd9\\xae\\xc0\\x80\\x8c\\xe6\\xce\\x9a\\x8e\\xb7\\x86\\x98\\x96\\xfe\\xc0\\xd8\\xc0\\xb1\\x8d\\xde\\x8e\\xa3\\xce\\x9a\\xd7\\xfc\\x85\\xc8\\xc3\\xab\\x92\\x98\\x96\\xfe\\xdb\\x96\\x8c\\xfc\\x8b\\xde\\x8e\\xe4\\xc2\\x98\\x8c\\x8c\\x83\\xd7\\xc2\\xbf\\x96\\xd2\\x8e\\xa3\\xce\\x9a\\xd7\\xfc\\x85\\xc8\\xc3\\xab\\x92\\x98\\x96\\xfe\\xd3\\x8a\\x80\\xfe\\xc0\\xd3\\xc8\\xfc\\xd8\\x9a\\x8e\\xb3\\x87\\xde\\xc5\\xbd\\x8b\\xd4\\xc9\\xfc\\x9f\\x96\\x8c\\xa5\\xc0\\xdd\\xde\\xb1\\x97\\xca\\x8e\\xe4\\xc2\\x8b\\x9d\\xf2\\xc2\\x98\\xc5\\xba\\xc0\\x80\\x8c\\xfc\\xa3\\xca\\xc3\\xb2\\x8e\\xd5\\x8c\\x8e\\x8a\\xdb\\xde\\xb3\\x83\\xd9\\xd5\\xfc\\x9f\\xe7\\x80\\xfe\\xc0\\xd6\\xc5\\xb0\\x89\\xc9\\x8e\\xe4\\xc2\\xe1\\xd7\\xfc\\x91\\xd5\\xd9\\xac\\x81\\xdf\\x8e\\xe4\\xc2\\x98\\xca\\xb1\\x8d\\xde\\x8e\\xf2\\xc2\\x98\\xd8\\xbf\\x90\\xdd\\xc9\\xaa\\xc0\\x80\\x8c\\xfc\\xb4\\xd3\\xc6\\xbf\\x9b\\x98\\x80\\xfe\\xc0\\xcc\\xcd\\xb2\\x97\\xdf\\x8e\\xe4\\xc2\\x98\\xdc\\xac\\x8d\\xcc\\xc5\\xba\\x87\\xc9\\x8e\\xa3\\xce\\x9a\\xd7\\xfc\\x91\\xd5\\xd9\\xac\\x81\\xdf\\x8e\\xe4\\xc2\\x98\\xca\\xb1\\x8d\\xde\\x8e\\xf2\\xc2\\x98\\xd8\\xbf\\x90\\xdd\\xc9\\xaa\\xc0\\x80\\x8c\\xfc\\xc2\\xf4\\xcd\\xb0\\x86\\xdb\\xc1\\xbc\\x83\\xd1\\xc7\\xbf\\x8f\\x98\\x80\\xfe\\xc0\\xcc\\xcd\\xb2\\x97\\xdf\\x8e\\xe4\\xc2\\x98\\xdf\\xbb\\x87\\xd1\\xc5\\xb0\\x85\\x98\\xd1\\xf2\\xc2\\xc1\\x8e\\xad\\x8d\\xcf\\xde\\xbd\\x87\\x98\\x96\\xfe\\xc0\\xe9\\xcd\\xb6\\x8b\\xd6\\x8e\\xf2\\xc2\\x98\\xd8\\xbf\\x90\\xdd\\xc9\\xaa\\xc0\\x80\\x8c\\xfc\\x8f\\xd5\\xce\\xb7\\x8e\\xdf\\x8c\\xac\\x87\\xd9\\xc4\\xbf\\x90\\xdd\\xc9\\xfc\\xce\\x9a\\x8e\\xa8\\x83\\xd6\\xd9\\xbb\\xc0\\x80\\x8c\\xfc\\x92\\xc8\\xc3\\xa8\\x8b\\xde\\xc9\\xad\\xc0\\xc7\\x80\\xfe\\x99\\x98\\xdf\\xb1\\x97\\xc8\\xcf\\xbb\\xc0\\x80\\x8c\\xfc\\xa6\\xc8\\x82\\xfe\\xb0\\xdb\\xcb\\xb6\\x97\\xd6\\x8e\\xf2\\xc2\\x98\\xd8\\xbf\\x90\\xdd\\xc9\\xaa\\xc0\\x80\\x8c\\xfc\\x8f\\xdf\\xc8\\xb7\\x81\\xdb\\xc0\\xfe\\x8a\\xdf\\xc0\\xae\\xc0\\x96\\x8c\\xfc\\x94\\xdb\\xc0\\xab\\x87\\x98\\x96\\xfe\\xc0\\xca\\xde\\xb1\\x94\\xd3\\xc8\\xbb\\x91\\x98\\xd1\\xf2\\xc2\\xc1\\x8e\\xad\\x8d\\xcf\\xde\\xbd\\x87\\x98\\x96\\xfe\\xc0\\xd8\\xc0\\xb1\\x8d\\xde\\x8e\\xf2\\xc2\\x98\\xd8\\xbf\\x90\\xdd\\xc9\\xaa\\xc0\\x80\\x8c\\xfc\\xc2\\xe8\\xcd\\xb3\\x8c\\xdb\\xd8\\xb6\\xc0\\x96\\x8c\\xfc\\x94\\xdb\\xc0\\xab\\x87\\x98\\x96\\xfe\\xc0\\xca\\xde\\xb1\\x94\\xd3\\xc8\\xbb\\x91\\x98\\xd1\\xf2\\xc2\\xc1\\x8e\\xad\\x8d\\xcf\\xde\\xbd\\x87\\x98\\x96\\xfe\\xc0\\xd7\\xc9\\xba\\x8b\\xd9\\xc5\\xb0\\x87\\x98\\x80\\xfe\\xc0\\xce\\xcd\\xac\\x85\\xdf\\xd8\\xfc\\xd8\\x9a\\x8e\\x9f\\x92\\xd5\\xc0\\xb2\\x8d\\x9a\\xfc\\xb6\\x83\\xc8\\xc1\\xbf\\x81\\xc3\\x8e\\xf2\\xc2\\x98\\xda\\xbf\\x8e\\xcf\\xc9\\xfc\\xd8\\x9a\\x8e\\xae\\x90\\xd5\\xda\\xb7\\x86\\xdf\\xdf\\xfc\\x9f\\xe7\\xd1\\xa3'\n"
     ]
    },
    {
     "name": "stdout",
     "output_type": "stream",
     "text": [
      "{\"cmd\":\"Client connected\"}\n",
      "{\"cmd\":\"Client connected\"}\n",
      "<type 'str'>\n",
      "{u'cmd': u'Client connected'}\n",
      "Client connected\n",
      "{\"cmd\":\"graph\"}\n",
      "{\"cmd\":\"graph\"}\n",
      "<type 'str'>\n",
      "{u'cmd': u'graph'}\n",
      "graph\n"
     ]
    },
    {
     "name": "stderr",
     "output_type": "stream",
     "text": [
      "error from callback <function on_message at 0x116138140>: 'cmd'\n"
     ]
    },
    {
     "name": "stdout",
     "output_type": "stream",
     "text": [
      "{\"forcmd\": \"graph\", \"response\": {\"nodes\": [{\"group\": 1, \"id\": \"food\"}, {\"group\": 2, \"id\": \"Vijay\"}, {\"group\": 3, \"id\": \" Nandambakkam\"}, {\"group\": 4, \"id\": \"Sahil\"}, {\"group\": 5, \"id\": \"mobile recharge\"}, {\"group\": 6, \"id\": \"Dr. Raghul\"}, {\"group\": 7, \"id\": \"medical help\"}, {\"group\": 8, \"id\": \"blood\"}, {\"group\": 9, \"id\": \" Ramnath\"}, {\"group\": 10, \"id\": \"medicine\"}, {\"group\": 11, \"id\": \"Apollo Pharmacy\"}], \"links\": [{\"source\": \"food\", \"target\": \"Vijay\", \"value\": \"provides\"}, {\"source\": \"food\", \"target\": \" Nandambakkam\", \"value\": \"seeking\"}, {\"source\": \"Sahil\", \"target\": \"mobile recharge\", \"value\": \"provides\"}, {\"source\": \"Dr. Raghul\", \"target\": \"medical help\", \"value\": \"provides\"}, {\"source\": \"blood\", \"target\": \" Ramnath\", \"value\": \"provides\"}, {\"source\": \"medicine\", \"target\": \"Apollo Pharmacy\", \"value\": \"provides\"}]}}\n",
      "{\"forcmd\": \"graph\", \"response\": {\"nodes\": [{\"group\": 1, \"id\": \"food\"}, {\"group\": 2, \"id\": \"Vijay\"}, {\"group\": 3, \"id\": \" Nandambakkam\"}, {\"group\": 4, \"id\": \"Sahil\"}, {\"group\": 5, \"id\": \"mobile recharge\"}, {\"group\": 6, \"id\": \"Dr. Raghul\"}, {\"group\": 7, \"id\": \"medical help\"}, {\"group\": 8, \"id\": \"blood\"}, {\"group\": 9, \"id\": \" Ramnath\"}, {\"group\": 10, \"id\": \"medicine\"}, {\"group\": 11, \"id\": \"Apollo Pharmacy\"}], \"links\": [{\"source\": \"food\", \"target\": \"Vijay\", \"value\": \"provides\"}, {\"source\": \"food\", \"target\": \" Nandambakkam\", \"value\": \"seeking\"}, {\"source\": \"Sahil\", \"target\": \"mobile recharge\", \"value\": \"provides\"}, {\"source\": \"Dr. Raghul\", \"target\": \"medical help\", \"value\": \"provides\"}, {\"source\": \"blood\", \"target\": \" Ramnath\", \"value\": \"provides\"}, {\"source\": \"medicine\", \"target\": \"Apollo Pharmacy\", \"value\": \"provides\"}]}}\n",
      "<type 'str'>\n",
      "{u'forcmd': u'graph', u'response': {u'nodes': [{u'group': 1, u'id': u'food'}, {u'group': 2, u'id': u'Vijay'}, {u'group': 3, u'id': u' Nandambakkam'}, {u'group': 4, u'id': u'Sahil'}, {u'group': 5, u'id': u'mobile recharge'}, {u'group': 6, u'id': u'Dr. Raghul'}, {u'group': 7, u'id': u'medical help'}, {u'group': 8, u'id': u'blood'}, {u'group': 9, u'id': u' Ramnath'}, {u'group': 10, u'id': u'medicine'}, {u'group': 11, u'id': u'Apollo Pharmacy'}], u'links': [{u'source': u'food', u'target': u'Vijay', u'value': u'provides'}, {u'source': u'food', u'target': u' Nandambakkam', u'value': u'seeking'}, {u'source': u'Sahil', u'target': u'mobile recharge', u'value': u'provides'}, {u'source': u'Dr. Raghul', u'target': u'medical help', u'value': u'provides'}, {u'source': u'blood', u'target': u' Ramnath', u'value': u'provides'}, {u'source': u'medicine', u'target': u'Apollo Pharmacy', u'value': u'provides'}]}}\n"
     ]
    },
    {
     "name": "stderr",
     "output_type": "stream",
     "text": [
      "  File \"/Users/neha/miniconda2/lib/python2.7/site-packages/websocket/_app.py\", line 331, in _callback\n",
      "    callback(self, *args)\n",
      "  File \"<ipython-input-46-07e886b74614>\", line 10, in on_message\n",
      "    cmd = msg['cmd']\n",
      "send: '\\x81\\xa0lm\\xa6\\xc4\\x17O\\xc5\\xa9\\x08O\\x9c\\xe6#\\x01\\xdf\\xa9\\x1c\\x04\\xc5\\xb7L)\\xf5\\x9cL%\\xc3\\xa5\\x1e\\x19\\xe4\\xa1\\r\\x19\\x84\\xb9'\n"
     ]
    },
    {
     "name": "stdout",
     "output_type": "stream",
     "text": [
      "{\"cmd\":\"Olympics DSX HeartBeat\"}\n",
      "{\"cmd\":\"Olympics DSX HeartBeat\"}\n",
      "<type 'str'>\n",
      "{u'cmd': u'Olympics DSX HeartBeat'}\n",
      "Olympics DSX HeartBeat\n"
     ]
    },
    {
     "name": "stderr",
     "output_type": "stream",
     "text": [
      "send: '\\x81\\xa0\\xf7#\\x0b+\\x8c\\x01hF\\x93\\x011\\t\\xb8OrF\\x87JhX\\xd7gXs\\xd7knJ\\x85WIN\\x96W)V'\n"
     ]
    },
    {
     "name": "stdout",
     "output_type": "stream",
     "text": [
      "{\"cmd\":\"Olympics DSX HeartBeat\"}\n",
      "{\"cmd\":\"Olympics DSX HeartBeat\"}\n",
      "<type 'str'>\n",
      "{u'cmd': u'Olympics DSX HeartBeat'}\n",
      "Olympics DSX HeartBeat\n"
     ]
    },
    {
     "name": "stderr",
     "output_type": "stream",
     "text": [
      "send: '\\x81\\xa0\\xc77\\xb6\\x93\\xbc\\x15\\xd5\\xfe\\xa3\\x15\\x8c\\xb1\\x88[\\xcf\\xfe\\xb7^\\xd5\\xe0\\xe7s\\xe5\\xcb\\xe7\\x7f\\xd3\\xf2\\xb5C\\xf4\\xf6\\xa6C\\x94\\xee'\n"
     ]
    },
    {
     "name": "stdout",
     "output_type": "stream",
     "text": [
      "{\"cmd\":\"Olympics DSX HeartBeat\"}\n",
      "{\"cmd\":\"Olympics DSX HeartBeat\"}\n",
      "<type 'str'>\n",
      "{u'cmd': u'Olympics DSX HeartBeat'}\n",
      "Olympics DSX HeartBeat\n"
     ]
    },
    {
     "name": "stderr",
     "output_type": "stream",
     "text": [
      "send: \"\\x81\\xfe\\x04\\x1dH\\xfa\\xe4\\xac3\\xd8\\x82\\xc3:\\x99\\x89\\xc8j\\xc0\\xc4\\x8e=\\x93\\x95\\xd9-\\x88\\x9d\\x8ed\\xda\\xc6\\xde-\\x89\\x94\\xc3&\\x89\\x81\\x8er\\xda\\x9f\\x8e&\\x95\\x80\\xc9;\\xd8\\xde\\x8c\\x13\\x81\\xc6\\xca!\\x96\\x90\\xc9:\\xd8\\xde\\x8cy\\xd6\\xc4\\x8e/\\x88\\x8b\\xd98\\xd8\\xde\\x8cy\\xd6\\xc4\\x8e!\\x9e\\xc6\\x96h\\xd8\\x82\\xc3'\\x9e\\xc6\\xd1d\\xda\\x9f\\x8e.\\x93\\x88\\xd8-\\x88\\xc6\\x96h\\xcb\\xc8\\x8cj\\x9d\\x96\\xc3=\\x8a\\xc6\\x96h\\xc8\\xc8\\x8cj\\x93\\x80\\x8er\\xda\\xc6\\xfa!\\x90\\x85\\xd5j\\x87\\xc8\\x8c3\\xd8\\x82\\xc5$\\x8e\\x81\\xdej\\xc0\\xc4\\x9cd\\xda\\xc6\\xcb:\\x95\\x91\\xdcj\\xc0\\xc4\\x9fd\\xda\\xc6\\xc5,\\xd8\\xde\\x8cj\\xda\\xaa\\xcd&\\x9e\\x85\\xc1*\\x9b\\x8f\\xc7)\\x97\\xc6\\xd1d\\xda\\x9f\\x8e.\\x93\\x88\\xd8-\\x88\\xc6\\x96h\\xca\\xc8\\x8cj\\x9d\\x96\\xc3=\\x8a\\xc6\\x96h\\xce\\xc8\\x8cj\\x93\\x80\\x8er\\xda\\xc6\\xff)\\x92\\x8d\\xc0j\\x87\\xc8\\x8c3\\xd8\\x82\\xc5$\\x8e\\x81\\xdej\\xc0\\xc4\\x9cd\\xda\\xc6\\xcb:\\x95\\x91\\xdcj\\xc0\\xc4\\x99d\\xda\\xc6\\xc5,\\xd8\\xde\\x8cj\\x97\\x8b\\xce!\\x96\\x81\\x8c:\\x9f\\x87\\xc4)\\x88\\x83\\xc9j\\x87\\xc8\\x8c3\\xd8\\x82\\xc5$\\x8e\\x81\\xdej\\xc0\\xc4\\x9cd\\xda\\xc6\\xcb:\\x95\\x91\\xdcj\\xc0\\xc4\\x9ad\\xda\\xc6\\xc5,\\xd8\\xde\\x8cj\\xbe\\x96\\x82h\\xa8\\x85\\xcb \\x8f\\x88\\x8e5\\xd6\\xc4\\xd7j\\x9c\\x8d\\xc0<\\x9f\\x96\\x8er\\xda\\xd4\\x80h\\xd8\\x83\\xde'\\x8f\\x94\\x8er\\xda\\xd3\\x80h\\xd8\\x8d\\xc8j\\xc0\\xc4\\x8e%\\x9f\\x80\\xc5+\\x9b\\x88\\x8c \\x9f\\x88\\xdcj\\x87\\xc8\\x8c3\\xd8\\x82\\xc5$\\x8e\\x81\\xdej\\xc0\\xc4\\x9cd\\xda\\xc6\\xcb:\\x95\\x91\\xdcj\\xc0\\xc4\\x94d\\xda\\xc6\\xc5,\\xd8\\xde\\x8cj\\x98\\x88\\xc3'\\x9e\\xc6\\xd1d\\xda\\x9f\\x8e.\\x93\\x88\\xd8-\\x88\\xc6\\x96h\\xca\\xc8\\x8cj\\x9d\\x96\\xc3=\\x8a\\xc6\\x96h\\xc3\\xc8\\x8cj\\x93\\x80\\x8er\\xda\\xc6\\x8c\\x1a\\x9b\\x89\\xc2)\\x8e\\x8c\\x8e5\\xd6\\xc4\\xd7j\\x9c\\x8d\\xc0<\\x9f\\x96\\x8er\\xda\\xd4\\x80h\\xd8\\x83\\xde'\\x8f\\x94\\x8er\\xda\\xd5\\x9cd\\xda\\xc6\\xc5,\\xd8\\xde\\x8cj\\x97\\x81\\xc8!\\x99\\x8d\\xc2-\\xd8\\x99\\x80h\\x81\\xc6\\xca!\\x96\\x90\\xc9:\\xd8\\xde\\x8cx\\xd6\\xc4\\x8e/\\x88\\x8b\\xd98\\xd8\\xde\\x8cy\\xcb\\xc8\\x8cj\\x93\\x80\\x8er\\xda\\xc6\\xed8\\x95\\x88\\xc0'\\xda\\xb4\\xc4)\\x88\\x89\\xcd+\\x83\\xc6\\xd1\\x15\\xd6\\xc4\\x8e$\\x93\\x8a\\xc7;\\xd8\\xde\\x8c\\x13\\x81\\xc6\\xca!\\x96\\x90\\xc9:\\xd8\\xde\\x8cy\\xd6\\xc4\\x8e;\\x95\\x91\\xde+\\x9f\\xc6\\x96h\\xd8\\x82\\xc3'\\x9e\\xc6\\x80h\\xd8\\x90\\xcd:\\x9d\\x81\\xd8j\\xc0\\xc4\\x8e\\x1e\\x93\\x8e\\xcd1\\xd8\\xc8\\x8cj\\x8c\\x85\\xc0=\\x9f\\xc6\\x96h\\xd8\\x94\\xde'\\x8c\\x8d\\xc8-\\x89\\xc6\\xd1d\\xda\\x9f\\x8e.\\x93\\x88\\xd8-\\x88\\xc6\\x96h\\xca\\xc8\\x8cj\\x89\\x8b\\xd9:\\x99\\x81\\x8er\\xda\\xc6\\xca'\\x95\\x80\\x8ed\\xda\\xc6\\xd8)\\x88\\x83\\xc9<\\xd8\\xde\\x8cj\\xda\\xaa\\xcd&\\x9e\\x85\\xc1*\\x9b\\x8f\\xc7)\\x97\\xc6\\x80h\\xd8\\x92\\xcd$\\x8f\\x81\\x8er\\xda\\xc6\\xdf-\\x9f\\x8f\\xc5&\\x9d\\xc6\\xd1d\\xda\\x9f\\x8e.\\x93\\x88\\xd8-\\x88\\xc6\\x96h\\xca\\xc8\\x8cj\\x89\\x8b\\xd9:\\x99\\x81\\x8er\\xda\\xc6\\xff)\\x92\\x8d\\xc0j\\xd6\\xc4\\x8e<\\x9b\\x96\\xcb-\\x8e\\xc6\\x96h\\xd8\\x89\\xc3*\\x93\\x88\\xc9h\\x88\\x81\\xcf \\x9b\\x96\\xcb-\\xd8\\xc8\\x8cj\\x8c\\x85\\xc0=\\x9f\\xc6\\x96h\\xd8\\x94\\xde'\\x8c\\x8d\\xc8-\\x89\\xc6\\xd1d\\xda\\x9f\\x8e.\\x93\\x88\\xd8-\\x88\\xc6\\x96h\\xca\\xc8\\x8cj\\x89\\x8b\\xd9:\\x99\\x81\\x8er\\xda\\xc6\\xe8:\\xd4\\xc4\\xfe)\\x9d\\x8c\\xd9$\\xd8\\xc8\\x8cj\\x8e\\x85\\xde/\\x9f\\x90\\x8er\\xda\\xc6\\xc1-\\x9e\\x8d\\xcf)\\x96\\xc4\\xc4-\\x96\\x94\\x8ed\\xda\\xc6\\xda)\\x96\\x91\\xc9j\\xc0\\xc4\\x8e8\\x88\\x8b\\xda!\\x9e\\x81\\xdfj\\x87\\xc8\\x8c3\\xd8\\x82\\xc5$\\x8e\\x81\\xdej\\xc0\\xc4\\x9cd\\xda\\xc6\\xdf'\\x8f\\x96\\xcf-\\xd8\\xde\\x8cj\\x98\\x88\\xc3'\\x9e\\xc6\\x80h\\xd8\\x90\\xcd:\\x9d\\x81\\xd8j\\xc0\\xc4\\x8eh\\xa8\\x85\\xc1&\\x9b\\x90\\xc4j\\xd6\\xc4\\x8e>\\x9b\\x88\\xd9-\\xd8\\xde\\x8cj\\x8a\\x96\\xc3>\\x93\\x80\\xc9;\\xd8\\x99\\x80h\\x81\\xc6\\xca!\\x96\\x90\\xc9:\\xd8\\xde\\x8cx\\xd6\\xc4\\x8e;\\x95\\x91\\xde+\\x9f\\xc6\\x96h\\xd8\\x89\\xc9,\\x93\\x87\\xc5&\\x9f\\xc6\\x80h\\xd8\\x90\\xcd:\\x9d\\x81\\xd8j\\xc0\\xc4\\x8e\\t\\x8a\\x8b\\xc0$\\x95\\xc4\\xfc \\x9b\\x96\\xc1)\\x99\\x9d\\x8ed\\xda\\xc6\\xda)\\x96\\x91\\xc9j\\xc0\\xc4\\x8e8\\x88\\x8b\\xda!\\x9e\\x81\\xdfj\\x87\\xb9\\xd15\"\n"
     ]
    },
    {
     "name": "stdout",
     "output_type": "stream",
     "text": [
      "{\"cmd\":\"uiquery\",\"question\":\"Who provides food? \"}\n",
      "{\"cmd\":\"uiquery\",\"question\":\"Who provides food? \"}\n",
      "<type 'str'>\n",
      "{u'cmd': u'uiquery', u'question': u'Who provides food? '}\n",
      "uiquery\n",
      "uiquery hi\n",
      "source node is food\n",
      "answer is Vijay\n",
      "{'src': 'food', 'tgt': u'Vijay'}\n",
      "('ans', {'nodes': [{'filter': 1, 'group': 1, 'id': 'food'}, {'filter': 1, 'group': 2, 'id': u'Vijay'}, {'filter': 0, 'group': 3, 'id': ' Nandambakkam'}, {'filter': 0, 'group': 4, 'id': u'Sahil'}, {'filter': 0, 'group': 5, 'id': 'mobile recharge'}, {'filter': 0, 'group': 6, 'id': u'Dr. Raghul'}, {'filter': 0, 'group': 7, 'id': 'medical help'}, {'filter': 0, 'group': 8, 'id': 'blood'}, {'filter': 0, 'group': 9, 'id': ' Ramnath'}, {'filter': 0, 'group': 10, 'id': 'medicine'}, {'filter': 0, 'group': 11, 'id': u'Apollo Pharmacy'}], 'links': [{'filter': 1, 'source': 'food', 'target': u'Vijay', 'value': 'provides'}, {'filter': 0, 'source': 'food', 'target': ' Nandambakkam', 'value': 'seeking'}, {'filter': 0, 'source': u'Sahil', 'target': 'mobile recharge', 'value': 'provides'}, {'filter': 0, 'source': u'Dr. Raghul', 'target': 'medical help', 'value': 'provides'}, {'filter': 0, 'source': 'blood', 'target': ' Ramnath', 'value': 'provides'}, {'filter': 0, 'source': 'medicine', 'target': u'Apollo Pharmacy', 'value': 'provides'}]})\n"
     ]
    },
    {
     "name": "stderr",
     "output_type": "stream",
     "text": [
      "error from callback <function on_message at 0x116138140>: 'cmd'\n"
     ]
    },
    {
     "name": "stdout",
     "output_type": "stream",
     "text": [
      "{\"forcmd\": \"uiquery\", \"response\": {\"nodes\": [{\"filter\": 1, \"group\": 1, \"id\": \"food\"}, {\"filter\": 1, \"group\": 2, \"id\": \"Vijay\"}, {\"filter\": 0, \"group\": 3, \"id\": \" Nandambakkam\"}, {\"filter\": 0, \"group\": 4, \"id\": \"Sahil\"}, {\"filter\": 0, \"group\": 5, \"id\": \"mobile recharge\"}, {\"filter\": 0, \"group\": 6, \"id\": \"Dr. Raghul\"}, {\"filter\": 0, \"group\": 7, \"id\": \"medical help\"}, {\"filter\": 0, \"group\": 8, \"id\": \"blood\"}, {\"filter\": 0, \"group\": 9, \"id\": \" Ramnath\"}, {\"filter\": 0, \"group\": 10, \"id\": \"medicine\"}, {\"filter\": 0, \"group\": 11, \"id\": \"Apollo Pharmacy\"}], \"links\": [{\"filter\": 1, \"source\": \"food\", \"target\": \"Vijay\", \"value\": \"provides\"}, {\"filter\": 0, \"source\": \"food\", \"target\": \" Nandambakkam\", \"value\": \"seeking\"}, {\"filter\": 0, \"source\": \"Sahil\", \"target\": \"mobile recharge\", \"value\": \"provides\"}, {\"filter\": 0, \"source\": \"Dr. Raghul\", \"target\": \"medical help\", \"value\": \"provides\"}, {\"filter\": 0, \"source\": \"blood\", \"target\": \" Ramnath\", \"value\": \"provides\"}, {\"filter\": 0, \"source\": \"medicine\", \"target\": \"Apollo Pharmacy\", \"value\": \"provides\"}]}}\n",
      "{\"forcmd\": \"uiquery\", \"response\": {\"nodes\": [{\"filter\": 1, \"group\": 1, \"id\": \"food\"}, {\"filter\": 1, \"group\": 2, \"id\": \"Vijay\"}, {\"filter\": 0, \"group\": 3, \"id\": \" Nandambakkam\"}, {\"filter\": 0, \"group\": 4, \"id\": \"Sahil\"}, {\"filter\": 0, \"group\": 5, \"id\": \"mobile recharge\"}, {\"filter\": 0, \"group\": 6, \"id\": \"Dr. Raghul\"}, {\"filter\": 0, \"group\": 7, \"id\": \"medical help\"}, {\"filter\": 0, \"group\": 8, \"id\": \"blood\"}, {\"filter\": 0, \"group\": 9, \"id\": \" Ramnath\"}, {\"filter\": 0, \"group\": 10, \"id\": \"medicine\"}, {\"filter\": 0, \"group\": 11, \"id\": \"Apollo Pharmacy\"}], \"links\": [{\"filter\": 1, \"source\": \"food\", \"target\": \"Vijay\", \"value\": \"provides\"}, {\"filter\": 0, \"source\": \"food\", \"target\": \" Nandambakkam\", \"value\": \"seeking\"}, {\"filter\": 0, \"source\": \"Sahil\", \"target\": \"mobile recharge\", \"value\": \"provides\"}, {\"filter\": 0, \"source\": \"Dr. Raghul\", \"target\": \"medical help\", \"value\": \"provides\"}, {\"filter\": 0, \"source\": \"blood\", \"target\": \" Ramnath\", \"value\": \"provides\"}, {\"filter\": 0, \"source\": \"medicine\", \"target\": \"Apollo Pharmacy\", \"value\": \"provides\"}]}}\n",
      "<type 'str'>\n",
      "{u'forcmd': u'uiquery', u'response': {u'nodes': [{u'filter': 1, u'group': 1, u'id': u'food'}, {u'filter': 1, u'group': 2, u'id': u'Vijay'}, {u'filter': 0, u'group': 3, u'id': u' Nandambakkam'}, {u'filter': 0, u'group': 4, u'id': u'Sahil'}, {u'filter': 0, u'group': 5, u'id': u'mobile recharge'}, {u'filter': 0, u'group': 6, u'id': u'Dr. Raghul'}, {u'filter': 0, u'group': 7, u'id': u'medical help'}, {u'filter': 0, u'group': 8, u'id': u'blood'}, {u'filter': 0, u'group': 9, u'id': u' Ramnath'}, {u'filter': 0, u'group': 10, u'id': u'medicine'}, {u'filter': 0, u'group': 11, u'id': u'Apollo Pharmacy'}], u'links': [{u'filter': 1, u'source': u'food', u'target': u'Vijay', u'value': u'provides'}, {u'filter': 0, u'source': u'food', u'target': u' Nandambakkam', u'value': u'seeking'}, {u'filter': 0, u'source': u'Sahil', u'target': u'mobile recharge', u'value': u'provides'}, {u'filter': 0, u'source': u'Dr. Raghul', u'target': u'medical help', u'value': u'provides'}, {u'filter': 0, u'source': u'blood', u'target': u' Ramnath', u'value': u'provides'}, {u'filter': 0, u'source': u'medicine', u'target': u'Apollo Pharmacy', u'value': u'provides'}]}}\n"
     ]
    },
    {
     "name": "stderr",
     "output_type": "stream",
     "text": [
      "  File \"/Users/neha/miniconda2/lib/python2.7/site-packages/websocket/_app.py\", line 331, in _callback\n",
      "    callback(self, *args)\n",
      "  File \"<ipython-input-46-07e886b74614>\", line 10, in on_message\n",
      "    cmd = msg['cmd']\n",
      "send: '\\x81\\xfe\\x04\\x1d\\xf3\\x00\\xfb\\xf4\\x88\"\\x9d\\x9b\\x81c\\x96\\x90\\xd1:\\xdb\\xd6\\x86i\\x8a\\x81\\x96r\\x82\\xd6\\xdf \\xd9\\x86\\x96s\\x8b\\x9b\\x9ds\\x9e\\xd6\\xc9 \\x80\\xd6\\x9do\\x9f\\x91\\x80\"\\xc1\\xd4\\xa8{\\xd9\\x92\\x9al\\x8f\\x91\\x81\"\\xc1\\xd4\\xc2,\\xdb\\xd6\\x94r\\x94\\x81\\x83\"\\xc1\\xd4\\xc2,\\xdb\\xd6\\x9ad\\xd9\\xce\\xd3\"\\x9d\\x9b\\x9cd\\xd9\\x89\\xdf \\x80\\xd6\\x95i\\x97\\x80\\x96r\\xd9\\xce\\xd30\\xd7\\xd4\\xd1g\\x89\\x9b\\x86p\\xd9\\xce\\xd32\\xd7\\xd4\\xd1i\\x9f\\xd6\\xc9 \\xd9\\xa2\\x9aj\\x9a\\x8d\\xd1}\\xd7\\xd4\\x88\"\\x9d\\x9d\\x9ft\\x9e\\x86\\xd1:\\xdb\\xc5\\xdf \\xd9\\x93\\x81o\\x8e\\x84\\xd1:\\xdb\\xc7\\xdf \\xd9\\x9d\\x97\"\\xc1\\xd4\\xd1 \\xb5\\x95\\x9dd\\x9a\\x99\\x91a\\x90\\x9f\\x92m\\xd9\\x89\\xdf \\x80\\xd6\\x95i\\x97\\x80\\x96r\\xd9\\xce\\xd30\\xd7\\xd4\\xd1g\\x89\\x9b\\x86p\\xd9\\xce\\xd34\\xd7\\xd4\\xd1i\\x9f\\xd6\\xc9 \\xd9\\xa7\\x92h\\x92\\x98\\xd1}\\xd7\\xd4\\x88\"\\x9d\\x9d\\x9ft\\x9e\\x86\\xd1:\\xdb\\xc4\\xdf \\xd9\\x93\\x81o\\x8e\\x84\\xd1:\\xdb\\xc1\\xdf \\xd9\\x9d\\x97\"\\xc1\\xd4\\xd1m\\x94\\x96\\x9al\\x9e\\xd4\\x81e\\x98\\x9c\\x92r\\x9c\\x91\\xd1}\\xd7\\xd4\\x88\"\\x9d\\x9d\\x9ft\\x9e\\x86\\xd1:\\xdb\\xc4\\xdf \\xd9\\x93\\x81o\\x8e\\x84\\xd1:\\xdb\\xc2\\xdf \\xd9\\x9d\\x97\"\\xc1\\xd4\\xd1D\\x89\\xda\\xd3R\\x9a\\x93\\x9bu\\x97\\xd6\\x8e,\\xdb\\x8f\\xd1f\\x92\\x98\\x87e\\x89\\xd6\\xc9 \\xcb\\xd8\\xd3\"\\x9c\\x86\\x9cu\\x8b\\xd6\\xc9 \\xcc\\xd8\\xd3\"\\x92\\x90\\xd1:\\xdb\\xd6\\x9ee\\x9f\\x9d\\x90a\\x97\\xd4\\x9be\\x97\\x84\\xd1}\\xd7\\xd4\\x88\"\\x9d\\x9d\\x9ft\\x9e\\x86\\xd1:\\xdb\\xc4\\xdf \\xd9\\x93\\x81o\\x8e\\x84\\xd1:\\xdb\\xcc\\xdf \\xd9\\x9d\\x97\"\\xc1\\xd4\\xd1b\\x97\\x9b\\x9cd\\xd9\\x89\\xdf \\x80\\xd6\\x95i\\x97\\x80\\x96r\\xd9\\xce\\xd30\\xd7\\xd4\\xd1g\\x89\\x9b\\x86p\\xd9\\xce\\xd39\\xd7\\xd4\\xd1i\\x9f\\xd6\\xc9 \\xd9\\xd4\\xa1a\\x96\\x9a\\x92t\\x93\\xd6\\x8e,\\xdb\\x8f\\xd1f\\x92\\x98\\x87e\\x89\\xd6\\xc9 \\xcb\\xd8\\xd3\"\\x9c\\x86\\x9cu\\x8b\\xd6\\xc9 \\xca\\xc4\\xdf \\xd9\\x9d\\x97\"\\xc1\\xd4\\xd1m\\x9e\\x90\\x9ac\\x92\\x9a\\x96\"\\x86\\xd8\\xd3{\\xd9\\x92\\x9al\\x8f\\x91\\x81\"\\xc1\\xd4\\xc3,\\xdb\\xd6\\x94r\\x94\\x81\\x83\"\\xc1\\xd4\\xc21\\xd7\\xd4\\xd1i\\x9f\\xd6\\xc9 \\xd9\\xb5\\x83o\\x97\\x98\\x9c \\xab\\x9c\\x92r\\x96\\x95\\x90y\\xd9\\x89\\xae,\\xdb\\xd6\\x9fi\\x95\\x9f\\x80\"\\xc1\\xd4\\xa8{\\xd9\\x92\\x9al\\x8f\\x91\\x81\"\\xc1\\xd4\\xc3,\\xdb\\xd6\\x80o\\x8e\\x86\\x90e\\xd9\\xce\\xd3\"\\x9d\\x9b\\x9cd\\xd9\\xd8\\xd3\"\\x8f\\x95\\x81g\\x9e\\x80\\xd1:\\xdb\\xd6\\xa5i\\x91\\x95\\x8a\"\\xd7\\xd4\\xd1v\\x9a\\x98\\x86e\\xd9\\xce\\xd3\"\\x8b\\x86\\x9cv\\x92\\x90\\x96s\\xd9\\x89\\xdf \\x80\\xd6\\x95i\\x97\\x80\\x96r\\xd9\\xce\\xd31\\xd7\\xd4\\xd1s\\x94\\x81\\x81c\\x9e\\xd6\\xc9 \\xd9\\x92\\x9co\\x9f\\xd6\\xdf \\xd9\\x80\\x92r\\x9c\\x91\\x87\"\\xc1\\xd4\\xd1 \\xb5\\x95\\x9dd\\x9a\\x99\\x91a\\x90\\x9f\\x92m\\xd9\\xd8\\xd3\"\\x8d\\x95\\x9fu\\x9e\\xd6\\xc9 \\xd9\\x87\\x96e\\x90\\x9d\\x9dg\\xd9\\x89\\xdf \\x80\\xd6\\x95i\\x97\\x80\\x96r\\xd9\\xce\\xd30\\xd7\\xd4\\xd1s\\x94\\x81\\x81c\\x9e\\xd6\\xc9 \\xd9\\xa7\\x92h\\x92\\x98\\xd1,\\xdb\\xd6\\x87a\\x89\\x93\\x96t\\xd9\\xce\\xd3\"\\x96\\x9b\\x91i\\x97\\x91\\xd3r\\x9e\\x97\\x9ba\\x89\\x93\\x96\"\\xd7\\xd4\\xd1v\\x9a\\x98\\x86e\\xd9\\xce\\xd3\"\\x8b\\x86\\x9cv\\x92\\x90\\x96s\\xd9\\x89\\xdf \\x80\\xd6\\x95i\\x97\\x80\\x96r\\xd9\\xce\\xd30\\xd7\\xd4\\xd1s\\x94\\x81\\x81c\\x9e\\xd6\\xc9 \\xd9\\xb0\\x81.\\xdb\\xa6\\x92g\\x93\\x81\\x9f\"\\xd7\\xd4\\xd1t\\x9a\\x86\\x94e\\x8f\\xd6\\xc9 \\xd9\\x99\\x96d\\x92\\x97\\x92l\\xdb\\x9c\\x96l\\x8b\\xd6\\xdf \\xd9\\x82\\x92l\\x8e\\x91\\xd1:\\xdb\\xd6\\x83r\\x94\\x82\\x9ad\\x9e\\x87\\xd1}\\xd7\\xd4\\x88\"\\x9d\\x9d\\x9ft\\x9e\\x86\\xd1:\\xdb\\xc4\\xdf \\xd9\\x87\\x9cu\\x89\\x97\\x96\"\\xc1\\xd4\\xd1b\\x97\\x9b\\x9cd\\xd9\\xd8\\xd3\"\\x8f\\x95\\x81g\\x9e\\x80\\xd1:\\xdb\\xd6\\xd3R\\x9a\\x99\\x9da\\x8f\\x9c\\xd1,\\xdb\\xd6\\x85a\\x97\\x81\\x96\"\\xc1\\xd4\\xd1p\\x89\\x9b\\x85i\\x9f\\x91\\x80\"\\x86\\xd8\\xd3{\\xd9\\x92\\x9al\\x8f\\x91\\x81\"\\xc1\\xd4\\xc3,\\xdb\\xd6\\x80o\\x8e\\x86\\x90e\\xd9\\xce\\xd3\"\\x96\\x91\\x97i\\x98\\x9d\\x9de\\xd9\\xd8\\xd3\"\\x8f\\x95\\x81g\\x9e\\x80\\xd1:\\xdb\\xd6\\xb2p\\x94\\x98\\x9fo\\xdb\\xa4\\x9ba\\x89\\x99\\x92c\\x82\\xd6\\xdf \\xd9\\x82\\x92l\\x8e\\x91\\xd1:\\xdb\\xd6\\x83r\\x94\\x82\\x9ad\\x9e\\x87\\xd1}\\xa6\\x89\\x8e'\n"
     ]
    },
    {
     "name": "stdout",
     "output_type": "stream",
     "text": [
      "{\"cmd\":\"uiquery\",\"question\":\"Who seeking food? \"}\n",
      "{\"cmd\":\"uiquery\",\"question\":\"Who seeking food? \"}\n",
      "<type 'str'>\n",
      "{u'cmd': u'uiquery', u'question': u'Who seeking food? '}\n",
      "uiquery\n",
      "uiquery hi\n",
      "source node is food\n",
      "answer is  Nandambakkam\n",
      "{'src': 'food', 'tgt': ' Nandambakkam'}\n",
      "('ans', {'nodes': [{'filter': 1, 'group': 1, 'id': 'food'}, {'filter': 0, 'group': 2, 'id': u'Vijay'}, {'filter': 1, 'group': 3, 'id': ' Nandambakkam'}, {'filter': 0, 'group': 4, 'id': u'Sahil'}, {'filter': 0, 'group': 5, 'id': 'mobile recharge'}, {'filter': 0, 'group': 6, 'id': u'Dr. Raghul'}, {'filter': 0, 'group': 7, 'id': 'medical help'}, {'filter': 0, 'group': 8, 'id': 'blood'}, {'filter': 0, 'group': 9, 'id': ' Ramnath'}, {'filter': 0, 'group': 10, 'id': 'medicine'}, {'filter': 0, 'group': 11, 'id': u'Apollo Pharmacy'}], 'links': [{'filter': 0, 'source': 'food', 'target': u'Vijay', 'value': 'provides'}, {'filter': 1, 'source': 'food', 'target': ' Nandambakkam', 'value': 'seeking'}, {'filter': 0, 'source': u'Sahil', 'target': 'mobile recharge', 'value': 'provides'}, {'filter': 0, 'source': u'Dr. Raghul', 'target': 'medical help', 'value': 'provides'}, {'filter': 0, 'source': 'blood', 'target': ' Ramnath', 'value': 'provides'}, {'filter': 0, 'source': 'medicine', 'target': u'Apollo Pharmacy', 'value': 'provides'}]})\n"
     ]
    },
    {
     "name": "stderr",
     "output_type": "stream",
     "text": [
      "error from callback <function on_message at 0x116138140>: 'cmd'\n"
     ]
    },
    {
     "name": "stdout",
     "output_type": "stream",
     "text": [
      "{\"forcmd\": \"uiquery\", \"response\": {\"nodes\": [{\"filter\": 1, \"group\": 1, \"id\": \"food\"}, {\"filter\": 0, \"group\": 2, \"id\": \"Vijay\"}, {\"filter\": 1, \"group\": 3, \"id\": \" Nandambakkam\"}, {\"filter\": 0, \"group\": 4, \"id\": \"Sahil\"}, {\"filter\": 0, \"group\": 5, \"id\": \"mobile recharge\"}, {\"filter\": 0, \"group\": 6, \"id\": \"Dr. Raghul\"}, {\"filter\": 0, \"group\": 7, \"id\": \"medical help\"}, {\"filter\": 0, \"group\": 8, \"id\": \"blood\"}, {\"filter\": 0, \"group\": 9, \"id\": \" Ramnath\"}, {\"filter\": 0, \"group\": 10, \"id\": \"medicine\"}, {\"filter\": 0, \"group\": 11, \"id\": \"Apollo Pharmacy\"}], \"links\": [{\"filter\": 0, \"source\": \"food\", \"target\": \"Vijay\", \"value\": \"provides\"}, {\"filter\": 1, \"source\": \"food\", \"target\": \" Nandambakkam\", \"value\": \"seeking\"}, {\"filter\": 0, \"source\": \"Sahil\", \"target\": \"mobile recharge\", \"value\": \"provides\"}, {\"filter\": 0, \"source\": \"Dr. Raghul\", \"target\": \"medical help\", \"value\": \"provides\"}, {\"filter\": 0, \"source\": \"blood\", \"target\": \" Ramnath\", \"value\": \"provides\"}, {\"filter\": 0, \"source\": \"medicine\", \"target\": \"Apollo Pharmacy\", \"value\": \"provides\"}]}}\n",
      "{\"forcmd\": \"uiquery\", \"response\": {\"nodes\": [{\"filter\": 1, \"group\": 1, \"id\": \"food\"}, {\"filter\": 0, \"group\": 2, \"id\": \"Vijay\"}, {\"filter\": 1, \"group\": 3, \"id\": \" Nandambakkam\"}, {\"filter\": 0, \"group\": 4, \"id\": \"Sahil\"}, {\"filter\": 0, \"group\": 5, \"id\": \"mobile recharge\"}, {\"filter\": 0, \"group\": 6, \"id\": \"Dr. Raghul\"}, {\"filter\": 0, \"group\": 7, \"id\": \"medical help\"}, {\"filter\": 0, \"group\": 8, \"id\": \"blood\"}, {\"filter\": 0, \"group\": 9, \"id\": \" Ramnath\"}, {\"filter\": 0, \"group\": 10, \"id\": \"medicine\"}, {\"filter\": 0, \"group\": 11, \"id\": \"Apollo Pharmacy\"}], \"links\": [{\"filter\": 0, \"source\": \"food\", \"target\": \"Vijay\", \"value\": \"provides\"}, {\"filter\": 1, \"source\": \"food\", \"target\": \" Nandambakkam\", \"value\": \"seeking\"}, {\"filter\": 0, \"source\": \"Sahil\", \"target\": \"mobile recharge\", \"value\": \"provides\"}, {\"filter\": 0, \"source\": \"Dr. Raghul\", \"target\": \"medical help\", \"value\": \"provides\"}, {\"filter\": 0, \"source\": \"blood\", \"target\": \" Ramnath\", \"value\": \"provides\"}, {\"filter\": 0, \"source\": \"medicine\", \"target\": \"Apollo Pharmacy\", \"value\": \"provides\"}]}}\n",
      "<type 'str'>\n",
      "{u'forcmd': u'uiquery', u'response': {u'nodes': [{u'filter': 1, u'group': 1, u'id': u'food'}, {u'filter': 0, u'group': 2, u'id': u'Vijay'}, {u'filter': 1, u'group': 3, u'id': u' Nandambakkam'}, {u'filter': 0, u'group': 4, u'id': u'Sahil'}, {u'filter': 0, u'group': 5, u'id': u'mobile recharge'}, {u'filter': 0, u'group': 6, u'id': u'Dr. Raghul'}, {u'filter': 0, u'group': 7, u'id': u'medical help'}, {u'filter': 0, u'group': 8, u'id': u'blood'}, {u'filter': 0, u'group': 9, u'id': u' Ramnath'}, {u'filter': 0, u'group': 10, u'id': u'medicine'}, {u'filter': 0, u'group': 11, u'id': u'Apollo Pharmacy'}], u'links': [{u'filter': 0, u'source': u'food', u'target': u'Vijay', u'value': u'provides'}, {u'filter': 1, u'source': u'food', u'target': u' Nandambakkam', u'value': u'seeking'}, {u'filter': 0, u'source': u'Sahil', u'target': u'mobile recharge', u'value': u'provides'}, {u'filter': 0, u'source': u'Dr. Raghul', u'target': u'medical help', u'value': u'provides'}, {u'filter': 0, u'source': u'blood', u'target': u' Ramnath', u'value': u'provides'}, {u'filter': 0, u'source': u'medicine', u'target': u'Apollo Pharmacy', u'value': u'provides'}]}}\n"
     ]
    },
    {
     "name": "stderr",
     "output_type": "stream",
     "text": [
      "  File \"/Users/neha/miniconda2/lib/python2.7/site-packages/websocket/_app.py\", line 331, in _callback\n",
      "    callback(self, *args)\n",
      "  File \"<ipython-input-46-07e886b74614>\", line 10, in on_message\n",
      "    cmd = msg['cmd']\n",
      "send: '\\x81\\xa0\\x19g\\x94\\x82bE\\xf7\\xef}E\\xae\\xa0V\\x0b\\xed\\xefi\\x0e\\xf7\\xf19#\\xc7\\xda9/\\xf1\\xe3k\\x13\\xd6\\xe7x\\x13\\xb6\\xff'\n"
     ]
    },
    {
     "name": "stdout",
     "output_type": "stream",
     "text": [
      "{\"cmd\":\"Olympics DSX HeartBeat\"}\n",
      "{\"cmd\":\"Olympics DSX HeartBeat\"}\n",
      "<type 'str'>\n",
      "{u'cmd': u'Olympics DSX HeartBeat'}\n",
      "Olympics DSX HeartBeat\n"
     ]
    },
    {
     "name": "stderr",
     "output_type": "stream",
     "text": [
      "send: \"\\x81\\xfe\\x04\\x1dz\\x0b\\xd5\\x94\\x01)\\xb3\\xfb\\x08h\\xb8\\xf0X1\\xf5\\xb6\\x0fb\\xa4\\xe1\\x1fy\\xac\\xb6V+\\xf7\\xe6\\x1fx\\xa5\\xfb\\x14x\\xb0\\xb6@+\\xae\\xb6\\x14d\\xb1\\xf1\\t)\\xef\\xb4!p\\xf7\\xf2\\x13g\\xa1\\xf1\\x08)\\xef\\xb4J'\\xf5\\xb6\\x1dy\\xba\\xe1\\n)\\xef\\xb4K'\\xf5\\xb6\\x13o\\xf7\\xaeZ)\\xb3\\xfb\\x15o\\xf7\\xe9V+\\xae\\xb6\\x1cb\\xb9\\xe0\\x1fy\\xf7\\xaeZ;\\xf9\\xb4Xl\\xa7\\xfb\\x0f{\\xf7\\xaeZ9\\xf9\\xb4Xb\\xb1\\xb6@+\\xf7\\xc2\\x13a\\xb4\\xedXv\\xf9\\xb4\\x01)\\xb3\\xfd\\x16\\x7f\\xb0\\xe6X1\\xf5\\xa4V+\\xf7\\xf3\\x08d\\xa0\\xe4X1\\xf5\\xa7V+\\xf7\\xfd\\x1e)\\xef\\xb4X+\\x9b\\xf5\\x14o\\xb4\\xf9\\x18j\\xbe\\xff\\x1bf\\xf7\\xe9V+\\xae\\xb6\\x1cb\\xb9\\xe0\\x1fy\\xf7\\xaeZ:\\xf9\\xb4Xl\\xa7\\xfb\\x0f{\\xf7\\xaeZ?\\xf9\\xb4Xb\\xb1\\xb6@+\\xf7\\xc7\\x1bc\\xbc\\xf8Xv\\xf9\\xb4\\x01)\\xb3\\xfd\\x16\\x7f\\xb0\\xe6X1\\xf5\\xa5V+\\xf7\\xf3\\x08d\\xa0\\xe4X1\\xf5\\xa1V+\\xf7\\xfd\\x1e)\\xef\\xb4Xf\\xba\\xf6\\x13g\\xb0\\xb4\\x08n\\xb6\\xfc\\x1by\\xb2\\xf1Xv\\xf9\\xb4\\x01)\\xb3\\xfd\\x16\\x7f\\xb0\\xe6X1\\xf5\\xa4V+\\xf7\\xf3\\x08d\\xa0\\xe4X1\\xf5\\xa2V+\\xf7\\xfd\\x1e)\\xef\\xb4XO\\xa7\\xbaZY\\xb4\\xf3\\x12~\\xb9\\xb6\\x07'\\xf5\\xefXm\\xbc\\xf8\\x0en\\xa7\\xb6@+\\xe5\\xb8Z)\\xb2\\xe6\\x15~\\xa5\\xb6@+\\xe2\\xb8Z)\\xbc\\xf0X1\\xf5\\xb6\\x17n\\xb1\\xfd\\x19j\\xb9\\xb4\\x12n\\xb9\\xe4Xv\\xf9\\xb4\\x01)\\xb3\\xfd\\x16\\x7f\\xb0\\xe6X1\\xf5\\xa4V+\\xf7\\xf3\\x08d\\xa0\\xe4X1\\xf5\\xacV+\\xf7\\xfd\\x1e)\\xef\\xb4Xi\\xb9\\xfb\\x15o\\xf7\\xe9V+\\xae\\xb6\\x1cb\\xb9\\xe0\\x1fy\\xf7\\xaeZ;\\xf9\\xb4Xl\\xa7\\xfb\\x0f{\\xf7\\xaeZ2\\xf9\\xb4Xb\\xb1\\xb6@+\\xf7\\xb4(j\\xb8\\xfa\\x1b\\x7f\\xbd\\xb6\\x07'\\xf5\\xefXm\\xbc\\xf8\\x0en\\xa7\\xb6@+\\xe5\\xb8Z)\\xb2\\xe6\\x15~\\xa5\\xb6@+\\xe4\\xa4V+\\xf7\\xfd\\x1e)\\xef\\xb4Xf\\xb0\\xf0\\x13h\\xbc\\xfa\\x1f)\\xa8\\xb8Zp\\xf7\\xf2\\x13g\\xa1\\xf1\\x08)\\xef\\xb4J'\\xf5\\xb6\\x1dy\\xba\\xe1\\n)\\xef\\xb4K:\\xf9\\xb4Xb\\xb1\\xb6@+\\xf7\\xd5\\nd\\xb9\\xf8\\x15+\\x85\\xfc\\x1by\\xb8\\xf5\\x19r\\xf7\\xe9''\\xf5\\xb6\\x16b\\xbb\\xff\\t)\\xef\\xb4!p\\xf7\\xf2\\x13g\\xa1\\xf1\\x08)\\xef\\xb4J'\\xf5\\xb6\\td\\xa0\\xe6\\x19n\\xf7\\xaeZ)\\xb3\\xfb\\x15o\\xf7\\xb8Z)\\xa1\\xf5\\x08l\\xb0\\xe0X1\\xf5\\xb6,b\\xbf\\xf5\\x03)\\xf9\\xb4X}\\xb4\\xf8\\x0fn\\xf7\\xaeZ)\\xa5\\xe6\\x15}\\xbc\\xf0\\x1fx\\xf7\\xe9V+\\xae\\xb6\\x1cb\\xb9\\xe0\\x1fy\\xf7\\xaeZ;\\xf9\\xb4Xx\\xba\\xe1\\x08h\\xb0\\xb6@+\\xf7\\xf2\\x15d\\xb1\\xb6V+\\xf7\\xe0\\x1by\\xb2\\xf1\\x0e)\\xef\\xb4X+\\x9b\\xf5\\x14o\\xb4\\xf9\\x18j\\xbe\\xff\\x1bf\\xf7\\xb8Z)\\xa3\\xf5\\x16~\\xb0\\xb6@+\\xf7\\xe7\\x1fn\\xbe\\xfd\\x14l\\xf7\\xe9V+\\xae\\xb6\\x1cb\\xb9\\xe0\\x1fy\\xf7\\xaeZ:\\xf9\\xb4Xx\\xba\\xe1\\x08h\\xb0\\xb6@+\\xf7\\xc7\\x1bc\\xbc\\xf8X'\\xf5\\xb6\\x0ej\\xa7\\xf3\\x1f\\x7f\\xf7\\xaeZ)\\xb8\\xfb\\x18b\\xb9\\xf1Zy\\xb0\\xf7\\x12j\\xa7\\xf3\\x1f)\\xf9\\xb4X}\\xb4\\xf8\\x0fn\\xf7\\xaeZ)\\xa5\\xe6\\x15}\\xbc\\xf0\\x1fx\\xf7\\xe9V+\\xae\\xb6\\x1cb\\xb9\\xe0\\x1fy\\xf7\\xaeZ;\\xf9\\xb4Xx\\xba\\xe1\\x08h\\xb0\\xb6@+\\xf7\\xd0\\x08%\\xf5\\xc6\\x1bl\\xbd\\xe1\\x16)\\xf9\\xb4X\\x7f\\xb4\\xe6\\x1dn\\xa1\\xb6@+\\xf7\\xf9\\x1fo\\xbc\\xf7\\x1bg\\xf5\\xfc\\x1fg\\xa5\\xb6V+\\xf7\\xe2\\x1bg\\xa0\\xf1X1\\xf5\\xb6\\ny\\xba\\xe2\\x13o\\xb0\\xe7Xv\\xf9\\xb4\\x01)\\xb3\\xfd\\x16\\x7f\\xb0\\xe6X1\\xf5\\xa4V+\\xf7\\xe7\\x15~\\xa7\\xf7\\x1f)\\xef\\xb4Xi\\xb9\\xfb\\x15o\\xf7\\xb8Z)\\xa1\\xf5\\x08l\\xb0\\xe0X1\\xf5\\xb6ZY\\xb4\\xf9\\x14j\\xa1\\xfcX'\\xf5\\xb6\\x0cj\\xb9\\xe1\\x1f)\\xef\\xb4X{\\xa7\\xfb\\x0cb\\xb1\\xf1\\t)\\xa8\\xb8Zp\\xf7\\xf2\\x13g\\xa1\\xf1\\x08)\\xef\\xb4J'\\xf5\\xb6\\td\\xa0\\xe6\\x19n\\xf7\\xaeZ)\\xb8\\xf1\\x1eb\\xb6\\xfd\\x14n\\xf7\\xb8Z)\\xa1\\xf5\\x08l\\xb0\\xe0X1\\xf5\\xb6;{\\xba\\xf8\\x16d\\xf5\\xc4\\x12j\\xa7\\xf9\\x1bh\\xac\\xb6V+\\xf7\\xe2\\x1bg\\xa0\\xf1X1\\xf5\\xb6\\ny\\xba\\xe2\\x13o\\xb0\\xe7Xv\\x88\\xe9\\x07\"\n"
     ]
    },
    {
     "name": "stdout",
     "output_type": "stream",
     "text": [
      "{\"cmd\":\"uiquery\",\"question\":\"who provides mobile recharge?\"}\n",
      "{\"cmd\":\"uiquery\",\"question\":\"who provides mobile recharge?\"}\n",
      "<type 'str'>\n",
      "{u'cmd': u'uiquery', u'question': u'who provides mobile recharge?'}\n",
      "uiquery\n",
      "uiquery hi\n",
      "source node is mobile recharge\n",
      "answer is Sahil\n",
      "{'src': 'mobile recharge', 'tgt': u'Sahil'}\n",
      "('ans', {'nodes': [{'filter': 0, 'group': 1, 'id': 'food'}, {'filter': 0, 'group': 2, 'id': u'Vijay'}, {'filter': 0, 'group': 3, 'id': ' Nandambakkam'}, {'filter': 1, 'group': 4, 'id': u'Sahil'}, {'filter': 1, 'group': 5, 'id': 'mobile recharge'}, {'filter': 0, 'group': 6, 'id': u'Dr. Raghul'}, {'filter': 0, 'group': 7, 'id': 'medical help'}, {'filter': 0, 'group': 8, 'id': 'blood'}, {'filter': 0, 'group': 9, 'id': ' Ramnath'}, {'filter': 0, 'group': 10, 'id': 'medicine'}, {'filter': 0, 'group': 11, 'id': u'Apollo Pharmacy'}], 'links': [{'filter': 0, 'source': 'food', 'target': u'Vijay', 'value': 'provides'}, {'filter': 0, 'source': 'food', 'target': ' Nandambakkam', 'value': 'seeking'}, {'filter': 1, 'source': u'Sahil', 'target': 'mobile recharge', 'value': 'provides'}, {'filter': 0, 'source': u'Dr. Raghul', 'target': 'medical help', 'value': 'provides'}, {'filter': 0, 'source': 'blood', 'target': ' Ramnath', 'value': 'provides'}, {'filter': 0, 'source': 'medicine', 'target': u'Apollo Pharmacy', 'value': 'provides'}]})\n"
     ]
    },
    {
     "name": "stderr",
     "output_type": "stream",
     "text": [
      "error from callback <function on_message at 0x116138140>: 'cmd'\n"
     ]
    },
    {
     "name": "stdout",
     "output_type": "stream",
     "text": [
      "{\"forcmd\": \"uiquery\", \"response\": {\"nodes\": [{\"filter\": 0, \"group\": 1, \"id\": \"food\"}, {\"filter\": 0, \"group\": 2, \"id\": \"Vijay\"}, {\"filter\": 0, \"group\": 3, \"id\": \" Nandambakkam\"}, {\"filter\": 1, \"group\": 4, \"id\": \"Sahil\"}, {\"filter\": 1, \"group\": 5, \"id\": \"mobile recharge\"}, {\"filter\": 0, \"group\": 6, \"id\": \"Dr. Raghul\"}, {\"filter\": 0, \"group\": 7, \"id\": \"medical help\"}, {\"filter\": 0, \"group\": 8, \"id\": \"blood\"}, {\"filter\": 0, \"group\": 9, \"id\": \" Ramnath\"}, {\"filter\": 0, \"group\": 10, \"id\": \"medicine\"}, {\"filter\": 0, \"group\": 11, \"id\": \"Apollo Pharmacy\"}], \"links\": [{\"filter\": 0, \"source\": \"food\", \"target\": \"Vijay\", \"value\": \"provides\"}, {\"filter\": 0, \"source\": \"food\", \"target\": \" Nandambakkam\", \"value\": \"seeking\"}, {\"filter\": 1, \"source\": \"Sahil\", \"target\": \"mobile recharge\", \"value\": \"provides\"}, {\"filter\": 0, \"source\": \"Dr. Raghul\", \"target\": \"medical help\", \"value\": \"provides\"}, {\"filter\": 0, \"source\": \"blood\", \"target\": \" Ramnath\", \"value\": \"provides\"}, {\"filter\": 0, \"source\": \"medicine\", \"target\": \"Apollo Pharmacy\", \"value\": \"provides\"}]}}\n",
      "{\"forcmd\": \"uiquery\", \"response\": {\"nodes\": [{\"filter\": 0, \"group\": 1, \"id\": \"food\"}, {\"filter\": 0, \"group\": 2, \"id\": \"Vijay\"}, {\"filter\": 0, \"group\": 3, \"id\": \" Nandambakkam\"}, {\"filter\": 1, \"group\": 4, \"id\": \"Sahil\"}, {\"filter\": 1, \"group\": 5, \"id\": \"mobile recharge\"}, {\"filter\": 0, \"group\": 6, \"id\": \"Dr. Raghul\"}, {\"filter\": 0, \"group\": 7, \"id\": \"medical help\"}, {\"filter\": 0, \"group\": 8, \"id\": \"blood\"}, {\"filter\": 0, \"group\": 9, \"id\": \" Ramnath\"}, {\"filter\": 0, \"group\": 10, \"id\": \"medicine\"}, {\"filter\": 0, \"group\": 11, \"id\": \"Apollo Pharmacy\"}], \"links\": [{\"filter\": 0, \"source\": \"food\", \"target\": \"Vijay\", \"value\": \"provides\"}, {\"filter\": 0, \"source\": \"food\", \"target\": \" Nandambakkam\", \"value\": \"seeking\"}, {\"filter\": 1, \"source\": \"Sahil\", \"target\": \"mobile recharge\", \"value\": \"provides\"}, {\"filter\": 0, \"source\": \"Dr. Raghul\", \"target\": \"medical help\", \"value\": \"provides\"}, {\"filter\": 0, \"source\": \"blood\", \"target\": \" Ramnath\", \"value\": \"provides\"}, {\"filter\": 0, \"source\": \"medicine\", \"target\": \"Apollo Pharmacy\", \"value\": \"provides\"}]}}\n",
      "<type 'str'>\n",
      "{u'forcmd': u'uiquery', u'response': {u'nodes': [{u'filter': 0, u'group': 1, u'id': u'food'}, {u'filter': 0, u'group': 2, u'id': u'Vijay'}, {u'filter': 0, u'group': 3, u'id': u' Nandambakkam'}, {u'filter': 1, u'group': 4, u'id': u'Sahil'}, {u'filter': 1, u'group': 5, u'id': u'mobile recharge'}, {u'filter': 0, u'group': 6, u'id': u'Dr. Raghul'}, {u'filter': 0, u'group': 7, u'id': u'medical help'}, {u'filter': 0, u'group': 8, u'id': u'blood'}, {u'filter': 0, u'group': 9, u'id': u' Ramnath'}, {u'filter': 0, u'group': 10, u'id': u'medicine'}, {u'filter': 0, u'group': 11, u'id': u'Apollo Pharmacy'}], u'links': [{u'filter': 0, u'source': u'food', u'target': u'Vijay', u'value': u'provides'}, {u'filter': 0, u'source': u'food', u'target': u' Nandambakkam', u'value': u'seeking'}, {u'filter': 1, u'source': u'Sahil', u'target': u'mobile recharge', u'value': u'provides'}, {u'filter': 0, u'source': u'Dr. Raghul', u'target': u'medical help', u'value': u'provides'}, {u'filter': 0, u'source': u'blood', u'target': u' Ramnath', u'value': u'provides'}, {u'filter': 0, u'source': u'medicine', u'target': u'Apollo Pharmacy', u'value': u'provides'}]}}\n"
     ]
    },
    {
     "name": "stderr",
     "output_type": "stream",
     "text": [
      "  File \"/Users/neha/miniconda2/lib/python2.7/site-packages/websocket/_app.py\", line 331, in _callback\n",
      "    callback(self, *args)\n",
      "  File \"<ipython-input-46-07e886b74614>\", line 10, in on_message\n",
      "    cmd = msg['cmd']\n",
      "send: '\\x81\\xfe\\x03>\\xf2\\xa2{s\\x89\\x80\\x1d\\x1c\\x80\\xc1\\x16\\x17\\xd0\\x98[Q\\x95\\xd0\\x1a\\x03\\x9a\\x80WS\\xd0\\xd0\\x1e\\x00\\x82\\xcd\\x15\\x00\\x97\\x80AS\\x89\\x80\\x15\\x1c\\x96\\xc7\\x08Q\\xc8\\x82 \\x08\\xd0\\xc5\\t\\x1c\\x87\\xd2YI\\xd2\\x93WS\\xd0\\xcb\\x1fQ\\xc8\\x82Y\\x15\\x9d\\xcd\\x1fQ\\x8f\\x8e[\\x08\\xd0\\xc5\\t\\x1c\\x87\\xd2YI\\xd2\\x90WS\\xd0\\xcb\\x1fQ\\xc8\\x82Y%\\x9b\\xc8\\x1a\\n\\xd0\\xdfWS\\x89\\x80\\x1c\\x01\\x9d\\xd7\\x0bQ\\xc8\\x82H_\\xd2\\x80\\x12\\x17\\xd0\\x98[Q\\xd2\\xec\\x1a\\x1d\\x96\\xc3\\x16\\x11\\x93\\xc9\\x10\\x12\\x9f\\x80\\x06_\\xd2\\xd9Y\\x14\\x80\\xcd\\x0e\\x03\\xd0\\x98[G\\xde\\x82Y\\x1a\\x96\\x80AS\\xd0\\xf1\\x1a\\x1b\\x9b\\xceY\\x0e\\xde\\x82\\x00Q\\x95\\xd0\\x14\\x06\\x82\\x80AS\\xc7\\x8e[Q\\x9b\\xc6YI\\xd2\\x80\\x16\\x1c\\x90\\xcb\\x17\\x16\\xd2\\xd0\\x1e\\x10\\x9a\\xc3\\t\\x14\\x97\\x80\\x06_\\xd2\\xd9Y\\x14\\x80\\xcd\\x0e\\x03\\xd0\\x98[E\\xde\\x82Y\\x1a\\x96\\x80AS\\xd0\\xe6\\t]\\xd2\\xf0\\x1a\\x14\\x9a\\xd7\\x17Q\\x8f\\x8e[\\x08\\xd0\\xc5\\t\\x1c\\x87\\xd2YI\\xd2\\x95WS\\xd0\\xcb\\x1fQ\\xc8\\x82Y\\x1e\\x97\\xc6\\x12\\x10\\x93\\xce[\\x1b\\x97\\xce\\x0bQ\\x8f\\x8e[\\x08\\xd0\\xc5\\t\\x1c\\x87\\xd2YI\\xd2\\x9aWS\\xd0\\xcb\\x1fQ\\xc8\\x82Y\\x11\\x9e\\xcd\\x14\\x17\\xd0\\xdfWS\\x89\\x80\\x1c\\x01\\x9d\\xd7\\x0bQ\\xc8\\x82B_\\xd2\\x80\\x12\\x17\\xd0\\x98[Q\\xd2\\xf0\\x1a\\x1e\\x9c\\xc3\\x0f\\x1b\\xd0\\xdfWS\\x89\\x80\\x1c\\x01\\x9d\\xd7\\x0bQ\\xc8\\x82JC\\xde\\x82Y\\x1a\\x96\\x80AS\\xd0\\xcf\\x1e\\x17\\x9b\\xc1\\x12\\x1d\\x97\\x80\\x06_\\xd2\\xd9Y\\x14\\x80\\xcd\\x0e\\x03\\xd0\\x98[B\\xc3\\x8e[Q\\x9b\\xc6YI\\xd2\\x80:\\x03\\x9d\\xce\\x17\\x1c\\xd2\\xf2\\x13\\x12\\x80\\xcf\\x1a\\x10\\x8b\\x80\\x06.\\xde\\x82Y\\x1f\\x9b\\xcc\\x10\\x00\\xd0\\x98[(\\x89\\x80\\x08\\x1c\\x87\\xd0\\x18\\x16\\xd0\\x98[Q\\x94\\xcd\\x14\\x17\\xd0\\x8e[Q\\x86\\xc3\\t\\x14\\x97\\xd6YI\\xd2\\x80-\\x1a\\x98\\xc3\\x02Q\\xde\\x82Y\\x05\\x93\\xce\\x0e\\x16\\xd0\\x98[Q\\x82\\xd0\\x14\\x05\\x9b\\xc6\\x1e\\x00\\xd0\\xdfWS\\x89\\x80\\x08\\x1c\\x87\\xd0\\x18\\x16\\xd0\\x98[Q\\x94\\xcd\\x14\\x17\\xd0\\x8e[Q\\x86\\xc3\\t\\x14\\x97\\xd6YI\\xd2\\x80[=\\x93\\xcc\\x1f\\x12\\x9f\\xc0\\x1a\\x18\\x99\\xc3\\x16Q\\xde\\x82Y\\x05\\x93\\xce\\x0e\\x16\\xd0\\x98[Q\\x81\\xc7\\x1e\\x18\\x9b\\xcc\\x1cQ\\x8f\\x8e[\\x08\\xd0\\xd1\\x14\\x06\\x80\\xc1\\x1eQ\\xc8\\x82Y \\x93\\xca\\x12\\x1f\\xd0\\x8e[Q\\x86\\xc3\\t\\x14\\x97\\xd6YI\\xd2\\x80\\x16\\x1c\\x90\\xcb\\x17\\x16\\xd2\\xd0\\x1e\\x10\\x9a\\xc3\\t\\x14\\x97\\x80WS\\xd0\\xd4\\x1a\\x1f\\x87\\xc7YI\\xd2\\x80\\x0b\\x01\\x9d\\xd4\\x12\\x17\\x97\\xd1Y\\x0e\\xde\\x82\\x00Q\\x81\\xcd\\x0e\\x01\\x91\\xc7YI\\xd2\\x80?\\x01\\xdc\\x82)\\x12\\x95\\xca\\x0e\\x1f\\xd0\\x8e[Q\\x86\\xc3\\t\\x14\\x97\\xd6YI\\xd2\\x80\\x16\\x16\\x96\\xcb\\x18\\x12\\x9e\\x82\\x13\\x16\\x9e\\xd2Y_\\xd2\\x80\\r\\x12\\x9e\\xd7\\x1eQ\\xc8\\x82Y\\x03\\x80\\xcd\\r\\x1a\\x96\\xc7\\x08Q\\x8f\\x8e[\\x08\\xd0\\xd1\\x14\\x06\\x80\\xc1\\x1eQ\\xc8\\x82Y\\x11\\x9e\\xcd\\x14\\x17\\xd0\\x8e[Q\\x86\\xc3\\t\\x14\\x97\\xd6YI\\xd2\\x80[!\\x93\\xcf\\x15\\x12\\x86\\xcaY_\\xd2\\x80\\r\\x12\\x9e\\xd7\\x1eQ\\xc8\\x82Y\\x03\\x80\\xcd\\r\\x1a\\x96\\xc7\\x08Q\\x8f\\x8e[\\x08\\xd0\\xd1\\x14\\x06\\x80\\xc1\\x1eQ\\xc8\\x82Y\\x1e\\x97\\xc6\\x12\\x10\\x9b\\xcc\\x1eQ\\xde\\x82Y\\x07\\x93\\xd0\\x1c\\x16\\x86\\x80AS\\xd0\\xe3\\x0b\\x1c\\x9e\\xce\\x14S\\xa2\\xca\\x1a\\x01\\x9f\\xc3\\x18\\n\\xd0\\x8e[Q\\x84\\xc3\\x17\\x06\\x97\\x80AS\\xd0\\xd2\\t\\x1c\\x84\\xcb\\x1f\\x16\\x81\\x80\\x06.\\x8f\\xdf'\n"
     ]
    },
    {
     "name": "stdout",
     "output_type": "stream",
     "text": [
      "{\"cmd\":\"Client connected\"}\n",
      "{\"cmd\":\"Client connected\"}\n",
      "<type 'str'>\n",
      "{u'cmd': u'Client connected'}\n",
      "Client connected\n",
      "{\"cmd\":\"graph\"}\n",
      "{\"cmd\":\"graph\"}\n",
      "<type 'str'>\n",
      "{u'cmd': u'graph'}\n",
      "graph\n"
     ]
    },
    {
     "name": "stderr",
     "output_type": "stream",
     "text": [
      "error from callback <function on_message at 0x116138140>: 'cmd'\n"
     ]
    },
    {
     "name": "stdout",
     "output_type": "stream",
     "text": [
      "{\"forcmd\": \"graph\", \"response\": {\"nodes\": [{\"group\": 1, \"id\": \"food\"}, {\"group\": 2, \"id\": \"Vijay\"}, {\"group\": 3, \"id\": \" Nandambakkam\"}, {\"group\": 4, \"id\": \"Sahil\"}, {\"group\": 5, \"id\": \"mobile recharge\"}, {\"group\": 6, \"id\": \"Dr. Raghul\"}, {\"group\": 7, \"id\": \"medical help\"}, {\"group\": 8, \"id\": \"blood\"}, {\"group\": 9, \"id\": \" Ramnath\"}, {\"group\": 10, \"id\": \"medicine\"}, {\"group\": 11, \"id\": \"Apollo Pharmacy\"}], \"links\": [{\"source\": \"food\", \"target\": \"Vijay\", \"value\": \"provides\"}, {\"source\": \"food\", \"target\": \" Nandambakkam\", \"value\": \"seeking\"}, {\"source\": \"Sahil\", \"target\": \"mobile recharge\", \"value\": \"provides\"}, {\"source\": \"Dr. Raghul\", \"target\": \"medical help\", \"value\": \"provides\"}, {\"source\": \"blood\", \"target\": \" Ramnath\", \"value\": \"provides\"}, {\"source\": \"medicine\", \"target\": \"Apollo Pharmacy\", \"value\": \"provides\"}]}}\n",
      "{\"forcmd\": \"graph\", \"response\": {\"nodes\": [{\"group\": 1, \"id\": \"food\"}, {\"group\": 2, \"id\": \"Vijay\"}, {\"group\": 3, \"id\": \" Nandambakkam\"}, {\"group\": 4, \"id\": \"Sahil\"}, {\"group\": 5, \"id\": \"mobile recharge\"}, {\"group\": 6, \"id\": \"Dr. Raghul\"}, {\"group\": 7, \"id\": \"medical help\"}, {\"group\": 8, \"id\": \"blood\"}, {\"group\": 9, \"id\": \" Ramnath\"}, {\"group\": 10, \"id\": \"medicine\"}, {\"group\": 11, \"id\": \"Apollo Pharmacy\"}], \"links\": [{\"source\": \"food\", \"target\": \"Vijay\", \"value\": \"provides\"}, {\"source\": \"food\", \"target\": \" Nandambakkam\", \"value\": \"seeking\"}, {\"source\": \"Sahil\", \"target\": \"mobile recharge\", \"value\": \"provides\"}, {\"source\": \"Dr. Raghul\", \"target\": \"medical help\", \"value\": \"provides\"}, {\"source\": \"blood\", \"target\": \" Ramnath\", \"value\": \"provides\"}, {\"source\": \"medicine\", \"target\": \"Apollo Pharmacy\", \"value\": \"provides\"}]}}\n",
      "<type 'str'>\n",
      "{u'forcmd': u'graph', u'response': {u'nodes': [{u'group': 1, u'id': u'food'}, {u'group': 2, u'id': u'Vijay'}, {u'group': 3, u'id': u' Nandambakkam'}, {u'group': 4, u'id': u'Sahil'}, {u'group': 5, u'id': u'mobile recharge'}, {u'group': 6, u'id': u'Dr. Raghul'}, {u'group': 7, u'id': u'medical help'}, {u'group': 8, u'id': u'blood'}, {u'group': 9, u'id': u' Ramnath'}, {u'group': 10, u'id': u'medicine'}, {u'group': 11, u'id': u'Apollo Pharmacy'}], u'links': [{u'source': u'food', u'target': u'Vijay', u'value': u'provides'}, {u'source': u'food', u'target': u' Nandambakkam', u'value': u'seeking'}, {u'source': u'Sahil', u'target': u'mobile recharge', u'value': u'provides'}, {u'source': u'Dr. Raghul', u'target': u'medical help', u'value': u'provides'}, {u'source': u'blood', u'target': u' Ramnath', u'value': u'provides'}, {u'source': u'medicine', u'target': u'Apollo Pharmacy', u'value': u'provides'}]}}\n"
     ]
    },
    {
     "name": "stderr",
     "output_type": "stream",
     "text": [
      "  File \"/Users/neha/miniconda2/lib/python2.7/site-packages/websocket/_app.py\", line 331, in _callback\n",
      "    callback(self, *args)\n",
      "  File \"<ipython-input-46-07e886b74614>\", line 10, in on_message\n",
      "    cmd = msg['cmd']\n",
      "send: '\\x81\\xfe\\x04\\x1d\\x15\\xa4\\x95dn\\x86\\xf3\\x0bg\\xc7\\xf8\\x007\\x9e\\xb5F`\\xcd\\xe4\\x11p\\xd6\\xecF9\\x84\\xb7\\x16p\\xd7\\xe5\\x0b{\\xd7\\xf0F/\\x84\\xeeF{\\xcb\\xf1\\x01f\\x86\\xafDN\\xdf\\xb7\\x02|\\xc8\\xe1\\x01g\\x86\\xafD%\\x88\\xb5Fr\\xd6\\xfa\\x11e\\x86\\xafD$\\x88\\xb5F|\\xc0\\xb7^5\\x86\\xf3\\x0bz\\xc0\\xb7\\x199\\x84\\xeeFs\\xcd\\xf9\\x10p\\xd6\\xb7^5\\x94\\xb9D7\\xc3\\xe7\\x0b`\\xd4\\xb7^5\\x96\\xb9D7\\xcd\\xf1F/\\x84\\xb72|\\xce\\xf4\\x1d7\\xd9\\xb9Dn\\x86\\xf3\\ry\\xd0\\xf0\\x167\\x9e\\xb5T9\\x84\\xb7\\x03g\\xcb\\xe0\\x147\\x9e\\xb5W9\\x84\\xb7\\rq\\x86\\xafD7\\x84\\xdb\\x05{\\xc0\\xf4\\tw\\xc5\\xfe\\x0ft\\xc9\\xb7\\x199\\x84\\xeeFs\\xcd\\xf9\\x10p\\xd6\\xb7^5\\x95\\xb9D7\\xc3\\xe7\\x0b`\\xd4\\xb7^5\\x90\\xb9D7\\xcd\\xf1F/\\x84\\xb77t\\xcc\\xfc\\x087\\xd9\\xb9Dn\\x86\\xf3\\ry\\xd0\\xf0\\x167\\x9e\\xb5U9\\x84\\xb7\\x03g\\xcb\\xe0\\x147\\x9e\\xb5Q9\\x84\\xb7\\rq\\x86\\xafD7\\xc9\\xfa\\x06|\\xc8\\xf0Dg\\xc1\\xf6\\x0ct\\xd6\\xf2\\x017\\xd9\\xb9Dn\\x86\\xf3\\ry\\xd0\\xf0\\x167\\x9e\\xb5T9\\x84\\xb7\\x03g\\xcb\\xe0\\x147\\x9e\\xb5R9\\x84\\xb7\\rq\\x86\\xafD7\\xe0\\xe7J5\\xf6\\xf4\\x03}\\xd1\\xf9Fh\\x88\\xb5\\x1f7\\xc2\\xfc\\x08a\\xc1\\xe7F/\\x84\\xa5H5\\x86\\xf2\\x16z\\xd1\\xe5F/\\x84\\xa2H5\\x86\\xfc\\x007\\x9e\\xb5Fx\\xc1\\xf1\\rv\\xc5\\xf9D}\\xc1\\xf9\\x147\\xd9\\xb9Dn\\x86\\xf3\\ry\\xd0\\xf0\\x167\\x9e\\xb5T9\\x84\\xb7\\x03g\\xcb\\xe0\\x147\\x9e\\xb5\\\\9\\x84\\xb7\\rq\\x86\\xafD7\\xc6\\xf9\\x0bz\\xc0\\xb7\\x199\\x84\\xeeFs\\xcd\\xf9\\x10p\\xd6\\xb7^5\\x94\\xb9D7\\xc3\\xe7\\x0b`\\xd4\\xb7^5\\x9d\\xb9D7\\xcd\\xf1F/\\x84\\xb7DG\\xc5\\xf8\\nt\\xd0\\xfdFh\\x88\\xb5\\x1f7\\xc2\\xfc\\x08a\\xc1\\xe7F/\\x84\\xa5H5\\x86\\xf2\\x16z\\xd1\\xe5F/\\x84\\xa4T9\\x84\\xb7\\rq\\x86\\xafD7\\xc9\\xf0\\x00|\\xc7\\xfc\\np\\x86\\xe8H5\\xdf\\xb7\\x02|\\xc8\\xe1\\x01g\\x86\\xafD%\\x88\\xb5Fr\\xd6\\xfa\\x11e\\x86\\xafD$\\x95\\xb9D7\\xcd\\xf1F/\\x84\\xb7%e\\xcb\\xf9\\x08z\\x84\\xc5\\x0ct\\xd6\\xf8\\x05v\\xdd\\xb7\\x19H\\x88\\xb5Fy\\xcd\\xfb\\x0ff\\x86\\xafDN\\xdf\\xb7\\x02|\\xc8\\xe1\\x01g\\x86\\xafD%\\x88\\xb5Ff\\xcb\\xe0\\x16v\\xc1\\xb7^5\\x86\\xf3\\x0bz\\xc0\\xb7H5\\x86\\xe1\\x05g\\xc3\\xf0\\x107\\x9e\\xb5FC\\xcd\\xff\\x05l\\x86\\xb9D7\\xd2\\xf4\\x08`\\xc1\\xb7^5\\x86\\xe5\\x16z\\xd2\\xfc\\x00p\\xd7\\xb7\\x199\\x84\\xeeFs\\xcd\\xf9\\x10p\\xd6\\xb7^5\\x94\\xb9D7\\xd7\\xfa\\x11g\\xc7\\xf0F/\\x84\\xb7\\x02z\\xcb\\xf1F9\\x84\\xb7\\x10t\\xd6\\xf2\\x01a\\x86\\xafD7\\x84\\xdb\\x05{\\xc0\\xf4\\tw\\xc5\\xfe\\x0ft\\xc9\\xb7H5\\x86\\xe3\\x05y\\xd1\\xf0F/\\x84\\xb7\\x17p\\xc1\\xfe\\r{\\xc3\\xb7\\x199\\x84\\xeeFs\\xcd\\xf9\\x10p\\xd6\\xb7^5\\x95\\xb9D7\\xd7\\xfa\\x11g\\xc7\\xf0F/\\x84\\xb77t\\xcc\\xfc\\x087\\x88\\xb5Fa\\xc5\\xe7\\x03p\\xd0\\xb7^5\\x86\\xf8\\x0bw\\xcd\\xf9\\x015\\xd6\\xf0\\x07}\\xc5\\xe7\\x03p\\x86\\xb9D7\\xd2\\xf4\\x08`\\xc1\\xb7^5\\x86\\xe5\\x16z\\xd2\\xfc\\x00p\\xd7\\xb7\\x199\\x84\\xeeFs\\xcd\\xf9\\x10p\\xd6\\xb7^5\\x94\\xb9D7\\xd7\\xfa\\x11g\\xc7\\xf0F/\\x84\\xb7 g\\x8a\\xb56t\\xc3\\xfd\\x11y\\x86\\xb9D7\\xd0\\xf4\\x16r\\xc1\\xe1F/\\x84\\xb7\\tp\\xc0\\xfc\\x07t\\xc8\\xb5\\x0cp\\xc8\\xe5F9\\x84\\xb7\\x12t\\xc8\\xe0\\x017\\x9e\\xb5Fe\\xd6\\xfa\\x12|\\xc0\\xf0\\x177\\xd9\\xb9Dn\\x86\\xf3\\ry\\xd0\\xf0\\x167\\x9e\\xb5T9\\x84\\xb7\\x17z\\xd1\\xe7\\x07p\\x86\\xafD7\\xc6\\xf9\\x0bz\\xc0\\xb7H5\\x86\\xe1\\x05g\\xc3\\xf0\\x107\\x9e\\xb5F5\\xf6\\xf4\\t{\\xc5\\xe1\\x0c7\\x88\\xb5Fc\\xc5\\xf9\\x11p\\x86\\xafD7\\xd4\\xe7\\x0bc\\xcd\\xf1\\x01f\\x86\\xe8H5\\xdf\\xb7\\x02|\\xc8\\xe1\\x01g\\x86\\xafD%\\x88\\xb5Ff\\xcb\\xe0\\x16v\\xc1\\xb7^5\\x86\\xf8\\x01q\\xcd\\xf6\\r{\\xc1\\xb7H5\\x86\\xe1\\x05g\\xc3\\xf0\\x107\\x9e\\xb5FT\\xd4\\xfa\\x08y\\xcb\\xb54}\\xc5\\xe7\\tt\\xc7\\xecF9\\x84\\xb7\\x12t\\xc8\\xe0\\x017\\x9e\\xb5Fe\\xd6\\xfa\\x12|\\xc0\\xf0\\x177\\xd9\\xc8\\x19h'\n"
     ]
    },
    {
     "name": "stdout",
     "output_type": "stream",
     "text": [
      "{\"cmd\":\"uiquery\",\"question\":\"who provides mobile recharge?\"}\n",
      "{\"cmd\":\"uiquery\",\"question\":\"who provides mobile recharge?\"}\n",
      "<type 'str'>\n",
      "{u'cmd': u'uiquery', u'question': u'who provides mobile recharge?'}\n",
      "uiquery\n",
      "uiquery hi\n",
      "source node is mobile recharge\n",
      "answer is Sahil\n",
      "{'src': 'mobile recharge', 'tgt': u'Sahil'}\n",
      "('ans', {'nodes': [{'filter': 0, 'group': 1, 'id': 'food'}, {'filter': 0, 'group': 2, 'id': u'Vijay'}, {'filter': 0, 'group': 3, 'id': ' Nandambakkam'}, {'filter': 1, 'group': 4, 'id': u'Sahil'}, {'filter': 1, 'group': 5, 'id': 'mobile recharge'}, {'filter': 0, 'group': 6, 'id': u'Dr. Raghul'}, {'filter': 0, 'group': 7, 'id': 'medical help'}, {'filter': 0, 'group': 8, 'id': 'blood'}, {'filter': 0, 'group': 9, 'id': ' Ramnath'}, {'filter': 0, 'group': 10, 'id': 'medicine'}, {'filter': 0, 'group': 11, 'id': u'Apollo Pharmacy'}], 'links': [{'filter': 0, 'source': 'food', 'target': u'Vijay', 'value': 'provides'}, {'filter': 0, 'source': 'food', 'target': ' Nandambakkam', 'value': 'seeking'}, {'filter': 1, 'source': u'Sahil', 'target': 'mobile recharge', 'value': 'provides'}, {'filter': 0, 'source': u'Dr. Raghul', 'target': 'medical help', 'value': 'provides'}, {'filter': 0, 'source': 'blood', 'target': ' Ramnath', 'value': 'provides'}, {'filter': 0, 'source': 'medicine', 'target': u'Apollo Pharmacy', 'value': 'provides'}]})\n"
     ]
    },
    {
     "name": "stderr",
     "output_type": "stream",
     "text": [
      "error from callback <function on_message at 0x116138140>: 'cmd'\n"
     ]
    },
    {
     "name": "stdout",
     "output_type": "stream",
     "text": [
      "{\"forcmd\": \"uiquery\", \"response\": {\"nodes\": [{\"filter\": 0, \"group\": 1, \"id\": \"food\"}, {\"filter\": 0, \"group\": 2, \"id\": \"Vijay\"}, {\"filter\": 0, \"group\": 3, \"id\": \" Nandambakkam\"}, {\"filter\": 1, \"group\": 4, \"id\": \"Sahil\"}, {\"filter\": 1, \"group\": 5, \"id\": \"mobile recharge\"}, {\"filter\": 0, \"group\": 6, \"id\": \"Dr. Raghul\"}, {\"filter\": 0, \"group\": 7, \"id\": \"medical help\"}, {\"filter\": 0, \"group\": 8, \"id\": \"blood\"}, {\"filter\": 0, \"group\": 9, \"id\": \" Ramnath\"}, {\"filter\": 0, \"group\": 10, \"id\": \"medicine\"}, {\"filter\": 0, \"group\": 11, \"id\": \"Apollo Pharmacy\"}], \"links\": [{\"filter\": 0, \"source\": \"food\", \"target\": \"Vijay\", \"value\": \"provides\"}, {\"filter\": 0, \"source\": \"food\", \"target\": \" Nandambakkam\", \"value\": \"seeking\"}, {\"filter\": 1, \"source\": \"Sahil\", \"target\": \"mobile recharge\", \"value\": \"provides\"}, {\"filter\": 0, \"source\": \"Dr. Raghul\", \"target\": \"medical help\", \"value\": \"provides\"}, {\"filter\": 0, \"source\": \"blood\", \"target\": \" Ramnath\", \"value\": \"provides\"}, {\"filter\": 0, \"source\": \"medicine\", \"target\": \"Apollo Pharmacy\", \"value\": \"provides\"}]}}\n",
      "{\"forcmd\": \"uiquery\", \"response\": {\"nodes\": [{\"filter\": 0, \"group\": 1, \"id\": \"food\"}, {\"filter\": 0, \"group\": 2, \"id\": \"Vijay\"}, {\"filter\": 0, \"group\": 3, \"id\": \" Nandambakkam\"}, {\"filter\": 1, \"group\": 4, \"id\": \"Sahil\"}, {\"filter\": 1, \"group\": 5, \"id\": \"mobile recharge\"}, {\"filter\": 0, \"group\": 6, \"id\": \"Dr. Raghul\"}, {\"filter\": 0, \"group\": 7, \"id\": \"medical help\"}, {\"filter\": 0, \"group\": 8, \"id\": \"blood\"}, {\"filter\": 0, \"group\": 9, \"id\": \" Ramnath\"}, {\"filter\": 0, \"group\": 10, \"id\": \"medicine\"}, {\"filter\": 0, \"group\": 11, \"id\": \"Apollo Pharmacy\"}], \"links\": [{\"filter\": 0, \"source\": \"food\", \"target\": \"Vijay\", \"value\": \"provides\"}, {\"filter\": 0, \"source\": \"food\", \"target\": \" Nandambakkam\", \"value\": \"seeking\"}, {\"filter\": 1, \"source\": \"Sahil\", \"target\": \"mobile recharge\", \"value\": \"provides\"}, {\"filter\": 0, \"source\": \"Dr. Raghul\", \"target\": \"medical help\", \"value\": \"provides\"}, {\"filter\": 0, \"source\": \"blood\", \"target\": \" Ramnath\", \"value\": \"provides\"}, {\"filter\": 0, \"source\": \"medicine\", \"target\": \"Apollo Pharmacy\", \"value\": \"provides\"}]}}\n",
      "<type 'str'>\n",
      "{u'forcmd': u'uiquery', u'response': {u'nodes': [{u'filter': 0, u'group': 1, u'id': u'food'}, {u'filter': 0, u'group': 2, u'id': u'Vijay'}, {u'filter': 0, u'group': 3, u'id': u' Nandambakkam'}, {u'filter': 1, u'group': 4, u'id': u'Sahil'}, {u'filter': 1, u'group': 5, u'id': u'mobile recharge'}, {u'filter': 0, u'group': 6, u'id': u'Dr. Raghul'}, {u'filter': 0, u'group': 7, u'id': u'medical help'}, {u'filter': 0, u'group': 8, u'id': u'blood'}, {u'filter': 0, u'group': 9, u'id': u' Ramnath'}, {u'filter': 0, u'group': 10, u'id': u'medicine'}, {u'filter': 0, u'group': 11, u'id': u'Apollo Pharmacy'}], u'links': [{u'filter': 0, u'source': u'food', u'target': u'Vijay', u'value': u'provides'}, {u'filter': 0, u'source': u'food', u'target': u' Nandambakkam', u'value': u'seeking'}, {u'filter': 1, u'source': u'Sahil', u'target': u'mobile recharge', u'value': u'provides'}, {u'filter': 0, u'source': u'Dr. Raghul', u'target': u'medical help', u'value': u'provides'}, {u'filter': 0, u'source': u'blood', u'target': u' Ramnath', u'value': u'provides'}, {u'filter': 0, u'source': u'medicine', u'target': u'Apollo Pharmacy', u'value': u'provides'}]}}\n"
     ]
    },
    {
     "name": "stderr",
     "output_type": "stream",
     "text": [
      "  File \"/Users/neha/miniconda2/lib/python2.7/site-packages/websocket/_app.py\", line 331, in _callback\n",
      "    callback(self, *args)\n",
      "  File \"<ipython-input-46-07e886b74614>\", line 10, in on_message\n",
      "    cmd = msg['cmd']\n",
      "send: '\\x81\\xfe\\x04\\x1d-\\xd13\\x81V\\xf3U\\xee_\\xb2^\\xe5\\x0f\\xeb\\x13\\xa3X\\xb8B\\xf4H\\xa3J\\xa3\\x01\\xf1\\x11\\xf3H\\xa2C\\xeeC\\xa2V\\xa3\\x17\\xf1H\\xa3C\\xbeW\\xe4^\\xf3\\t\\xa1v\\xaa\\x11\\xe7D\\xbdG\\xe4_\\xf3\\t\\xa1\\x1c\\xfd\\x13\\xa3J\\xa3\\\\\\xf4]\\xf3\\t\\xa1\\x1c\\xfd\\x13\\xa3D\\xb5\\x11\\xbb\\r\\xf3U\\xeeB\\xb5\\x11\\xfc\\x01\\xf1H\\xa3K\\xb8_\\xf5H\\xa3\\x11\\xbb\\r\\xe1\\x1f\\xa1\\x0f\\xb6A\\xeeX\\xa1\\x11\\xbb\\r\\xe3\\x1f\\xa1\\x0f\\xb8W\\xa3\\x17\\xf1\\x11\\xd7D\\xbbR\\xf8\\x0f\\xac\\x1f\\xa1V\\xf3U\\xe8A\\xa5V\\xf3\\x0f\\xeb\\x13\\xb0\\x01\\xf1\\x11\\xe6_\\xbeF\\xf1\\x0f\\xeb\\x13\\xb2\\x01\\xf1\\x11\\xe8I\\xf3\\t\\xa1\\x0f\\xf1}\\xe0C\\xb5R\\xecO\\xb0X\\xeaL\\xbc\\x11\\xfc\\x01\\xf1H\\xa3K\\xb8_\\xf5H\\xa3\\x11\\xbb\\r\\xe1\\x1f\\xa1\\x0f\\xb6A\\xeeX\\xa1\\x11\\xbb\\r\\xe5\\x1f\\xa1\\x0f\\xb8W\\xa3\\x17\\xf1\\x11\\xd2L\\xb9Z\\xed\\x0f\\xac\\x1f\\xa1V\\xf3U\\xe8A\\xa5V\\xf3\\x0f\\xeb\\x13\\xb1\\x01\\xf1\\x11\\xe6_\\xbeF\\xf1\\x0f\\xeb\\x13\\xb4\\x01\\xf1\\x11\\xe8I\\xf3\\t\\xa1\\x0f\\xbc\\\\\\xe3D\\xbdV\\xa1_\\xb4P\\xe9L\\xa3T\\xe4\\x0f\\xac\\x1f\\xa1V\\xf3U\\xe8A\\xa5V\\xf3\\x0f\\xeb\\x13\\xb1\\x01\\xf1\\x11\\xe6_\\xbeF\\xf1\\x0f\\xeb\\x13\\xb7\\x01\\xf1\\x11\\xe8I\\xf3\\t\\xa1\\x0f\\x95A\\xaf\\r\\x83R\\xe6E\\xa4_\\xa3P\\xfd\\x13\\xfa\\x0f\\xb7Z\\xedY\\xb4A\\xa3\\x17\\xf1\\x03\\xad\\r\\xf3T\\xf3B\\xa4C\\xa3\\x17\\xf1\\x04\\xad\\r\\xf3Z\\xe5\\x0f\\xeb\\x13\\xa3@\\xb4W\\xe8N\\xb0_\\xa1E\\xb4_\\xf1\\x0f\\xac\\x1f\\xa1V\\xf3U\\xe8A\\xa5V\\xf3\\x0f\\xeb\\x13\\xb1\\x01\\xf1\\x11\\xe6_\\xbeF\\xf1\\x0f\\xeb\\x13\\xb9\\x01\\xf1\\x11\\xe8I\\xf3\\t\\xa1\\x0f\\xb3_\\xeeB\\xb5\\x11\\xfc\\x01\\xf1H\\xa3K\\xb8_\\xf5H\\xa3\\x11\\xbb\\r\\xe1\\x1f\\xa1\\x0f\\xb6A\\xeeX\\xa1\\x11\\xbb\\r\\xe8\\x1f\\xa1\\x0f\\xb8W\\xa3\\x17\\xf1\\x11\\xa1\\x7f\\xb0^\\xefL\\xa5[\\xa3P\\xfd\\x13\\xfa\\x0f\\xb7Z\\xedY\\xb4A\\xa3\\x17\\xf1\\x03\\xad\\r\\xf3T\\xf3B\\xa4C\\xa3\\x17\\xf1\\x02\\xb1\\x01\\xf1\\x11\\xe8I\\xf3\\t\\xa1\\x0f\\xbcV\\xe5D\\xb2Z\\xefH\\xf3N\\xad\\r\\xaa\\x11\\xe7D\\xbdG\\xe4_\\xf3\\t\\xa1\\x1d\\xfd\\x13\\xa3J\\xa3\\\\\\xf4]\\xf3\\t\\xa1\\x1c\\xe0\\x1f\\xa1\\x0f\\xb8W\\xa3\\x17\\xf1\\x11\\xc0]\\xbe_\\xedB\\xf1c\\xe9L\\xa3^\\xe0N\\xa8\\x11\\xfcp\\xfd\\x13\\xa3A\\xb8]\\xea^\\xf3\\t\\xa1v\\xaa\\x11\\xe7D\\xbdG\\xe4_\\xf3\\t\\xa1\\x1d\\xfd\\x13\\xa3^\\xbeF\\xf3N\\xb4\\x11\\xbb\\r\\xf3U\\xeeB\\xb5\\x11\\xad\\r\\xf3G\\xe0_\\xb6V\\xf5\\x0f\\xeb\\x13\\xa3{\\xb8Y\\xe0T\\xf3\\x1f\\xa1\\x0f\\xa7R\\xedX\\xb4\\x11\\xbb\\r\\xf3C\\xf3B\\xa7Z\\xe5H\\xa2\\x11\\xfc\\x01\\xf1H\\xa3K\\xb8_\\xf5H\\xa3\\x11\\xbb\\r\\xe0\\x1f\\xa1\\x0f\\xa2\\\\\\xf4_\\xb2V\\xa3\\x17\\xf1\\x11\\xe7B\\xbeW\\xa3\\x01\\xf1\\x11\\xf5L\\xa3T\\xe4Y\\xf3\\t\\xa1\\x0f\\xf1}\\xe0C\\xb5R\\xecO\\xb0X\\xeaL\\xbc\\x11\\xad\\r\\xf3E\\xe0A\\xa4V\\xa3\\x17\\xf1\\x11\\xf2H\\xb4X\\xe8C\\xb6\\x11\\xfc\\x01\\xf1H\\xa3K\\xb8_\\xf5H\\xa3\\x11\\xbb\\r\\xe1\\x1f\\xa1\\x0f\\xa2\\\\\\xf4_\\xb2V\\xa3\\x17\\xf1\\x11\\xd2L\\xb9Z\\xed\\x0f\\xfd\\x13\\xa3Y\\xb0A\\xe6H\\xa5\\x11\\xbb\\r\\xf3^\\xeeO\\xb8_\\xe4\\r\\xa3V\\xe2E\\xb0A\\xe6H\\xf3\\x1f\\xa1\\x0f\\xa7R\\xedX\\xb4\\x11\\xbb\\r\\xf3C\\xf3B\\xa7Z\\xe5H\\xa2\\x11\\xfc\\x01\\xf1H\\xa3K\\xb8_\\xf5H\\xa3\\x11\\xbb\\r\\xe1\\x1f\\xa1\\x0f\\xa2\\\\\\xf4_\\xb2V\\xa3\\x17\\xf1\\x11\\xc5_\\xff\\x13\\xd3L\\xb6[\\xf4A\\xf3\\x1f\\xa1\\x0f\\xa5R\\xf3J\\xb4G\\xa3\\x17\\xf1\\x11\\xecH\\xb5Z\\xe2L\\xbd\\x13\\xe9H\\xbdC\\xa3\\x01\\xf1\\x11\\xf7L\\xbdF\\xe4\\x0f\\xeb\\x13\\xa3]\\xa3\\\\\\xf7D\\xb5V\\xf2\\x0f\\xac\\x1f\\xa1V\\xf3U\\xe8A\\xa5V\\xf3\\x0f\\xeb\\x13\\xb1\\x01\\xf1\\x11\\xf2B\\xa4A\\xe2H\\xf3\\t\\xa1\\x0f\\xb3_\\xeeB\\xb5\\x11\\xad\\r\\xf3G\\xe0_\\xb6V\\xf5\\x0f\\xeb\\x13\\xa3\\r\\x83R\\xecC\\xb0G\\xe9\\x0f\\xfd\\x13\\xa3[\\xb0_\\xf4H\\xf3\\t\\xa1\\x0f\\xa1A\\xee[\\xb8W\\xe4^\\xf3N\\xad\\r\\xaa\\x11\\xe7D\\xbdG\\xe4_\\xf3\\t\\xa1\\x1d\\xfd\\x13\\xa3^\\xbeF\\xf3N\\xb4\\x11\\xbb\\r\\xf3^\\xe4I\\xb8P\\xe8C\\xb4\\x11\\xad\\r\\xf3G\\xe0_\\xb6V\\xf5\\x0f\\xeb\\x13\\xa3l\\xa1\\\\\\xedA\\xbe\\x13\\xd1E\\xb0A\\xecL\\xb2J\\xa3\\x01\\xf1\\x11\\xf7L\\xbdF\\xe4\\x0f\\xeb\\x13\\xa3]\\xa3\\\\\\xf7D\\xb5V\\xf2\\x0f\\xacn\\xfcP'\n"
     ]
    },
    {
     "name": "stdout",
     "output_type": "stream",
     "text": [
      "{\"cmd\":\"uiquery\",\"question\":\"who is seeking food?\"}\n",
      "{\"cmd\":\"uiquery\",\"question\":\"who is seeking food?\"}\n",
      "<type 'str'>\n",
      "{u'cmd': u'uiquery', u'question': u'who is seeking food?'}\n",
      "uiquery\n",
      "uiquery hi\n",
      "source node is food\n",
      "answer is  Nandambakkam\n",
      "{'src': 'food', 'tgt': ' Nandambakkam'}\n",
      "('ans', {'nodes': [{'filter': 1, 'group': 1, 'id': 'food'}, {'filter': 0, 'group': 2, 'id': u'Vijay'}, {'filter': 1, 'group': 3, 'id': ' Nandambakkam'}, {'filter': 0, 'group': 4, 'id': u'Sahil'}, {'filter': 0, 'group': 5, 'id': 'mobile recharge'}, {'filter': 0, 'group': 6, 'id': u'Dr. Raghul'}, {'filter': 0, 'group': 7, 'id': 'medical help'}, {'filter': 0, 'group': 8, 'id': 'blood'}, {'filter': 0, 'group': 9, 'id': ' Ramnath'}, {'filter': 0, 'group': 10, 'id': 'medicine'}, {'filter': 0, 'group': 11, 'id': u'Apollo Pharmacy'}], 'links': [{'filter': 0, 'source': 'food', 'target': u'Vijay', 'value': 'provides'}, {'filter': 1, 'source': 'food', 'target': ' Nandambakkam', 'value': 'seeking'}, {'filter': 0, 'source': u'Sahil', 'target': 'mobile recharge', 'value': 'provides'}, {'filter': 0, 'source': u'Dr. Raghul', 'target': 'medical help', 'value': 'provides'}, {'filter': 0, 'source': 'blood', 'target': ' Ramnath', 'value': 'provides'}, {'filter': 0, 'source': 'medicine', 'target': u'Apollo Pharmacy', 'value': 'provides'}]})\n"
     ]
    },
    {
     "name": "stderr",
     "output_type": "stream",
     "text": [
      "error from callback <function on_message at 0x116138140>: 'cmd'\n"
     ]
    },
    {
     "name": "stdout",
     "output_type": "stream",
     "text": [
      "{\"forcmd\": \"uiquery\", \"response\": {\"nodes\": [{\"filter\": 1, \"group\": 1, \"id\": \"food\"}, {\"filter\": 0, \"group\": 2, \"id\": \"Vijay\"}, {\"filter\": 1, \"group\": 3, \"id\": \" Nandambakkam\"}, {\"filter\": 0, \"group\": 4, \"id\": \"Sahil\"}, {\"filter\": 0, \"group\": 5, \"id\": \"mobile recharge\"}, {\"filter\": 0, \"group\": 6, \"id\": \"Dr. Raghul\"}, {\"filter\": 0, \"group\": 7, \"id\": \"medical help\"}, {\"filter\": 0, \"group\": 8, \"id\": \"blood\"}, {\"filter\": 0, \"group\": 9, \"id\": \" Ramnath\"}, {\"filter\": 0, \"group\": 10, \"id\": \"medicine\"}, {\"filter\": 0, \"group\": 11, \"id\": \"Apollo Pharmacy\"}], \"links\": [{\"filter\": 0, \"source\": \"food\", \"target\": \"Vijay\", \"value\": \"provides\"}, {\"filter\": 1, \"source\": \"food\", \"target\": \" Nandambakkam\", \"value\": \"seeking\"}, {\"filter\": 0, \"source\": \"Sahil\", \"target\": \"mobile recharge\", \"value\": \"provides\"}, {\"filter\": 0, \"source\": \"Dr. Raghul\", \"target\": \"medical help\", \"value\": \"provides\"}, {\"filter\": 0, \"source\": \"blood\", \"target\": \" Ramnath\", \"value\": \"provides\"}, {\"filter\": 0, \"source\": \"medicine\", \"target\": \"Apollo Pharmacy\", \"value\": \"provides\"}]}}\n",
      "{\"forcmd\": \"uiquery\", \"response\": {\"nodes\": [{\"filter\": 1, \"group\": 1, \"id\": \"food\"}, {\"filter\": 0, \"group\": 2, \"id\": \"Vijay\"}, {\"filter\": 1, \"group\": 3, \"id\": \" Nandambakkam\"}, {\"filter\": 0, \"group\": 4, \"id\": \"Sahil\"}, {\"filter\": 0, \"group\": 5, \"id\": \"mobile recharge\"}, {\"filter\": 0, \"group\": 6, \"id\": \"Dr. Raghul\"}, {\"filter\": 0, \"group\": 7, \"id\": \"medical help\"}, {\"filter\": 0, \"group\": 8, \"id\": \"blood\"}, {\"filter\": 0, \"group\": 9, \"id\": \" Ramnath\"}, {\"filter\": 0, \"group\": 10, \"id\": \"medicine\"}, {\"filter\": 0, \"group\": 11, \"id\": \"Apollo Pharmacy\"}], \"links\": [{\"filter\": 0, \"source\": \"food\", \"target\": \"Vijay\", \"value\": \"provides\"}, {\"filter\": 1, \"source\": \"food\", \"target\": \" Nandambakkam\", \"value\": \"seeking\"}, {\"filter\": 0, \"source\": \"Sahil\", \"target\": \"mobile recharge\", \"value\": \"provides\"}, {\"filter\": 0, \"source\": \"Dr. Raghul\", \"target\": \"medical help\", \"value\": \"provides\"}, {\"filter\": 0, \"source\": \"blood\", \"target\": \" Ramnath\", \"value\": \"provides\"}, {\"filter\": 0, \"source\": \"medicine\", \"target\": \"Apollo Pharmacy\", \"value\": \"provides\"}]}}\n",
      "<type 'str'>\n",
      "{u'forcmd': u'uiquery', u'response': {u'nodes': [{u'filter': 1, u'group': 1, u'id': u'food'}, {u'filter': 0, u'group': 2, u'id': u'Vijay'}, {u'filter': 1, u'group': 3, u'id': u' Nandambakkam'}, {u'filter': 0, u'group': 4, u'id': u'Sahil'}, {u'filter': 0, u'group': 5, u'id': u'mobile recharge'}, {u'filter': 0, u'group': 6, u'id': u'Dr. Raghul'}, {u'filter': 0, u'group': 7, u'id': u'medical help'}, {u'filter': 0, u'group': 8, u'id': u'blood'}, {u'filter': 0, u'group': 9, u'id': u' Ramnath'}, {u'filter': 0, u'group': 10, u'id': u'medicine'}, {u'filter': 0, u'group': 11, u'id': u'Apollo Pharmacy'}], u'links': [{u'filter': 0, u'source': u'food', u'target': u'Vijay', u'value': u'provides'}, {u'filter': 1, u'source': u'food', u'target': u' Nandambakkam', u'value': u'seeking'}, {u'filter': 0, u'source': u'Sahil', u'target': u'mobile recharge', u'value': u'provides'}, {u'filter': 0, u'source': u'Dr. Raghul', u'target': u'medical help', u'value': u'provides'}, {u'filter': 0, u'source': u'blood', u'target': u' Ramnath', u'value': u'provides'}, {u'filter': 0, u'source': u'medicine', u'target': u'Apollo Pharmacy', u'value': u'provides'}]}}\n"
     ]
    },
    {
     "name": "stderr",
     "output_type": "stream",
     "text": [
      "  File \"/Users/neha/miniconda2/lib/python2.7/site-packages/websocket/_app.py\", line 331, in _callback\n",
      "    callback(self, *args)\n",
      "  File \"<ipython-input-46-07e886b74614>\", line 10, in on_message\n",
      "    cmd = msg['cmd']\n",
      "send: '\\x81\\xfe\\x04\\x1d@\\xeb=2;\\xc9[]2\\x88PVb\\xd1\\x1d\\x105\\x82LG%\\x99D\\x10l\\xcb\\x1f@%\\x98M].\\x98X\\x10z\\xcbF\\x10.\\x84YW3\\xc9\\x07\\x12\\x1b\\x90\\x1fT)\\x87IW2\\xc9\\x07\\x12q\\xc7\\x1d\\x10\\'\\x99RG0\\xc9\\x07\\x12q\\xc7\\x1d\\x10)\\x8f\\x1f\\x08`\\xc9[]/\\x8f\\x1fOl\\xcbF\\x10&\\x82QF%\\x99\\x1f\\x08`\\xda\\x11\\x12b\\x8cO]5\\x9b\\x1f\\x08`\\xd9\\x11\\x12b\\x82Y\\x10z\\xcb\\x1fd)\\x81\\\\Kb\\x96\\x11\\x12;\\xc9[[,\\x9fX@b\\xd1\\x1d\\x02l\\xcb\\x1fU2\\x84HBb\\xd1\\x1d\\x01l\\xcb\\x1f[$\\xc9\\x07\\x12b\\xcbsS.\\x8f\\\\_\"\\x8aVY!\\x86\\x1fOl\\xcbF\\x10&\\x82QF%\\x99\\x1f\\x08`\\xdb\\x11\\x12b\\x8cO]5\\x9b\\x1f\\x08`\\xdf\\x11\\x12b\\x82Y\\x10z\\xcb\\x1fa!\\x83T^b\\x96\\x11\\x12;\\xc9[[,\\x9fX@b\\xd1\\x1d\\x02l\\xcb\\x1fU2\\x84HBb\\xd1\\x1d\\x07l\\xcb\\x1f[$\\xc9\\x07\\x12b\\x86RP)\\x87X\\x122\\x8e^Z!\\x99ZWb\\x96\\x11\\x12;\\xc9[[,\\x9fX@b\\xd1\\x1d\\x02l\\xcb\\x1fU2\\x84HBb\\xd1\\x1d\\x04l\\xcb\\x1f[$\\xc9\\x07\\x12b\\xafO\\x1c`\\xb9\\\\U(\\x9eQ\\x10=\\xc7\\x1dIb\\x8dT^4\\x8eO\\x10z\\xcb\\r\\x1e`\\xc9Z@/\\x9eM\\x10z\\xcb\\n\\x1e`\\xc9TVb\\xd1\\x1d\\x10-\\x8eY[#\\x8aQ\\x12(\\x8eQBb\\x96\\x11\\x12;\\xc9[[,\\x9fX@b\\xd1\\x1d\\x02l\\xcb\\x1fU2\\x84HBb\\xd1\\x1d\\nl\\xcb\\x1f[$\\xc9\\x07\\x12b\\x89Q]/\\x8f\\x1fOl\\xcbF\\x10&\\x82QF%\\x99\\x1f\\x08`\\xdb\\x11\\x12b\\x8cO]5\\x9b\\x1f\\x08`\\xd2\\x11\\x12b\\x82Y\\x10z\\xcb\\x1f\\x12\\x12\\x8aP\\\\!\\x9fU\\x10=\\xc7\\x1dIb\\x8dT^4\\x8eO\\x10z\\xcb\\r\\x1e`\\xc9Z@/\\x9eM\\x10z\\xcb\\x0c\\x02l\\xcb\\x1f[$\\xc9\\x07\\x12b\\x86XV)\\x88T\\\\%\\xc9@\\x1e`\\x90\\x1fT)\\x87IW2\\xc9\\x07\\x12p\\xc7\\x1d\\x10\\'\\x99RG0\\xc9\\x07\\x12q\\xda\\x11\\x12b\\x82Y\\x10z\\xcb\\x1fs0\\x84Q^/\\xcbmZ!\\x99PS#\\x92\\x1fO\\x1d\\xc7\\x1d\\x10,\\x82SY3\\xc9\\x07\\x12\\x1b\\x90\\x1fT)\\x87IW2\\xc9\\x07\\x12q\\xc7\\x1d\\x103\\x84H@#\\x8e\\x1f\\x08`\\xc9[]/\\x8f\\x1f\\x1e`\\xc9IS2\\x8cXFb\\xd1\\x1d\\x10\\x16\\x82WS9\\xc9\\x11\\x12b\\x9d\\\\^5\\x8e\\x1f\\x08`\\xc9M@/\\x9dTV%\\x98\\x1fOl\\xcbF\\x10&\\x82QF%\\x99\\x1f\\x08`\\xdb\\x11\\x12b\\x98RG2\\x88X\\x10z\\xcb\\x1fT/\\x84Y\\x10l\\xcb\\x1fF!\\x99ZW4\\xc9\\x07\\x12b\\xcbsS.\\x8f\\\\_\"\\x8aVY!\\x86\\x1f\\x1e`\\xc9KS,\\x9eX\\x10z\\xcb\\x1fA%\\x8eV[.\\x8c\\x1fOl\\xcbF\\x10&\\x82QF%\\x99\\x1f\\x08`\\xdb\\x11\\x12b\\x98RG2\\x88X\\x10z\\xcb\\x1fa!\\x83T^b\\xc7\\x1d\\x104\\x8aOU%\\x9f\\x1f\\x08`\\xc9P]\"\\x82QW`\\x99XQ(\\x8aOU%\\xc9\\x11\\x12b\\x9d\\\\^5\\x8e\\x1f\\x08`\\xc9M@/\\x9dTV%\\x98\\x1fOl\\xcbF\\x10&\\x82QF%\\x99\\x1f\\x08`\\xdb\\x11\\x12b\\x98RG2\\x88X\\x10z\\xcb\\x1fv2\\xc5\\x1d`!\\x8cUG,\\xc9\\x11\\x12b\\x9f\\\\@\\'\\x8eI\\x10z\\xcb\\x1f_%\\x8fTQ!\\x87\\x1dZ%\\x87M\\x10l\\xcb\\x1fD!\\x87HWb\\xd1\\x1d\\x100\\x99RD)\\x8fXAb\\x96\\x11\\x12;\\xc9[[,\\x9fX@b\\xd1\\x1d\\x02l\\xcb\\x1fA/\\x9eOQ%\\xc9\\x07\\x12b\\x89Q]/\\x8f\\x1f\\x1e`\\xc9IS2\\x8cXFb\\xd1\\x1d\\x10`\\xb9\\\\_.\\x8aIZb\\xc7\\x1d\\x106\\x8aQG%\\xc9\\x07\\x12b\\x9bO]6\\x82YW3\\xc9@\\x1e`\\x90\\x1fT)\\x87IW2\\xc9\\x07\\x12p\\xc7\\x1d\\x103\\x84H@#\\x8e\\x1f\\x08`\\xc9PW$\\x82^[.\\x8e\\x1f\\x1e`\\xc9IS2\\x8cXFb\\xd1\\x1d\\x10\\x01\\x9bR^,\\x84\\x1db(\\x8aO_!\\x88D\\x10l\\xcb\\x1fD!\\x87HWb\\xd1\\x1d\\x100\\x99RD)\\x8fXAb\\x96`O='\n"
     ]
    },
    {
     "name": "stdout",
     "output_type": "stream",
     "text": [
      "{\"cmd\":\"uiquery\",\"question\":\"Who provides food?\"}\n",
      "{\"cmd\":\"uiquery\",\"question\":\"Who provides food?\"}\n",
      "<type 'str'>\n",
      "{u'cmd': u'uiquery', u'question': u'Who provides food?'}\n",
      "uiquery\n",
      "uiquery hi\n",
      "source node is food\n",
      "answer is Vijay\n",
      "{'src': 'food', 'tgt': u'Vijay'}\n",
      "('ans', {'nodes': [{'filter': 1, 'group': 1, 'id': 'food'}, {'filter': 1, 'group': 2, 'id': u'Vijay'}, {'filter': 0, 'group': 3, 'id': ' Nandambakkam'}, {'filter': 0, 'group': 4, 'id': u'Sahil'}, {'filter': 0, 'group': 5, 'id': 'mobile recharge'}, {'filter': 0, 'group': 6, 'id': u'Dr. Raghul'}, {'filter': 0, 'group': 7, 'id': 'medical help'}, {'filter': 0, 'group': 8, 'id': 'blood'}, {'filter': 0, 'group': 9, 'id': ' Ramnath'}, {'filter': 0, 'group': 10, 'id': 'medicine'}, {'filter': 0, 'group': 11, 'id': u'Apollo Pharmacy'}], 'links': [{'filter': 1, 'source': 'food', 'target': u'Vijay', 'value': 'provides'}, {'filter': 0, 'source': 'food', 'target': ' Nandambakkam', 'value': 'seeking'}, {'filter': 0, 'source': u'Sahil', 'target': 'mobile recharge', 'value': 'provides'}, {'filter': 0, 'source': u'Dr. Raghul', 'target': 'medical help', 'value': 'provides'}, {'filter': 0, 'source': 'blood', 'target': ' Ramnath', 'value': 'provides'}, {'filter': 0, 'source': 'medicine', 'target': u'Apollo Pharmacy', 'value': 'provides'}]})\n"
     ]
    },
    {
     "name": "stderr",
     "output_type": "stream",
     "text": [
      "error from callback <function on_message at 0x116138140>: 'cmd'\n"
     ]
    },
    {
     "name": "stdout",
     "output_type": "stream",
     "text": [
      "{\"forcmd\": \"uiquery\", \"response\": {\"nodes\": [{\"filter\": 1, \"group\": 1, \"id\": \"food\"}, {\"filter\": 1, \"group\": 2, \"id\": \"Vijay\"}, {\"filter\": 0, \"group\": 3, \"id\": \" Nandambakkam\"}, {\"filter\": 0, \"group\": 4, \"id\": \"Sahil\"}, {\"filter\": 0, \"group\": 5, \"id\": \"mobile recharge\"}, {\"filter\": 0, \"group\": 6, \"id\": \"Dr. Raghul\"}, {\"filter\": 0, \"group\": 7, \"id\": \"medical help\"}, {\"filter\": 0, \"group\": 8, \"id\": \"blood\"}, {\"filter\": 0, \"group\": 9, \"id\": \" Ramnath\"}, {\"filter\": 0, \"group\": 10, \"id\": \"medicine\"}, {\"filter\": 0, \"group\": 11, \"id\": \"Apollo Pharmacy\"}], \"links\": [{\"filter\": 1, \"source\": \"food\", \"target\": \"Vijay\", \"value\": \"provides\"}, {\"filter\": 0, \"source\": \"food\", \"target\": \" Nandambakkam\", \"value\": \"seeking\"}, {\"filter\": 0, \"source\": \"Sahil\", \"target\": \"mobile recharge\", \"value\": \"provides\"}, {\"filter\": 0, \"source\": \"Dr. Raghul\", \"target\": \"medical help\", \"value\": \"provides\"}, {\"filter\": 0, \"source\": \"blood\", \"target\": \" Ramnath\", \"value\": \"provides\"}, {\"filter\": 0, \"source\": \"medicine\", \"target\": \"Apollo Pharmacy\", \"value\": \"provides\"}]}}\n",
      "{\"forcmd\": \"uiquery\", \"response\": {\"nodes\": [{\"filter\": 1, \"group\": 1, \"id\": \"food\"}, {\"filter\": 1, \"group\": 2, \"id\": \"Vijay\"}, {\"filter\": 0, \"group\": 3, \"id\": \" Nandambakkam\"}, {\"filter\": 0, \"group\": 4, \"id\": \"Sahil\"}, {\"filter\": 0, \"group\": 5, \"id\": \"mobile recharge\"}, {\"filter\": 0, \"group\": 6, \"id\": \"Dr. Raghul\"}, {\"filter\": 0, \"group\": 7, \"id\": \"medical help\"}, {\"filter\": 0, \"group\": 8, \"id\": \"blood\"}, {\"filter\": 0, \"group\": 9, \"id\": \" Ramnath\"}, {\"filter\": 0, \"group\": 10, \"id\": \"medicine\"}, {\"filter\": 0, \"group\": 11, \"id\": \"Apollo Pharmacy\"}], \"links\": [{\"filter\": 1, \"source\": \"food\", \"target\": \"Vijay\", \"value\": \"provides\"}, {\"filter\": 0, \"source\": \"food\", \"target\": \" Nandambakkam\", \"value\": \"seeking\"}, {\"filter\": 0, \"source\": \"Sahil\", \"target\": \"mobile recharge\", \"value\": \"provides\"}, {\"filter\": 0, \"source\": \"Dr. Raghul\", \"target\": \"medical help\", \"value\": \"provides\"}, {\"filter\": 0, \"source\": \"blood\", \"target\": \" Ramnath\", \"value\": \"provides\"}, {\"filter\": 0, \"source\": \"medicine\", \"target\": \"Apollo Pharmacy\", \"value\": \"provides\"}]}}\n",
      "<type 'str'>\n",
      "{u'forcmd': u'uiquery', u'response': {u'nodes': [{u'filter': 1, u'group': 1, u'id': u'food'}, {u'filter': 1, u'group': 2, u'id': u'Vijay'}, {u'filter': 0, u'group': 3, u'id': u' Nandambakkam'}, {u'filter': 0, u'group': 4, u'id': u'Sahil'}, {u'filter': 0, u'group': 5, u'id': u'mobile recharge'}, {u'filter': 0, u'group': 6, u'id': u'Dr. Raghul'}, {u'filter': 0, u'group': 7, u'id': u'medical help'}, {u'filter': 0, u'group': 8, u'id': u'blood'}, {u'filter': 0, u'group': 9, u'id': u' Ramnath'}, {u'filter': 0, u'group': 10, u'id': u'medicine'}, {u'filter': 0, u'group': 11, u'id': u'Apollo Pharmacy'}], u'links': [{u'filter': 1, u'source': u'food', u'target': u'Vijay', u'value': u'provides'}, {u'filter': 0, u'source': u'food', u'target': u' Nandambakkam', u'value': u'seeking'}, {u'filter': 0, u'source': u'Sahil', u'target': u'mobile recharge', u'value': u'provides'}, {u'filter': 0, u'source': u'Dr. Raghul', u'target': u'medical help', u'value': u'provides'}, {u'filter': 0, u'source': u'blood', u'target': u' Ramnath', u'value': u'provides'}, {u'filter': 0, u'source': u'medicine', u'target': u'Apollo Pharmacy', u'value': u'provides'}]}}\n"
     ]
    },
    {
     "name": "stderr",
     "output_type": "stream",
     "text": [
      "  File \"/Users/neha/miniconda2/lib/python2.7/site-packages/websocket/_app.py\", line 331, in _callback\n",
      "    callback(self, *args)\n",
      "  File \"<ipython-input-46-07e886b74614>\", line 10, in on_message\n",
      "    cmd = msg['cmd']\n",
      "send: '\\x81\\xa0\\xf8\\xfd\\xa0\\xa5\\x83\\xdf\\xc3\\xc8\\x9c\\xdf\\x9a\\x87\\xb7\\x91\\xd9\\xc8\\x88\\x94\\xc3\\xd6\\xd8\\xb9\\xf3\\xfd\\xd8\\xb5\\xc5\\xc4\\x8a\\x89\\xe2\\xc0\\x99\\x89\\x82\\xd8'\n"
     ]
    },
    {
     "name": "stdout",
     "output_type": "stream",
     "text": [
      "{\"cmd\":\"Olympics DSX HeartBeat\"}\n",
      "{\"cmd\":\"Olympics DSX HeartBeat\"}\n",
      "<type 'str'>\n",
      "{u'cmd': u'Olympics DSX HeartBeat'}\n",
      "Olympics DSX HeartBeat\n"
     ]
    },
    {
     "name": "stderr",
     "output_type": "stream",
     "text": [
      "send: '\\x81\\xa0\\xc4z\\x9f\\xe0\\xbfX\\xfc\\x8d\\xa0X\\xa5\\xc2\\x8b\\x16\\xe6\\x8d\\xb4\\x13\\xfc\\x93\\xe4>\\xcc\\xb8\\xe42\\xfa\\x81\\xb6\\x0e\\xdd\\x85\\xa5\\x0e\\xbd\\x9d'\n"
     ]
    },
    {
     "name": "stdout",
     "output_type": "stream",
     "text": [
      "{\"cmd\":\"Olympics DSX HeartBeat\"}\n",
      "{\"cmd\":\"Olympics DSX HeartBeat\"}\n",
      "<type 'str'>\n",
      "{u'cmd': u'Olympics DSX HeartBeat'}\n",
      "Olympics DSX HeartBeat\n"
     ]
    },
    {
     "name": "stderr",
     "output_type": "stream",
     "text": [
      "send: \"\\x81\\xa0h\\x11\\xfc\\xb1\\x133\\x9f\\xdc\\x0c3\\xc6\\x93'}\\x85\\xdc\\x18x\\x9f\\xc2HU\\xaf\\xe9HY\\x99\\xd0\\x1ae\\xbe\\xd4\\te\\xde\\xcc\"\n"
     ]
    },
    {
     "name": "stdout",
     "output_type": "stream",
     "text": [
      "{\"cmd\":\"Olympics DSX HeartBeat\"}\n",
      "{\"cmd\":\"Olympics DSX HeartBeat\"}\n",
      "<type 'str'>\n",
      "{u'cmd': u'Olympics DSX HeartBeat'}\n",
      "Olympics DSX HeartBeat\n"
     ]
    },
    {
     "name": "stderr",
     "output_type": "stream",
     "text": [
      "send: '\\x81\\xa0-\\x1f\\xe1\\x10V=\\x82}I=\\xdb2bs\\x98}]v\\x82c\\r[\\xb2H\\rW\\x84q_k\\xa3uLk\\xc3m'\n"
     ]
    },
    {
     "name": "stdout",
     "output_type": "stream",
     "text": [
      "{\"cmd\":\"Olympics DSX HeartBeat\"}\n",
      "{\"cmd\":\"Olympics DSX HeartBeat\"}\n",
      "<type 'str'>\n",
      "{u'cmd': u'Olympics DSX HeartBeat'}\n",
      "Olympics DSX HeartBeat\n"
     ]
    },
    {
     "name": "stderr",
     "output_type": "stream",
     "text": [
      "send: '\\x81\\xa0w\\xcc\\xd1\\xbc\\x0c\\xee\\xb2\\xd1\\x13\\xee\\xeb\\x9e8\\xa0\\xa8\\xd1\\x07\\xa5\\xb2\\xcfW\\x88\\x82\\xe4W\\x84\\xb4\\xdd\\x05\\xb8\\x93\\xd9\\x16\\xb8\\xf3\\xc1'\n"
     ]
    },
    {
     "name": "stdout",
     "output_type": "stream",
     "text": [
      "{\"cmd\":\"Olympics DSX HeartBeat\"}\n",
      "{\"cmd\":\"Olympics DSX HeartBeat\"}\n",
      "<type 'str'>\n",
      "{u'cmd': u'Olympics DSX HeartBeat'}\n",
      "Olympics DSX HeartBeat\n"
     ]
    },
    {
     "name": "stderr",
     "output_type": "stream",
     "text": [
      "send: '\\x81\\xa0\\xa9\\x84\\x84\\xa5\\xd2\\xa6\\xe7\\xc8\\xcd\\xa6\\xbe\\x87\\xe6\\xe8\\xfd\\xc8\\xd9\\xed\\xe7\\xd6\\x89\\xc0\\xd7\\xfd\\x89\\xcc\\xe1\\xc4\\xdb\\xf0\\xc6\\xc0\\xc8\\xf0\\xa6\\xd8'\n"
     ]
    },
    {
     "name": "stdout",
     "output_type": "stream",
     "text": [
      "{\"cmd\":\"Olympics DSX HeartBeat\"}\n",
      "{\"cmd\":\"Olympics DSX HeartBeat\"}\n",
      "<type 'str'>\n",
      "{u'cmd': u'Olympics DSX HeartBeat'}\n",
      "Olympics DSX HeartBeat\n"
     ]
    },
    {
     "name": "stderr",
     "output_type": "stream",
     "text": [
      "send: '\\x81\\xa0\\xa67\\x17E\\xdd\\x15t(\\xc2\\x15-g\\xe9[n(\\xd6^t6\\x86sD\\x1d\\x86\\x7fr$\\xd4CU \\xc7C58'\n"
     ]
    },
    {
     "name": "stdout",
     "output_type": "stream",
     "text": [
      "{\"cmd\":\"Olympics DSX HeartBeat\"}\n",
      "{\"cmd\":\"Olympics DSX HeartBeat\"}\n",
      "<type 'str'>\n",
      "{u'cmd': u'Olympics DSX HeartBeat'}\n",
      "Olympics DSX HeartBeat\n"
     ]
    },
    {
     "name": "stderr",
     "output_type": "stream",
     "text": [
      "send: '\\x81\\xa0\\xd25H(\\xa9\\x17+E\\xb6\\x17r\\n\\x9dY1E\\xa2\\\\+[\\xf2q\\x1bp\\xf2}-I\\xa0A\\nM\\xb3AjU'\n"
     ]
    },
    {
     "name": "stdout",
     "output_type": "stream",
     "text": [
      "{\"cmd\":\"Olympics DSX HeartBeat\"}\n",
      "{\"cmd\":\"Olympics DSX HeartBeat\"}\n",
      "<type 'str'>\n",
      "{u'cmd': u'Olympics DSX HeartBeat'}\n",
      "Olympics DSX HeartBeat\n"
     ]
    },
    {
     "name": "stderr",
     "output_type": "stream",
     "text": [
      "send: \"\\x81\\xa0)\\x8eB9R\\xac!TM\\xacx\\x1bf\\xe2;TY\\xe7!J\\t\\xca\\x11a\\t\\xc6'X[\\xfa\\x00\\\\H\\xfa`D\"\n"
     ]
    },
    {
     "name": "stdout",
     "output_type": "stream",
     "text": [
      "{\"cmd\":\"Olympics DSX HeartBeat\"}\n",
      "{\"cmd\":\"Olympics DSX HeartBeat\"}\n",
      "<type 'str'>\n",
      "{u'cmd': u'Olympics DSX HeartBeat'}\n",
      "Olympics DSX HeartBeat\n"
     ]
    },
    {
     "name": "stderr",
     "output_type": "stream",
     "text": [
      "send: '\\x81\\xa0\\xce\\x1e)2\\xb5<J_\\xaa<\\x13\\x10\\x81rP_\\xbewJA\\xeeZzj\\xeeVLS\\xbcjkW\\xafj\\x0bO'\n"
     ]
    },
    {
     "name": "stdout",
     "output_type": "stream",
     "text": [
      "{\"cmd\":\"Olympics DSX HeartBeat\"}\n",
      "{\"cmd\":\"Olympics DSX HeartBeat\"}\n",
      "<type 'str'>\n",
      "{u'cmd': u'Olympics DSX HeartBeat'}\n",
      "Olympics DSX HeartBeat\n"
     ]
    },
    {
     "name": "stderr",
     "output_type": "stream",
     "text": [
      "send: '\\x81\\xa0]E\\xdf\\xb3&g\\xbc\\xde9g\\xe5\\x91\\x12)\\xa6\\xde-,\\xbc\\xc0}\\x01\\x8c\\xeb}\\r\\xba\\xd2/1\\x9d\\xd6<1\\xfd\\xce'\n"
     ]
    },
    {
     "name": "stdout",
     "output_type": "stream",
     "text": [
      "{\"cmd\":\"Olympics DSX HeartBeat\"}\n",
      "{\"cmd\":\"Olympics DSX HeartBeat\"}\n",
      "<type 'str'>\n",
      "{u'cmd': u'Olympics DSX HeartBeat'}\n",
      "Olympics DSX HeartBeat\n"
     ]
    },
    {
     "name": "stderr",
     "output_type": "stream",
     "text": [
      "send: '\\x81\\xa0p\\xc2i\\x02\\x0b\\xe0\\no\\x14\\xe0S ?\\xae\\x10o\\x00\\xab\\nqP\\x86:ZP\\x8a\\x0cc\\x02\\xb6+g\\x11\\xb6K\\x7f'\n"
     ]
    },
    {
     "name": "stdout",
     "output_type": "stream",
     "text": [
      "{\"cmd\":\"Olympics DSX HeartBeat\"}\n",
      "{\"cmd\":\"Olympics DSX HeartBeat\"}\n",
      "<type 'str'>\n",
      "{u'cmd': u'Olympics DSX HeartBeat'}\n",
      "Olympics DSX HeartBeat\n"
     ]
    },
    {
     "name": "stderr",
     "output_type": "stream",
     "text": [
      "send: '\\x81\\xa0|<iA\\x07\\x1e\\n,\\x18\\x1eSc3P\\x10,\\x0cU\\n2\\\\x:\\x19\\\\t\\x0c \\x0eH+$\\x1dHK<'\n"
     ]
    },
    {
     "name": "stdout",
     "output_type": "stream",
     "text": [
      "{\"cmd\":\"Olympics DSX HeartBeat\"}\n",
      "{\"cmd\":\"Olympics DSX HeartBeat\"}\n",
      "<type 'str'>\n",
      "{u'cmd': u'Olympics DSX HeartBeat'}\n",
      "Olympics DSX HeartBeat\n"
     ]
    },
    {
     "name": "stderr",
     "output_type": "stream",
     "text": [
      "send: \"\\x81\\xa0'X\\xd0\\x1a\\\\z\\xb3wCz\\xea8h4\\xa9wW1\\xb3i\\x07\\x1c\\x83B\\x07\\x10\\xb5{U,\\x92\\x7fF,\\xf2g\"\n"
     ]
    },
    {
     "name": "stdout",
     "output_type": "stream",
     "text": [
      "{\"cmd\":\"Olympics DSX HeartBeat\"}\n",
      "{\"cmd\":\"Olympics DSX HeartBeat\"}\n",
      "<type 'str'>\n",
      "{u'cmd': u'Olympics DSX HeartBeat'}\n",
      "Olympics DSX HeartBeat\n"
     ]
    },
    {
     "name": "stderr",
     "output_type": "stream",
     "text": [
      "send: '\\x81\\xa03b\\xb9LH@\\xda!W@\\x83n|\\x0e\\xc0!C\\x0b\\xda?\\x13&\\xea\\x14\\x13*\\xdc-A\\x16\\xfb)R\\x16\\x9b1'\n"
     ]
    },
    {
     "name": "stdout",
     "output_type": "stream",
     "text": [
      "{\"cmd\":\"Olympics DSX HeartBeat\"}\n",
      "{\"cmd\":\"Olympics DSX HeartBeat\"}\n",
      "<type 'str'>\n",
      "{u'cmd': u'Olympics DSX HeartBeat'}\n",
      "Olympics DSX HeartBeat\n"
     ]
    },
    {
     "name": "stderr",
     "output_type": "stream",
     "text": [
      "send: '\\x81\\xa0\\x1a|*\\x9ea^I\\xf3~^\\x10\\xbcU\\x10S\\xf3j\\x15I\\xed:8y\\xc6:4O\\xffh\\x08h\\xfb{\\x08\\x08\\xe3'\n"
     ]
    },
    {
     "name": "stdout",
     "output_type": "stream",
     "text": [
      "{\"cmd\":\"Olympics DSX HeartBeat\"}\n",
      "{\"cmd\":\"Olympics DSX HeartBeat\"}\n",
      "<type 'str'>\n",
      "{u'cmd': u'Olympics DSX HeartBeat'}\n",
      "Olympics DSX HeartBeat\n"
     ]
    },
    {
     "name": "stderr",
     "output_type": "stream",
     "text": [
      "send: '\\x81\\xa0\\x04\\x9a\\x9d\\xd4\\x7f\\xb8\\xfe\\xb9`\\xb8\\xa7\\xf6K\\xf6\\xe4\\xb9t\\xf3\\xfe\\xa7$\\xde\\xce\\x8c$\\xd2\\xf8\\xb5v\\xee\\xdf\\xb1e\\xee\\xbf\\xa9'\n"
     ]
    },
    {
     "name": "stdout",
     "output_type": "stream",
     "text": [
      "{\"cmd\":\"Olympics DSX HeartBeat\"}\n",
      "{\"cmd\":\"Olympics DSX HeartBeat\"}\n",
      "<type 'str'>\n",
      "{u'cmd': u'Olympics DSX HeartBeat'}\n",
      "Olympics DSX HeartBeat\n"
     ]
    },
    {
     "name": "stderr",
     "output_type": "stream",
     "text": [
      "send: \"\\x81\\xa0\\x01\\x19t\\xd9z;\\x17\\xb4e;N\\xfbNu\\r\\xb4qp\\x17\\xaa!]'\\x81!Q\\x11\\xb8sm6\\xbc`mV\\xa4\"\n"
     ]
    },
    {
     "name": "stdout",
     "output_type": "stream",
     "text": [
      "{\"cmd\":\"Olympics DSX HeartBeat\"}\n",
      "{\"cmd\":\"Olympics DSX HeartBeat\"}\n",
      "<type 'str'>\n",
      "{u'cmd': u'Olympics DSX HeartBeat'}\n",
      "Olympics DSX HeartBeat\n"
     ]
    },
    {
     "name": "stderr",
     "output_type": "stream",
     "text": [
      "send: \"\\x81\\xa0W\\xd8\\xba\\xd4,\\xfa\\xd9\\xb93\\xfa\\x80\\xf6\\x18\\xb4\\xc3\\xb9'\\xb1\\xd9\\xa7w\\x9c\\xe9\\x8cw\\x90\\xdf\\xb5%\\xac\\xf8\\xb16\\xac\\x98\\xa9\"\n"
     ]
    },
    {
     "name": "stdout",
     "output_type": "stream",
     "text": [
      "{\"cmd\":\"Olympics DSX HeartBeat\"}\n",
      "{\"cmd\":\"Olympics DSX HeartBeat\"}\n",
      "<type 'str'>\n",
      "{u'cmd': u'Olympics DSX HeartBeat'}\n",
      "Olympics DSX HeartBeat\n"
     ]
    },
    {
     "name": "stderr",
     "output_type": "stream",
     "text": [
      "send: '\\x81\\xa0\\xfe\\xdf\\xcd\\x9a\\x85\\xfd\\xae\\xf7\\x9a\\xfd\\xf7\\xb8\\xb1\\xb3\\xb4\\xf7\\x8e\\xb6\\xae\\xe9\\xde\\x9b\\x9e\\xc2\\xde\\x97\\xa8\\xfb\\x8c\\xab\\x8f\\xff\\x9f\\xab\\xef\\xe7'\n"
     ]
    },
    {
     "name": "stdout",
     "output_type": "stream",
     "text": [
      "{\"cmd\":\"Olympics DSX HeartBeat\"}\n",
      "{\"cmd\":\"Olympics DSX HeartBeat\"}\n",
      "<type 'str'>\n",
      "{u'cmd': u'Olympics DSX HeartBeat'}\n",
      "Olympics DSX HeartBeat\n"
     ]
    },
    {
     "name": "stderr",
     "output_type": "stream",
     "text": [
      "send: '\\x81\\xa0Q\\xea\\x8c\\xcb*\\xc8\\xef\\xa65\\xc8\\xb6\\xe9\\x1e\\x86\\xf5\\xa6!\\x83\\xef\\xb8q\\xae\\xdf\\x93q\\xa2\\xe9\\xaa#\\x9e\\xce\\xae0\\x9e\\xae\\xb6'\n"
     ]
    },
    {
     "name": "stdout",
     "output_type": "stream",
     "text": [
      "{\"cmd\":\"Olympics DSX HeartBeat\"}\n",
      "{\"cmd\":\"Olympics DSX HeartBeat\"}\n",
      "<type 'str'>\n",
      "{u'cmd': u'Olympics DSX HeartBeat'}\n",
      "Olympics DSX HeartBeat\n"
     ]
    },
    {
     "name": "stderr",
     "output_type": "stream",
     "text": [
      "send: '\\x81\\xa0>(J\\xa4E\\n)\\xc9Z\\np\\x86qD3\\xc9NA)\\xd7\\x1el\\x19\\xfc\\x1e`/\\xc5L\\\\\\x08\\xc1_\\\\h\\xd9'\n"
     ]
    },
    {
     "name": "stdout",
     "output_type": "stream",
     "text": [
      "{\"cmd\":\"Olympics DSX HeartBeat\"}\n",
      "{\"cmd\":\"Olympics DSX HeartBeat\"}\n",
      "<type 'str'>\n",
      "{u'cmd': u'Olympics DSX HeartBeat'}\n",
      "Olympics DSX HeartBeat\n"
     ]
    },
    {
     "name": "stderr",
     "output_type": "stream",
     "text": [
      "send: '\\x81\\xa0\\x13W\\xf6\\x8ehu\\x95\\xe3wu\\xcc\\xac\\\\;\\x8f\\xe3c>\\x95\\xfd3\\x13\\xa5\\xd63\\x1f\\x93\\xefa#\\xb4\\xebr#\\xd4\\xf3'\n"
     ]
    },
    {
     "name": "stdout",
     "output_type": "stream",
     "text": [
      "{\"cmd\":\"Olympics DSX HeartBeat\"}\n",
      "{\"cmd\":\"Olympics DSX HeartBeat\"}\n",
      "<type 'str'>\n",
      "{u'cmd': u'Olympics DSX HeartBeat'}\n",
      "Olympics DSX HeartBeat\n"
     ]
    },
    {
     "name": "stderr",
     "output_type": "stream",
     "text": [
      "send: '\\x81\\xa0a\\x8cz\\x0c\\x1a\\xae\\x19a\\x05\\xae@..\\xe0\\x03a\\x11\\xe5\\x19\\x7fA\\xc8)TA\\xc4\\x1fm\\x13\\xf88i\\x00\\xf8Xq'\n"
     ]
    },
    {
     "name": "stdout",
     "output_type": "stream",
     "text": [
      "{\"cmd\":\"Olympics DSX HeartBeat\"}\n",
      "{\"cmd\":\"Olympics DSX HeartBeat\"}\n",
      "<type 'str'>\n",
      "{u'cmd': u'Olympics DSX HeartBeat'}\n",
      "Olympics DSX HeartBeat\n"
     ]
    },
    {
     "name": "stderr",
     "output_type": "stream",
     "text": [
      "send: '\\x81\\xa0\\xdb\\x8f2\\x15\\xa0\\xadQx\\xbf\\xad\\x087\\x94\\xe3Kx\\xab\\xe6Qf\\xfb\\xcbaM\\xfb\\xc7Wt\\xa9\\xfbpp\\xba\\xfb\\x10h'\n"
     ]
    },
    {
     "name": "stdout",
     "output_type": "stream",
     "text": [
      "{\"cmd\":\"Olympics DSX HeartBeat\"}\n",
      "{\"cmd\":\"Olympics DSX HeartBeat\"}\n",
      "<type 'str'>\n",
      "{u'cmd': u'Olympics DSX HeartBeat'}\n",
      "Olympics DSX HeartBeat\n"
     ]
    },
    {
     "name": "stderr",
     "output_type": "stream",
     "text": [
      "send: '\\x81\\xa05\\xc7\\xb8\\rN\\xe5\\xdb`Q\\xe5\\x82/z\\xab\\xc1`E\\xae\\xdb~\\x15\\x83\\xebU\\x15\\x8f\\xddlG\\xb3\\xfahT\\xb3\\x9ap'\n"
     ]
    },
    {
     "name": "stdout",
     "output_type": "stream",
     "text": [
      "{\"cmd\":\"Olympics DSX HeartBeat\"}\n",
      "{\"cmd\":\"Olympics DSX HeartBeat\"}\n",
      "<type 'str'>\n",
      "{u'cmd': u'Olympics DSX HeartBeat'}\n",
      "Olympics DSX HeartBeat\n"
     ]
    },
    {
     "name": "stderr",
     "output_type": "stream",
     "text": [
      "send: '\\x81\\xa0\\xf2\\xd6\\xfa]\\x89\\xf4\\x990\\x96\\xf4\\xc0\\x7f\\xbd\\xba\\x830\\x82\\xbf\\x99.\\xd2\\x92\\xa9\\x05\\xd2\\x9e\\x9f<\\x80\\xa2\\xb88\\x93\\xa2\\xd8 '\n"
     ]
    },
    {
     "name": "stdout",
     "output_type": "stream",
     "text": [
      "{\"cmd\":\"Olympics DSX HeartBeat\"}\n",
      "{\"cmd\":\"Olympics DSX HeartBeat\"}\n",
      "<type 'str'>\n",
      "{u'cmd': u'Olympics DSX HeartBeat'}\n",
      "Olympics DSX HeartBeat\n"
     ]
    },
    {
     "name": "stderr",
     "output_type": "stream",
     "text": [
      "send: '\\x81\\xa0\\xb8\\xda\\xc9\\x95\\xc3\\xf8\\xaa\\xf8\\xdc\\xf8\\xf3\\xb7\\xf7\\xb6\\xb0\\xf8\\xc8\\xb3\\xaa\\xe6\\x98\\x9e\\x9a\\xcd\\x98\\x92\\xac\\xf4\\xca\\xae\\x8b\\xf0\\xd9\\xae\\xeb\\xe8'\n"
     ]
    },
    {
     "name": "stdout",
     "output_type": "stream",
     "text": [
      "{\"cmd\":\"Olympics DSX HeartBeat\"}\n",
      "{\"cmd\":\"Olympics DSX HeartBeat\"}\n",
      "<type 'str'>\n",
      "{u'cmd': u'Olympics DSX HeartBeat'}\n",
      "Olympics DSX HeartBeat\n"
     ]
    },
    {
     "name": "stderr",
     "output_type": "stream",
     "text": [
      "send: '\\x81\\xa0j\\x9f\\xca\\x9a\\x11\\xbd\\xa9\\xf7\\x0e\\xbd\\xf0\\xb8%\\xf3\\xb3\\xf7\\x1a\\xf6\\xa9\\xe9J\\xdb\\x99\\xc2J\\xd7\\xaf\\xfb\\x18\\xeb\\x88\\xff\\x0b\\xeb\\xe8\\xe7'\n"
     ]
    },
    {
     "name": "stdout",
     "output_type": "stream",
     "text": [
      "{\"cmd\":\"Olympics DSX HeartBeat\"}\n",
      "{\"cmd\":\"Olympics DSX HeartBeat\"}\n",
      "<type 'str'>\n",
      "{u'cmd': u'Olympics DSX HeartBeat'}\n",
      "Olympics DSX HeartBeat\n"
     ]
    },
    {
     "name": "stderr",
     "output_type": "stream",
     "text": [
      "send: '\\x81\\xa0\\x03\\xd3\\xd70x\\xf1\\xb4]g\\xf1\\xed\\x12L\\xbf\\xae]s\\xba\\xb4C#\\x97\\x84h#\\x9b\\xb2Qq\\xa7\\x95Ub\\xa7\\xf5M'\n"
     ]
    },
    {
     "name": "stdout",
     "output_type": "stream",
     "text": [
      "{\"cmd\":\"Olympics DSX HeartBeat\"}\n",
      "{\"cmd\":\"Olympics DSX HeartBeat\"}\n",
      "<type 'str'>\n",
      "{u'cmd': u'Olympics DSX HeartBeat'}\n",
      "Olympics DSX HeartBeat\n"
     ]
    },
    {
     "name": "stderr",
     "output_type": "stream",
     "text": [
      "send: '\\x81\\xa0\\xcc\\xd1\\x85\\xab\\xb7\\xf3\\xe6\\xc6\\xa8\\xf3\\xbf\\x89\\x83\\xbd\\xfc\\xc6\\xbc\\xb8\\xe6\\xd8\\xec\\x95\\xd6\\xf3\\xec\\x99\\xe0\\xca\\xbe\\xa5\\xc7\\xce\\xad\\xa5\\xa7\\xd6'\n"
     ]
    },
    {
     "name": "stdout",
     "output_type": "stream",
     "text": [
      "{\"cmd\":\"Olympics DSX HeartBeat\"}\n",
      "{\"cmd\":\"Olympics DSX HeartBeat\"}\n",
      "<type 'str'>\n",
      "{u'cmd': u'Olympics DSX HeartBeat'}\n",
      "Olympics DSX HeartBeat\n"
     ]
    },
    {
     "name": "stderr",
     "output_type": "stream",
     "text": [
      "send: '\\x81\\xa0~\\x89\\xe5\\x00\\x05\\xab\\x86m\\x1a\\xab\\xdf\"1\\xe5\\x9cm\\x0e\\xe0\\x86s^\\xcd\\xb6X^\\xc1\\x80a\\x0c\\xfd\\xa7e\\x1f\\xfd\\xc7}'\n"
     ]
    },
    {
     "name": "stdout",
     "output_type": "stream",
     "text": [
      "{\"cmd\":\"Olympics DSX HeartBeat\"}\n",
      "{\"cmd\":\"Olympics DSX HeartBeat\"}\n",
      "<type 'str'>\n",
      "{u'cmd': u'Olympics DSX HeartBeat'}\n",
      "Olympics DSX HeartBeat\n"
     ]
    },
    {
     "name": "stderr",
     "output_type": "stream",
     "text": [
      "send: \"\\x81\\xa0a\\x10EB\\x1a2&/\\x052\\x7f`.|</\\x11y&1AT\\x16\\x1aAX #\\x13d\\x07'\\x00dg?\"\n"
     ]
    },
    {
     "name": "stdout",
     "output_type": "stream",
     "text": [
      "{\"cmd\":\"Olympics DSX HeartBeat\"}\n",
      "{\"cmd\":\"Olympics DSX HeartBeat\"}\n",
      "<type 'str'>\n",
      "{u'cmd': u'Olympics DSX HeartBeat'}\n",
      "Olympics DSX HeartBeat\n"
     ]
    },
    {
     "name": "stderr",
     "output_type": "stream",
     "text": [
      "send: '\\x81\\xa0\\xdc\\xeb\\t\\xbe\\xa7\\xc9j\\xd3\\xb8\\xc93\\x9c\\x93\\x87p\\xd3\\xac\\x82j\\xcd\\xfc\\xafZ\\xe6\\xfc\\xa3l\\xdf\\xae\\x9fK\\xdb\\xbd\\x9f+\\xc3'\n"
     ]
    },
    {
     "name": "stdout",
     "output_type": "stream",
     "text": [
      "{\"cmd\":\"Olympics DSX HeartBeat\"}\n",
      "{\"cmd\":\"Olympics DSX HeartBeat\"}\n",
      "<type 'str'>\n",
      "{u'cmd': u'Olympics DSX HeartBeat'}\n",
      "Olympics DSX HeartBeat\n"
     ]
    },
    {
     "name": "stderr",
     "output_type": "stream",
     "text": [
      "send: '\\x81\\xa0\\x17\\xa9\\x13Il\\x8bp$s\\x8b)kX\\xc5j$g\\xc0p:7\\xed@\\x117\\xe1v(e\\xddQ,v\\xdd14'\n"
     ]
    },
    {
     "name": "stdout",
     "output_type": "stream",
     "text": [
      "{\"cmd\":\"Olympics DSX HeartBeat\"}\n",
      "{\"cmd\":\"Olympics DSX HeartBeat\"}\n",
      "<type 'str'>\n",
      "{u'cmd': u'Olympics DSX HeartBeat'}\n",
      "Olympics DSX HeartBeat\n"
     ]
    },
    {
     "name": "stderr",
     "output_type": "stream",
     "text": [
      "send: '\\x81\\xa0G\\x15\\xc0\\t<7\\xa3d#7\\xfa+\\x08y\\xb9d7|\\xa3zgQ\\x93Qg]\\xa5h5a\\x82l&a\\xe2t'\n"
     ]
    },
    {
     "name": "stdout",
     "output_type": "stream",
     "text": [
      "{\"cmd\":\"Olympics DSX HeartBeat\"}\n",
      "{\"cmd\":\"Olympics DSX HeartBeat\"}\n",
      "<type 'str'>\n",
      "{u'cmd': u'Olympics DSX HeartBeat'}\n",
      "Olympics DSX HeartBeat\n"
     ]
    },
    {
     "name": "stderr",
     "output_type": "stream",
     "text": [
      "send: '\\x81\\xa0N\\x19\\x95+5;\\xf6F*;\\xaf\\t\\x01u\\xecF>p\\xf6Xn]\\xc6snQ\\xf0J<m\\xd7N/m\\xb7V'\n"
     ]
    },
    {
     "name": "stdout",
     "output_type": "stream",
     "text": [
      "{\"cmd\":\"Olympics DSX HeartBeat\"}\n",
      "{\"cmd\":\"Olympics DSX HeartBeat\"}\n",
      "<type 'str'>\n",
      "{u'cmd': u'Olympics DSX HeartBeat'}\n",
      "Olympics DSX HeartBeat\n"
     ]
    },
    {
     "name": "stderr",
     "output_type": "stream",
     "text": [
      "send: '\\x81\\xa0\\xa4/\\xcd\\x9f\\xdf\\r\\xae\\xf2\\xc0\\r\\xf7\\xbd\\xebC\\xb4\\xf2\\xd4F\\xae\\xec\\x84k\\x9e\\xc7\\x84g\\xa8\\xfe\\xd6[\\x8f\\xfa\\xc5[\\xef\\xe2'\n"
     ]
    },
    {
     "name": "stdout",
     "output_type": "stream",
     "text": [
      "{\"cmd\":\"Olympics DSX HeartBeat\"}\n",
      "{\"cmd\":\"Olympics DSX HeartBeat\"}\n",
      "<type 'str'>\n",
      "{u'cmd': u'Olympics DSX HeartBeat'}\n",
      "Olympics DSX HeartBeat\n"
     ]
    },
    {
     "name": "stderr",
     "output_type": "stream",
     "text": [
      "send: '\\x81\\xa0X\\x92\\xd5i#\\xb0\\xb6\\x04<\\xb0\\xefK\\x17\\xfe\\xac\\x04(\\xfb\\xb6\\x1ax\\xd6\\x861x\\xda\\xb0\\x08*\\xe6\\x97\\x0c9\\xe6\\xf7\\x14'\n"
     ]
    },
    {
     "name": "stdout",
     "output_type": "stream",
     "text": [
      "{\"cmd\":\"Olympics DSX HeartBeat\"}\n",
      "{\"cmd\":\"Olympics DSX HeartBeat\"}\n",
      "<type 'str'>\n",
      "{u'cmd': u'Olympics DSX HeartBeat'}\n",
      "Olympics DSX HeartBeat\n"
     ]
    },
    {
     "name": "stderr",
     "output_type": "stream",
     "text": [
      "send: '\\x81\\xa0\\xda\\xbf\\x8f8\\xa1\\x9d\\xecU\\xbe\\x9d\\xb5\\x1a\\x95\\xd3\\xf6U\\xaa\\xd6\\xecK\\xfa\\xfb\\xdc`\\xfa\\xf7\\xeaY\\xa8\\xcb\\xcd]\\xbb\\xcb\\xadE'\n"
     ]
    },
    {
     "name": "stdout",
     "output_type": "stream",
     "text": [
      "{\"cmd\":\"Olympics DSX HeartBeat\"}\n",
      "{\"cmd\":\"Olympics DSX HeartBeat\"}\n",
      "<type 'str'>\n",
      "{u'cmd': u'Olympics DSX HeartBeat'}\n",
      "Olympics DSX HeartBeat\n"
     ]
    },
    {
     "name": "stderr",
     "output_type": "stream",
     "text": [
      "send: '\\x81\\xa0\\x9a\\r\\x0f\\x04\\xe1/li\\xfe/5&\\xd5avi\\xeadlw\\xbaI\\\\\\\\\\xbaEje\\xe8yMa\\xfby-y'\n"
     ]
    },
    {
     "name": "stdout",
     "output_type": "stream",
     "text": [
      "{\"cmd\":\"Olympics DSX HeartBeat\"}\n",
      "{\"cmd\":\"Olympics DSX HeartBeat\"}\n",
      "<type 'str'>\n",
      "{u'cmd': u'Olympics DSX HeartBeat'}\n",
      "Olympics DSX HeartBeat\n"
     ]
    },
    {
     "name": "stderr",
     "output_type": "stream",
     "text": [
      "send: '\\x81\\xa0\\x8a\\x14\\xccS\\xf16\\xaf>\\xee6\\xf6q\\xc5x\\xb5>\\xfa}\\xaf \\xaaP\\x9f\\x0b\\xaa\\\\\\xa92\\xf8`\\x8e6\\xeb`\\xee.'\n"
     ]
    },
    {
     "name": "stdout",
     "output_type": "stream",
     "text": [
      "{\"cmd\":\"Olympics DSX HeartBeat\"}\n",
      "{\"cmd\":\"Olympics DSX HeartBeat\"}\n",
      "<type 'str'>\n",
      "{u'cmd': u'Olympics DSX HeartBeat'}\n",
      "Olympics DSX HeartBeat\n"
     ]
    },
    {
     "name": "stderr",
     "output_type": "stream",
     "text": [
      "send: '\\x81\\xa0%\\xa5\\xa1\\xa7^\\x87\\xc2\\xcaA\\x87\\x9b\\x85j\\xc9\\xd8\\xcaU\\xcc\\xc2\\xd4\\x05\\xe1\\xf2\\xff\\x05\\xed\\xc4\\xc6W\\xd1\\xe3\\xc2D\\xd1\\x83\\xda'\n"
     ]
    },
    {
     "name": "stdout",
     "output_type": "stream",
     "text": [
      "{\"cmd\":\"Olympics DSX HeartBeat\"}\n",
      "{\"cmd\":\"Olympics DSX HeartBeat\"}\n",
      "<type 'str'>\n",
      "{u'cmd': u'Olympics DSX HeartBeat'}\n",
      "Olympics DSX HeartBeat\n"
     ]
    },
    {
     "name": "stderr",
     "output_type": "stream",
     "text": [
      "send: '\\x81\\xa0\\x13\\x0275h TXw \\r\\x17\\\\nNXckTF3Fdm3JRTavuPrv\\x15H'\n"
     ]
    },
    {
     "name": "stdout",
     "output_type": "stream",
     "text": [
      "{\"cmd\":\"Olympics DSX HeartBeat\"}\n",
      "{\"cmd\":\"Olympics DSX HeartBeat\"}\n",
      "<type 'str'>\n",
      "{u'cmd': u'Olympics DSX HeartBeat'}\n",
      "Olympics DSX HeartBeat\n"
     ]
    },
    {
     "name": "stderr",
     "output_type": "stream",
     "text": [
      "send: '\\x81\\xa0PU\\xd1\\xaa+w\\xb2\\xc74w\\xeb\\x88\\x1f9\\xa8\\xc7 <\\xb2\\xd9p\\x11\\x82\\xf2p\\x1d\\xb4\\xcb\"!\\x93\\xcf1!\\xf3\\xd7'\n"
     ]
    },
    {
     "name": "stdout",
     "output_type": "stream",
     "text": [
      "{\"cmd\":\"Olympics DSX HeartBeat\"}\n",
      "{\"cmd\":\"Olympics DSX HeartBeat\"}\n",
      "<type 'str'>\n",
      "{u'cmd': u'Olympics DSX HeartBeat'}\n",
      "Olympics DSX HeartBeat\n"
     ]
    },
    {
     "name": "stderr",
     "output_type": "stream",
     "text": [
      "send: '\\x81\\xa0z?6\\x8a\\x01\\x1dU\\xe7\\x1e\\x1d\\x0c\\xa85SO\\xe7\\nVU\\xf9Z{e\\xd2ZwS\\xeb\\x08Kt\\xef\\x1bK\\x14\\xf7'\n"
     ]
    },
    {
     "name": "stdout",
     "output_type": "stream",
     "text": [
      "{\"cmd\":\"Olympics DSX HeartBeat\"}\n",
      "{\"cmd\":\"Olympics DSX HeartBeat\"}\n",
      "<type 'str'>\n",
      "{u'cmd': u'Olympics DSX HeartBeat'}\n",
      "Olympics DSX HeartBeat\n"
     ]
    },
    {
     "name": "stderr",
     "output_type": "stream",
     "text": [
      "send: \"\\x81\\xa0)\\x8b'\\xdcR\\xa9D\\xb1M\\xa9\\x1d\\xfef\\xe7^\\xb1Y\\xe2D\\xaf\\t\\xcft\\x84\\t\\xc3B\\xbd[\\xffe\\xb9H\\xff\\x05\\xa1\"\n"
     ]
    },
    {
     "name": "stdout",
     "output_type": "stream",
     "text": [
      "{\"cmd\":\"Olympics DSX HeartBeat\"}\n",
      "{\"cmd\":\"Olympics DSX HeartBeat\"}\n",
      "<type 'str'>\n",
      "{u'cmd': u'Olympics DSX HeartBeat'}\n",
      "Olympics DSX HeartBeat\n"
     ]
    },
    {
     "name": "stderr",
     "output_type": "stream",
     "text": [
      "send: '\\x81\\xa0\\xe0\\xcc}\\x8c\\x9b\\xee\\x1e\\xe1\\x84\\xeeG\\xae\\xaf\\xa0\\x04\\xe1\\x90\\xa5\\x1e\\xff\\xc0\\x88.\\xd4\\xc0\\x84\\x18\\xed\\x92\\xb8?\\xe9\\x81\\xb8_\\xf1'\n"
     ]
    },
    {
     "name": "stdout",
     "output_type": "stream",
     "text": [
      "{\"cmd\":\"Olympics DSX HeartBeat\"}\n",
      "{\"cmd\":\"Olympics DSX HeartBeat\"}\n",
      "<type 'str'>\n",
      "{u'cmd': u'Olympics DSX HeartBeat'}\n",
      "Olympics DSX HeartBeat\n"
     ]
    },
    {
     "name": "stderr",
     "output_type": "stream",
     "text": [
      "send: '\\x81\\xa0\\x16\\xb4\\xa8Xm\\x96\\xcb5r\\x96\\x92zY\\xd8\\xd15f\\xdd\\xcb+6\\xf0\\xfb\\x006\\xfc\\xcd9d\\xc0\\xea=w\\xc0\\x8a%'\n"
     ]
    },
    {
     "name": "stdout",
     "output_type": "stream",
     "text": [
      "{\"cmd\":\"Olympics DSX HeartBeat\"}\n",
      "{\"cmd\":\"Olympics DSX HeartBeat\"}\n",
      "<type 'str'>\n",
      "{u'cmd': u'Olympics DSX HeartBeat'}\n",
      "Olympics DSX HeartBeat\n"
     ]
    },
    {
     "name": "stderr",
     "output_type": "stream",
     "text": [
      "send: '\\x81\\xa0\\x1f4\\xc0\\xb8d\\x16\\xa3\\xd5{\\x16\\xfa\\x9aPX\\xb9\\xd5o]\\xa3\\xcb?p\\x93\\xe0?|\\xa5\\xd9m@\\x82\\xdd~@\\xe2\\xc5'\n"
     ]
    },
    {
     "name": "stdout",
     "output_type": "stream",
     "text": [
      "{\"cmd\":\"Olympics DSX HeartBeat\"}\n",
      "{\"cmd\":\"Olympics DSX HeartBeat\"}\n",
      "<type 'str'>\n",
      "{u'cmd': u'Olympics DSX HeartBeat'}\n",
      "Olympics DSX HeartBeat\n"
     ]
    },
    {
     "name": "stderr",
     "output_type": "stream",
     "text": [
      "send: '\\x81\\xa0\\x9eVN\\x96\\xe5t-\\xfb\\xfatt\\xb4\\xd1:7\\xfb\\xee?-\\xe5\\xbe\\x12\\x1d\\xce\\xbe\\x1e+\\xf7\\xec\"\\x0c\\xf3\\xff\"l\\xeb'\n"
     ]
    },
    {
     "name": "stdout",
     "output_type": "stream",
     "text": [
      "{\"cmd\":\"Olympics DSX HeartBeat\"}\n",
      "{\"cmd\":\"Olympics DSX HeartBeat\"}\n",
      "<type 'str'>\n",
      "{u'cmd': u'Olympics DSX HeartBeat'}\n",
      "Olympics DSX HeartBeat\n"
     ]
    },
    {
     "name": "stderr",
     "output_type": "stream",
     "text": [
      "send: \"\\x81\\xa0\\xca\\x93D\\xf2\\xb1\\xb1'\\x9f\\xae\\xb1~\\xd0\\x85\\xff=\\x9f\\xba\\xfa'\\x81\\xea\\xd7\\x17\\xaa\\xea\\xdb!\\x93\\xb8\\xe7\\x06\\x97\\xab\\xe7f\\x8f\"\n"
     ]
    },
    {
     "name": "stdout",
     "output_type": "stream",
     "text": [
      "{\"cmd\":\"Olympics DSX HeartBeat\"}\n",
      "{\"cmd\":\"Olympics DSX HeartBeat\"}\n",
      "<type 'str'>\n",
      "{u'cmd': u'Olympics DSX HeartBeat'}\n",
      "Olympics DSX HeartBeat\n"
     ]
    },
    {
     "name": "stderr",
     "output_type": "stream",
     "text": [
      "send: '\\x81\\xa0f\\x15\\x11H\\x1d7r%\\x027+j)yh%\\x16|r;FQB\\x10F]t)\\x14aS-\\x07a35'\n"
     ]
    },
    {
     "name": "stdout",
     "output_type": "stream",
     "text": [
      "{\"cmd\":\"Olympics DSX HeartBeat\"}\n",
      "{\"cmd\":\"Olympics DSX HeartBeat\"}\n",
      "<type 'str'>\n",
      "{u'cmd': u'Olympics DSX HeartBeat'}\n",
      "Olympics DSX HeartBeat\n"
     ]
    },
    {
     "name": "stderr",
     "output_type": "stream",
     "text": [
      "send: '\\x81\\xa0H!r\\xd33\\x03\\x11\\xbe,\\x03H\\xf1\\x07M\\x0b\\xbe8H\\x11\\xa0he!\\x8bhi\\x17\\xb2:U0\\xb6)UP\\xae'\n"
     ]
    },
    {
     "name": "stdout",
     "output_type": "stream",
     "text": [
      "{\"cmd\":\"Olympics DSX HeartBeat\"}\n",
      "{\"cmd\":\"Olympics DSX HeartBeat\"}\n",
      "<type 'str'>\n",
      "{u'cmd': u'Olympics DSX HeartBeat'}\n",
      "Olympics DSX HeartBeat\n"
     ]
    },
    {
     "name": "stderr",
     "output_type": "stream",
     "text": [
      "send: '\\x81\\xa0\\xc6V\\xe2\\xe3\\xbdt\\x81\\x8e\\xa2t\\xd8\\xc1\\x89:\\x9b\\x8e\\xb6?\\x81\\x90\\xe6\\x12\\xb1\\xbb\\xe6\\x1e\\x87\\x82\\xb4\"\\xa0\\x86\\xa7\"\\xc0\\x9e'\n"
     ]
    },
    {
     "name": "stdout",
     "output_type": "stream",
     "text": [
      "{\"cmd\":\"Olympics DSX HeartBeat\"}\n",
      "{\"cmd\":\"Olympics DSX HeartBeat\"}\n",
      "<type 'str'>\n",
      "{u'cmd': u'Olympics DSX HeartBeat'}\n",
      "Olympics DSX HeartBeat\n"
     ]
    },
    {
     "name": "stderr",
     "output_type": "stream",
     "text": [
      "send: '\\x81\\xa0\\x1a\\x12\\xf4ga0\\x97\\n~0\\xceEU~\\x8d\\nj{\\x97\\x14:V\\xa7?:Z\\x91\\x06hf\\xb6\\x02{f\\xd6\\x1a'\n"
     ]
    },
    {
     "name": "stdout",
     "output_type": "stream",
     "text": [
      "{\"cmd\":\"Olympics DSX HeartBeat\"}\n",
      "{\"cmd\":\"Olympics DSX HeartBeat\"}\n",
      "<type 'str'>\n",
      "{u'cmd': u'Olympics DSX HeartBeat'}\n",
      "Olympics DSX HeartBeat\n"
     ]
    },
    {
     "name": "stderr",
     "output_type": "stream",
     "text": [
      "send: '\\x81\\xa05\\xd1l\\xdfN\\xf3\\x0f\\xb2Q\\xf3V\\xfdz\\xbd\\x15\\xb2E\\xb8\\x0f\\xac\\x15\\x95?\\x87\\x15\\x99\\t\\xbeG\\xa5.\\xbaT\\xa5N\\xa2'\n"
     ]
    },
    {
     "name": "stdout",
     "output_type": "stream",
     "text": [
      "{\"cmd\":\"Olympics DSX HeartBeat\"}\n",
      "{\"cmd\":\"Olympics DSX HeartBeat\"}\n",
      "<type 'str'>\n",
      "{u'cmd': u'Olympics DSX HeartBeat'}\n",
      "Olympics DSX HeartBeat\n"
     ]
    },
    {
     "name": "stderr",
     "output_type": "stream",
     "text": [
      "send: '\\x81\\xa0\\xc4\\xa1\\x8a\\x9b\\xbf\\x83\\xe9\\xf6\\xa0\\x83\\xb0\\xb9\\x8b\\xcd\\xf3\\xf6\\xb4\\xc8\\xe9\\xe8\\xe4\\xe5\\xd9\\xc3\\xe4\\xe9\\xef\\xfa\\xb6\\xd5\\xc8\\xfe\\xa5\\xd5\\xa8\\xe6'\n"
     ]
    },
    {
     "name": "stdout",
     "output_type": "stream",
     "text": [
      "{\"cmd\":\"Olympics DSX HeartBeat\"}\n",
      "{\"cmd\":\"Olympics DSX HeartBeat\"}\n",
      "<type 'str'>\n",
      "{u'cmd': u'Olympics DSX HeartBeat'}\n",
      "Olympics DSX HeartBeat\n"
     ]
    },
    {
     "name": "stderr",
     "output_type": "stream",
     "text": [
      "send: '\\x81\\xa0\\xc6\\xf5_c\\xbd\\xd7<\\x0e\\xa2\\xd7eA\\x89\\x99&\\x0e\\xb6\\x9c<\\x10\\xe6\\xb1\\x0c;\\xe6\\xbd:\\x02\\xb4\\x81\\x1d\\x06\\xa7\\x81}\\x1e'\n"
     ]
    },
    {
     "name": "stdout",
     "output_type": "stream",
     "text": [
      "{\"cmd\":\"Olympics DSX HeartBeat\"}\n",
      "{\"cmd\":\"Olympics DSX HeartBeat\"}\n",
      "<type 'str'>\n",
      "{u'cmd': u'Olympics DSX HeartBeat'}\n",
      "Olympics DSX HeartBeat\n"
     ]
    },
    {
     "name": "stderr",
     "output_type": "stream",
     "text": [
      "send: '\\x81\\xa0\\xc5\\xc0\\xec\\xe1\\xbe\\xe2\\x8f\\x8c\\xa1\\xe2\\xd6\\xc3\\x8a\\xac\\x95\\x8c\\xb5\\xa9\\x8f\\x92\\xe5\\x84\\xbf\\xb9\\xe5\\x88\\x89\\x80\\xb7\\xb4\\xae\\x84\\xa4\\xb4\\xce\\x9c'\n"
     ]
    },
    {
     "name": "stdout",
     "output_type": "stream",
     "text": [
      "{\"cmd\":\"Olympics DSX HeartBeat\"}\n",
      "{\"cmd\":\"Olympics DSX HeartBeat\"}\n",
      "<type 'str'>\n",
      "{u'cmd': u'Olympics DSX HeartBeat'}\n",
      "Olympics DSX HeartBeat\n"
     ]
    },
    {
     "name": "stderr",
     "output_type": "stream",
     "text": [
      "send: '\\x81\\xa0\\xd4\\n\\xc2\\xd5\\xaf(\\xa1\\xb8\\xb0(\\xf8\\xf7\\x9bf\\xbb\\xb8\\xa4c\\xa1\\xa6\\xf4N\\x91\\x8d\\xf4B\\xa7\\xb4\\xa6~\\x80\\xb0\\xb5~\\xe0\\xa8'\n"
     ]
    },
    {
     "name": "stdout",
     "output_type": "stream",
     "text": [
      "{\"cmd\":\"Olympics DSX HeartBeat\"}\n",
      "{\"cmd\":\"Olympics DSX HeartBeat\"}\n",
      "<type 'str'>\n",
      "{u'cmd': u'Olympics DSX HeartBeat'}\n",
      "Olympics DSX HeartBeat\n"
     ]
    },
    {
     "name": "stderr",
     "output_type": "stream",
     "text": [
      "send: '\\x81\\xa0\\xd7[$\\xd5\\xacyG\\xb8\\xb3y\\x1e\\xf7\\x987]\\xb8\\xa72G\\xa6\\xf7\\x1fw\\x8d\\xf7\\x13A\\xb4\\xa5/f\\xb0\\xb6/\\x06\\xa8'\n"
     ]
    },
    {
     "name": "stdout",
     "output_type": "stream",
     "text": [
      "{\"cmd\":\"Olympics DSX HeartBeat\"}\n",
      "{\"cmd\":\"Olympics DSX HeartBeat\"}\n",
      "<type 'str'>\n",
      "{u'cmd': u'Olympics DSX HeartBeat'}\n",
      "Olympics DSX HeartBeat\n"
     ]
    },
    {
     "name": "stderr",
     "output_type": "stream",
     "text": [
      "send: '\\x81\\xa0\\xf4\\xc6\\x10\\x0e\\x8f\\xe4sc\\x90\\xe4*,\\xbb\\xaaic\\x84\\xafs}\\xd4\\x82CV\\xd4\\x8euo\\x86\\xb2Rk\\x95\\xb22s'\n"
     ]
    },
    {
     "name": "stdout",
     "output_type": "stream",
     "text": [
      "{\"cmd\":\"Olympics DSX HeartBeat\"}\n",
      "{\"cmd\":\"Olympics DSX HeartBeat\"}\n",
      "<type 'str'>\n",
      "{u'cmd': u'Olympics DSX HeartBeat'}\n",
      "Olympics DSX HeartBeat\n"
     ]
    },
    {
     "name": "stderr",
     "output_type": "stream",
     "text": [
      "send: '\\x81\\xa0\\x00z\\xef\\xe9{X\\x8c\\x84dX\\xd5\\xcbO\\x16\\x96\\x84p\\x13\\x8c\\x9a >\\xbc\\xb1 2\\x8a\\x88r\\x0e\\xad\\x8ca\\x0e\\xcd\\x94'\n"
     ]
    },
    {
     "name": "stdout",
     "output_type": "stream",
     "text": [
      "{\"cmd\":\"Olympics DSX HeartBeat\"}\n",
      "{\"cmd\":\"Olympics DSX HeartBeat\"}\n",
      "<type 'str'>\n",
      "{u'cmd': u'Olympics DSX HeartBeat'}\n",
      "Olympics DSX HeartBeat\n"
     ]
    },
    {
     "name": "stderr",
     "output_type": "stream",
     "text": [
      "send: '\\x81\\xa0\"\\xbe\\xeb\\xb6Y\\x9c\\x88\\xdbF\\x9c\\xd1\\x94m\\xd2\\x92\\xdbR\\xd7\\x88\\xc5\\x02\\xfa\\xb8\\xee\\x02\\xf6\\x8e\\xd7P\\xca\\xa9\\xd3C\\xca\\xc9\\xcb'\n"
     ]
    },
    {
     "name": "stdout",
     "output_type": "stream",
     "text": [
      "{\"cmd\":\"Olympics DSX HeartBeat\"}\n",
      "{\"cmd\":\"Olympics DSX HeartBeat\"}\n",
      "<type 'str'>\n",
      "{u'cmd': u'Olympics DSX HeartBeat'}\n",
      "Olympics DSX HeartBeat\n"
     ]
    },
    {
     "name": "stderr",
     "output_type": "stream",
     "text": [
      "send: '\\x81\\xa0\\xce\\xb3\\xaf{\\xb5\\x91\\xcc\\x16\\xaa\\x91\\x95Y\\x81\\xdf\\xd6\\x16\\xbe\\xda\\xcc\\x08\\xee\\xf7\\xfc#\\xee\\xfb\\xca\\x1a\\xbc\\xc7\\xed\\x1e\\xaf\\xc7\\x8d\\x06'\n"
     ]
    },
    {
     "name": "stdout",
     "output_type": "stream",
     "text": [
      "{\"cmd\":\"Olympics DSX HeartBeat\"}\n",
      "{\"cmd\":\"Olympics DSX HeartBeat\"}\n",
      "<type 'str'>\n",
      "{u'cmd': u'Olympics DSX HeartBeat'}\n",
      "Olympics DSX HeartBeat\n"
     ]
    },
    {
     "name": "stderr",
     "output_type": "stream",
     "text": [
      "send: '\\x81\\xa0\\xb1\\xe3N\\x11\\xca\\xc1-|\\xd5\\xc1t3\\xfe\\x8f7|\\xc1\\x8a-b\\x91\\xa7\\x1dI\\x91\\xab+p\\xc3\\x97\\x0ct\\xd0\\x97ll'\n"
     ]
    },
    {
     "name": "stdout",
     "output_type": "stream",
     "text": [
      "{\"cmd\":\"Olympics DSX HeartBeat\"}\n",
      "{\"cmd\":\"Olympics DSX HeartBeat\"}\n",
      "<type 'str'>\n",
      "{u'cmd': u'Olympics DSX HeartBeat'}\n",
      "Olympics DSX HeartBeat\n"
     ]
    },
    {
     "name": "stderr",
     "output_type": "stream",
     "text": [
      "send: '\\x81\\xa0\\xd0u\\xf3\\xaa\\xabW\\x90\\xc7\\xb4W\\xc9\\x88\\x9f\\x19\\x8a\\xc7\\xa0\\x1c\\x90\\xd9\\xf01\\xa0\\xf2\\xf0=\\x96\\xcb\\xa2\\x01\\xb1\\xcf\\xb1\\x01\\xd1\\xd7'\n"
     ]
    },
    {
     "name": "stdout",
     "output_type": "stream",
     "text": [
      "{\"cmd\":\"Olympics DSX HeartBeat\"}\n",
      "{\"cmd\":\"Olympics DSX HeartBeat\"}\n",
      "<type 'str'>\n",
      "{u'cmd': u'Olympics DSX HeartBeat'}\n",
      "Olympics DSX HeartBeat\n"
     ]
    },
    {
     "name": "stderr",
     "output_type": "stream",
     "text": [
      "send: '\\x81\\xa0\\xa0[\\xeca\\xdby\\x8f\\x0c\\xc4y\\xd6C\\xef7\\x95\\x0c\\xd02\\x8f\\x12\\x80\\x1f\\xbf9\\x80\\x13\\x89\\x00\\xd2/\\xae\\x04\\xc1/\\xce\\x1c'\n"
     ]
    },
    {
     "name": "stdout",
     "output_type": "stream",
     "text": [
      "{\"cmd\":\"Olympics DSX HeartBeat\"}\n",
      "{\"cmd\":\"Olympics DSX HeartBeat\"}\n",
      "<type 'str'>\n",
      "{u'cmd': u'Olympics DSX HeartBeat'}\n",
      "Olympics DSX HeartBeat\n"
     ]
    },
    {
     "name": "stderr",
     "output_type": "stream",
     "text": [
      "send: \"\\x81\\xa0\\xc9Z\\x05*\\xb2xfG\\xadx?\\x08\\x866|G\\xb93fY\\xe9\\x1eVr\\xe9\\x12`K\\xbb.GO\\xa8.'W\"\n"
     ]
    },
    {
     "name": "stdout",
     "output_type": "stream",
     "text": [
      "{\"cmd\":\"Olympics DSX HeartBeat\"}\n",
      "{\"cmd\":\"Olympics DSX HeartBeat\"}\n",
      "<type 'str'>\n",
      "{u'cmd': u'Olympics DSX HeartBeat'}\n",
      "Olympics DSX HeartBeat\n"
     ]
    },
    {
     "name": "stderr",
     "output_type": "stream",
     "text": [
      "send: '\\x81\\xa0\\x00>\\xad8{\\x1c\\xceUd\\x1c\\x97\\x1aOR\\xd4UpW\\xceK z\\xfe` v\\xc8YrJ\\xef]aJ\\x8fE'\n"
     ]
    },
    {
     "name": "stdout",
     "output_type": "stream",
     "text": [
      "{\"cmd\":\"Olympics DSX HeartBeat\"}\n",
      "{\"cmd\":\"Olympics DSX HeartBeat\"}\n",
      "<type 'str'>\n",
      "{u'cmd': u'Olympics DSX HeartBeat'}\n",
      "Olympics DSX HeartBeat\n"
     ]
    },
    {
     "name": "stderr",
     "output_type": "stream",
     "text": [
      "send: '\\x81\\xa0\\xff\\xb8\\xc4a\\x84\\x9a\\xa7\\x0c\\x9b\\x9a\\xfeC\\xb0\\xd4\\xbd\\x0c\\x8f\\xd1\\xa7\\x12\\xdf\\xfc\\x979\\xdf\\xf0\\xa1\\x00\\x8d\\xcc\\x86\\x04\\x9e\\xcc\\xe6\\x1c'\n"
     ]
    },
    {
     "name": "stdout",
     "output_type": "stream",
     "text": [
      "{\"cmd\":\"Olympics DSX HeartBeat\"}\n",
      "{\"cmd\":\"Olympics DSX HeartBeat\"}\n",
      "<type 'str'>\n",
      "{u'cmd': u'Olympics DSX HeartBeat'}\n",
      "Olympics DSX HeartBeat\n"
     ]
    },
    {
     "name": "stderr",
     "output_type": "stream",
     "text": [
      "send: '\\x81\\xa0\\xea\\xe1\\xcb\\xec\\x91\\xc3\\xa8\\x81\\x8e\\xc3\\xf1\\xce\\xa5\\x8d\\xb2\\x81\\x9a\\x88\\xa8\\x9f\\xca\\xa5\\x98\\xb4\\xca\\xa9\\xae\\x8d\\x98\\x95\\x89\\x89\\x8b\\x95\\xe9\\x91'\n"
     ]
    },
    {
     "name": "stdout",
     "output_type": "stream",
     "text": [
      "{\"cmd\":\"Olympics DSX HeartBeat\"}\n",
      "{\"cmd\":\"Olympics DSX HeartBeat\"}\n",
      "<type 'str'>\n",
      "{u'cmd': u'Olympics DSX HeartBeat'}\n",
      "Olympics DSX HeartBeat\n"
     ]
    },
    {
     "name": "stderr",
     "output_type": "stream",
     "text": [
      "send: '\\x81\\xa0\\x8av\\x9cW\\xf1T\\xff:\\xeeT\\xa6u\\xc5\\x1a\\xe5:\\xfa\\x1f\\xff$\\xaa2\\xcf\\x0f\\xaa>\\xf96\\xf8\\x02\\xde2\\xeb\\x02\\xbe*'\n"
     ]
    },
    {
     "name": "stdout",
     "output_type": "stream",
     "text": [
      "{\"cmd\":\"Olympics DSX HeartBeat\"}\n",
      "{\"cmd\":\"Olympics DSX HeartBeat\"}\n",
      "<type 'str'>\n",
      "{u'cmd': u'Olympics DSX HeartBeat'}\n",
      "Olympics DSX HeartBeat\n"
     ]
    },
    {
     "name": "stderr",
     "output_type": "stream",
     "text": [
      "send: '\\x81\\xa0\\xef\\xbb@\\x07\\x94\\x99#j\\x8b\\x99z%\\xa0\\xd79j\\x9f\\xd2#t\\xcf\\xff\\x13_\\xcf\\xf3%f\\x9d\\xcf\\x02b\\x8e\\xcfbz'\n",
      "send: '\\x81\\x8e\\xda\\nBn\\x9eY\\x1aN\\x96c1\\x1a\\xbfdb+\\xb4n'\n",
      "error from callback <function on_close at 0x11962ade8>: socket is already closed.\n"
     ]
    },
    {
     "name": "stdout",
     "output_type": "stream",
     "text": [
      "Connection is already closed.\n"
     ]
    },
    {
     "name": "stderr",
     "output_type": "stream",
     "text": [
      "  File \"/Users/neha/miniconda2/lib/python2.7/site-packages/websocket/_app.py\", line 331, in _callback\n",
      "    callback(self, *args)\n",
      "  File \"<ipython-input-46-07e886b74614>\", line 40, in on_close\n",
      "    ws.send(\"DSX Listen End\")\n",
      "  File \"/Users/neha/miniconda2/lib/python2.7/site-packages/websocket/_app.py\", line 153, in send\n",
      "    if not self.sock or self.sock.send(data, opcode) == 0:\n",
      "  File \"/Users/neha/miniconda2/lib/python2.7/site-packages/websocket/_core.py\", line 242, in send\n",
      "    return self.send_frame(frame)\n",
      "  File \"/Users/neha/miniconda2/lib/python2.7/site-packages/websocket/_core.py\", line 267, in send_frame\n",
      "    l = self._send(data)\n",
      "  File \"/Users/neha/miniconda2/lib/python2.7/site-packages/websocket/_core.py\", line 437, in _send\n",
      "    return send(self.sock, data)\n",
      "  File \"/Users/neha/miniconda2/lib/python2.7/site-packages/websocket/_socket.py\", line 114, in send\n",
      "    raise WebSocketConnectionClosedException(\"socket is already closed.\")\n",
      "Unhandled exception in thread started by <function run at 0x11c8c5e60>\n"
     ]
    }
   ],
   "source": [
    "start_websocket_listener()"
   ]
  },
  {
   "cell_type": "code",
   "execution_count": null,
   "metadata": {},
   "outputs": [],
   "source": [
    "\n"
   ]
  },
  {
   "cell_type": "code",
   "execution_count": null,
   "metadata": {},
   "outputs": [],
   "source": []
  },
  {
   "cell_type": "code",
   "execution_count": null,
   "metadata": {},
   "outputs": [],
   "source": []
  },
  {
   "cell_type": "code",
   "execution_count": null,
   "metadata": {},
   "outputs": [],
   "source": []
  },
  {
   "cell_type": "code",
   "execution_count": null,
   "metadata": {},
   "outputs": [],
   "source": []
  }
 ],
 "metadata": {
  "kernelspec": {
   "display_name": "Python 3",
   "language": "python",
   "name": "python3"
  },
  "language_info": {
   "codemirror_mode": {
    "name": "ipython",
    "version": 3
   },
   "file_extension": ".py",
   "mimetype": "text/x-python",
   "name": "python",
   "nbconvert_exporter": "python",
   "pygments_lexer": "ipython3",
   "version": "3.6.5"
  }
 },
 "nbformat": 4,
 "nbformat_minor": 2
}
